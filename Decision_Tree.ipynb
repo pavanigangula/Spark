{
  "nbformat": 4,
  "nbformat_minor": 0,
  "metadata": {
    "colab": {
      "name": "Pavani_Gangula_Session-10_Decision_Tree.ipynb",
      "version": "0.3.2",
      "provenance": [],
      "collapsed_sections": []
    },
    "kernelspec": {
      "name": "python3",
      "display_name": "Python 3"
    }
  },
  "cells": [
    {
      "cell_type": "code",
      "metadata": {
        "id": "FCSO0_ok00Mx",
        "colab_type": "code",
        "outputId": "c920a5d4-c821-4c03-fbcd-98c567da0062",
        "colab": {
          "base_uri": "https://localhost:8080/",
          "height": 221
        }
      },
      "source": [
        "!apt-get update \n",
        "!apt-get install openjdk-8-jdk-headless -qq > /dev/null\n",
        "!wget -q http://apache.osuosl.org/spark/spark-2.2.1/spark-2.2.1-bin-hadoop2.7.tgz\n",
        "!tar xf spark-2.2.1-bin-hadoop2.7.tgz\n",
        "!pip install -q findspark"
      ],
      "execution_count": 0,
      "outputs": [
        {
          "output_type": "stream",
          "text": [
            "Get:1 http://security.ubuntu.com/ubuntu artful-security InRelease [83.2 kB]\n",
            "Hit:2 http://archive.ubuntu.com/ubuntu artful InRelease\n",
            "Get:3 http://archive.ubuntu.com/ubuntu artful-updates InRelease [88.7 kB]\n",
            "Get:4 http://archive.ubuntu.com/ubuntu artful-backports InRelease [74.6 kB]\n",
            "Get:5 http://security.ubuntu.com/ubuntu artful-security/universe Sources [21.5 kB]\n",
            "Get:6 http://security.ubuntu.com/ubuntu artful-security/main amd64 Packages [237 kB]\n",
            "Get:7 http://archive.ubuntu.com/ubuntu artful-updates/universe Sources [46.2 kB]\n",
            "Get:8 http://security.ubuntu.com/ubuntu artful-security/universe amd64 Packages [84.3 kB]\n",
            "Get:9 http://archive.ubuntu.com/ubuntu artful-updates/main amd64 Packages [365 kB]\n",
            "Get:10 http://archive.ubuntu.com/ubuntu artful-updates/universe amd64 Packages [150 kB]\n",
            "Fetched 1,150 kB in 1s (843 kB/s)\n",
            "Reading package lists... Done\n"
          ],
          "name": "stdout"
        }
      ]
    },
    {
      "cell_type": "code",
      "metadata": {
        "id": "V004PhsB06Er",
        "colab_type": "code",
        "colab": {}
      },
      "source": [
        "import os\n",
        "os.environ[\"JAVA_HOME\"] = \"/usr/lib/jvm/java-8-openjdk-amd64\"\n",
        "os.environ[\"SPARK_HOME\"] = \"/content/spark-2.2.1-bin-hadoop2.7\""
      ],
      "execution_count": 0,
      "outputs": []
    },
    {
      "cell_type": "code",
      "metadata": {
        "id": "TIcHwpkW06D7",
        "colab_type": "code",
        "colab": {}
      },
      "source": [
        "import findspark\n",
        "findspark.init()\n",
        "from pyspark.sql import SparkSession\n",
        "spark = SparkSession.builder.master(\"local[*]\").getOrCreate()"
      ],
      "execution_count": 0,
      "outputs": []
    },
    {
      "cell_type": "code",
      "metadata": {
        "id": "SkRs3JV605-H",
        "colab_type": "code",
        "outputId": "63bbe91c-c35a-4194-e03f-c387eda3c77a",
        "colab": {
          "base_uri": "https://localhost:8080/",
          "height": 193
        }
      },
      "source": [
        "sc = spark.sparkContext\n",
        "sc"
      ],
      "execution_count": 0,
      "outputs": [
        {
          "output_type": "execute_result",
          "data": {
            "text/html": [
              "\n",
              "        <div>\n",
              "            <p><b>SparkContext</b></p>\n",
              "\n",
              "            <p><a href=\"http://172.17.0.2:4040\">Spark UI</a></p>\n",
              "\n",
              "            <dl>\n",
              "              <dt>Version</dt>\n",
              "                <dd><code>v2.2.1</code></dd>\n",
              "              <dt>Master</dt>\n",
              "                <dd><code>local[*]</code></dd>\n",
              "              <dt>AppName</dt>\n",
              "                <dd><code>pyspark-shell</code></dd>\n",
              "            </dl>\n",
              "        </div>\n",
              "        "
            ],
            "text/plain": [
              "<SparkContext master=local[*] appName=pyspark-shell>"
            ]
          },
          "metadata": {
            "tags": []
          },
          "execution_count": 4
        }
      ]
    },
    {
      "cell_type": "code",
      "metadata": {
        "id": "ebIOQVw719Uf",
        "colab_type": "code",
        "colab": {}
      },
      "source": [
        "import urllib\n",
        "f = urllib.request.urlretrieve (\"http://kdd.ics.uci.edu/databases/kddcup99/kddcup.data_10_percent.gz\", \"kddcup.data_10_percent.gz\")"
      ],
      "execution_count": 0,
      "outputs": []
    },
    {
      "cell_type": "code",
      "metadata": {
        "id": "SHmEaYxK059k",
        "colab_type": "code",
        "outputId": "d0e2a8b3-e648-4942-acde-d8ae4fc38e1c",
        "colab": {
          "base_uri": "https://localhost:8080/",
          "height": 34
        }
      },
      "source": [
        "data_file = \"./kddcup.data_10_percent.gz\"\n",
        "raw_data = sc.textFile(data_file)\n",
        "\n",
        "print (\"Train data size is \", raw_data.count())"
      ],
      "execution_count": 0,
      "outputs": [
        {
          "output_type": "stream",
          "text": [
            "Train data size is  494021\n"
          ],
          "name": "stdout"
        }
      ]
    },
    {
      "cell_type": "code",
      "metadata": {
        "id": "9PObeEPF2cf2",
        "colab_type": "code",
        "colab": {}
      },
      "source": [
        "ft = urllib.request.urlretrieve(\"http://kdd.ics.uci.edu/databases/kddcup99/corrected.gz\", \"corrected.gz\")"
      ],
      "execution_count": 0,
      "outputs": []
    },
    {
      "cell_type": "code",
      "metadata": {
        "id": "SdET3v9T054S",
        "colab_type": "code",
        "outputId": "71053697-69bc-4d73-f6ba-500c489b1685",
        "colab": {
          "base_uri": "https://localhost:8080/",
          "height": 34
        }
      },
      "source": [
        "test_data_file = \"./corrected.gz\"\n",
        "test_raw_data = sc.textFile(test_data_file)\n",
        "\n",
        "print (\"Test data size is \", test_raw_data.count())"
      ],
      "execution_count": 0,
      "outputs": [
        {
          "output_type": "stream",
          "text": [
            "Test data size is  311029\n"
          ],
          "name": "stdout"
        }
      ]
    },
    {
      "cell_type": "code",
      "metadata": {
        "id": "N_p6QZp925kL",
        "colab_type": "code",
        "colab": {}
      },
      "source": [
        "# Preparing the data"
      ],
      "execution_count": 0,
      "outputs": []
    },
    {
      "cell_type": "code",
      "metadata": {
        "id": "cGhaz5oY053t",
        "colab_type": "code",
        "colab": {}
      },
      "source": [
        "from pyspark.mllib.regression import LabeledPoint\n",
        "from numpy import array\n",
        "\n",
        "csv_data = raw_data.map(lambda x: x.split(\",\"))\n",
        "test_csv_data = test_raw_data.map(lambda x: x.split(\",\"))\n",
        "\n",
        "protocols = csv_data.map(lambda x: x[1]).distinct().collect()    # Collecting all distinct protocols and creating python lists\n",
        "services = csv_data.map(lambda x: x[2]).distinct().collect()     # Collecting all distinct services and creating python lists\n",
        "flags = csv_data.map(lambda x: x[3]).distinct().collect()        # Collecting all distinct flags and creating python lists"
      ],
      "execution_count": 0,
      "outputs": []
    },
    {
      "cell_type": "code",
      "metadata": {
        "id": "TFXbzN3m05y4",
        "colab_type": "code",
        "colab": {}
      },
      "source": [
        "# use the above obtained Python lists in create_labeled_point function\n",
        "\n",
        "def create_labeled_point(line_split):\n",
        "    # leave_out = [41]\n",
        "    clean_line_split = line_split[0:41]\n",
        "    \n",
        "    # convert protocol to numeric categorical variable\n",
        "    try: \n",
        "        clean_line_split[1] = protocols.index(clean_line_split[1])\n",
        "    except:\n",
        "        clean_line_split[1] = len(protocols)\n",
        "        \n",
        "    # convert service to numeric categorical variable\n",
        "    try:\n",
        "        clean_line_split[2] = services.index(clean_line_split[2])\n",
        "    except:\n",
        "        clean_line_split[2] = len(services)\n",
        "    \n",
        "    # convert flag to numeric categorical variable\n",
        "    try:\n",
        "        clean_line_split[3] = flags.index(clean_line_split[3])\n",
        "    except:\n",
        "        clean_line_split[3] = len(flags)\n",
        "    \n",
        "    # convert label to binary label\n",
        "    attack = 1.0\n",
        "    if line_split[41]=='normal.':\n",
        "        attack = 0.0\n",
        "        \n",
        "    return LabeledPoint(attack, array([float(x) for x in clean_line_split]))\n",
        "\n",
        "training_data = csv_data.map(create_labeled_point)\n",
        "test_data = test_csv_data.map(create_labeled_point)"
      ],
      "execution_count": 0,
      "outputs": []
    },
    {
      "cell_type": "code",
      "metadata": {
        "id": "R18ka2yM05yR",
        "colab_type": "code",
        "colab": {}
      },
      "source": [
        "# Training a classifier"
      ],
      "execution_count": 0,
      "outputs": []
    },
    {
      "cell_type": "code",
      "metadata": {
        "id": "BUl3_tG205s1",
        "colab_type": "code",
        "outputId": "b20e19a7-bb72-4d6a-98c7-067974af34ee",
        "colab": {
          "base_uri": "https://localhost:8080/",
          "height": 34
        }
      },
      "source": [
        "from pyspark.mllib.tree import DecisionTree, DecisionTreeModel\n",
        "from time import time\n",
        "\n",
        "# Build the model\n",
        "t0 = time()\n",
        "tree_model = DecisionTree.trainClassifier(training_data, numClasses=2, \n",
        "                                          categoricalFeaturesInfo={1: len(protocols), 2: len(services), 3: len(flags)},\n",
        "                                          impurity='gini', maxDepth=4, maxBins=100)\n",
        "tt = time() - t0\n",
        "\n",
        "print (\"Classifier trained in \",round(tt,3),\" seconds\")"
      ],
      "execution_count": 0,
      "outputs": [
        {
          "output_type": "stream",
          "text": [
            "Classifier trained in  17.526  seconds\n"
          ],
          "name": "stdout"
        }
      ]
    },
    {
      "cell_type": "code",
      "metadata": {
        "id": "ye8yb1EX05sQ",
        "colab_type": "code",
        "colab": {}
      },
      "source": [
        "# Evaluating the model"
      ],
      "execution_count": 0,
      "outputs": []
    },
    {
      "cell_type": "code",
      "metadata": {
        "id": "xjwHv2ZZ05nY",
        "colab_type": "code",
        "colab": {}
      },
      "source": [
        "# using map on the test_data RDD and the model to predict each test point class to measure the classification error on our test data.\n",
        "predictions = tree_model.predict(test_data.map(lambda p: p.features))\n",
        "labels_and_preds = test_data.map(lambda p: p.label).zip(predictions)"
      ],
      "execution_count": 0,
      "outputs": []
    },
    {
      "cell_type": "code",
      "metadata": {
        "id": "gcB0mTAB05m1",
        "colab_type": "code",
        "outputId": "0eb6a867-cbfe-4ef8-dc75-3597d0766b34",
        "colab": {
          "base_uri": "https://localhost:8080/",
          "height": 34
        }
      },
      "source": [
        "# Classification results are returned in pars, with the actual test label and the predicted one. \n",
        "# This is used to calculate the classification error by using filter and count\n",
        "\n",
        "t0 = time()\n",
        "test_accuracy = labels_and_preds.filter(lambda x: x[0] == x[1]).count() / float(test_data.count())\n",
        "tt = time() - t0\n",
        "\n",
        "print (\"Prediction made in \",round(tt,3),\" seconds. Test accuracy is\",round(test_accuracy,4))"
      ],
      "execution_count": 0,
      "outputs": [
        {
          "output_type": "stream",
          "text": [
            "Prediction made in  19.198  seconds. Test accuracy is 0.9186\n"
          ],
          "name": "stdout"
        }
      ]
    },
    {
      "cell_type": "code",
      "metadata": {
        "id": "pe8M8Ics05iA",
        "colab_type": "code",
        "colab": {}
      },
      "source": [
        "# Interpreting the model"
      ],
      "execution_count": 0,
      "outputs": []
    },
    {
      "cell_type": "code",
      "metadata": {
        "id": "XYI0C7kx05hb",
        "colab_type": "code",
        "outputId": "d901c838-4e3f-4785-f0fd-1347dac52765",
        "colab": {
          "base_uri": "https://localhost:8080/",
          "height": 748
        }
      },
      "source": [
        "# obtaining information regarding splits, nodes\n",
        "print(\"Learned classification tree model:\")\n",
        "print(tree_model.toDebugString())"
      ],
      "execution_count": 0,
      "outputs": [
        {
          "output_type": "stream",
          "text": [
            "Learned classification tree model:\n",
            "DecisionTreeModel classifier of depth 4 with 27 nodes\n",
            "  If (feature 22 <= 68.0)\n",
            "   If (feature 25 <= 0.67)\n",
            "    If (feature 9 <= 0.0)\n",
            "     If (feature 36 <= 0.43)\n",
            "      Predict: 0.0\n",
            "     Else (feature 36 > 0.43)\n",
            "      Predict: 1.0\n",
            "    Else (feature 9 > 0.0)\n",
            "     If (feature 4 <= 1091.0)\n",
            "      Predict: 0.0\n",
            "     Else (feature 4 > 1091.0)\n",
            "      Predict: 1.0\n",
            "   Else (feature 25 > 0.67)\n",
            "    If (feature 3 in {0.0,5.0,1.0,2.0,3.0})\n",
            "     If (feature 2 in {0.0,5.0,10.0,1.0,6.0,2.0,30.0,4.0,15.0})\n",
            "      Predict: 0.0\n",
            "     Else (feature 2 not in {0.0,5.0,10.0,1.0,6.0,2.0,30.0,4.0,15.0})\n",
            "      Predict: 1.0\n",
            "    Else (feature 3 not in {0.0,5.0,1.0,2.0,3.0})\n",
            "     If (feature 38 <= 0.06)\n",
            "      Predict: 0.0\n",
            "     Else (feature 38 > 0.06)\n",
            "      Predict: 1.0\n",
            "  Else (feature 22 > 68.0)\n",
            "   If (feature 5 <= 0.0)\n",
            "    If (feature 11 <= 0.0)\n",
            "     Predict: 1.0\n",
            "    Else (feature 11 > 0.0)\n",
            "     Predict: 0.0\n",
            "   Else (feature 5 > 0.0)\n",
            "    If (feature 2 in {0.0,10.0,1.0,3.0,23.0})\n",
            "     If (feature 4 <= 6.0)\n",
            "      Predict: 1.0\n",
            "     Else (feature 4 > 6.0)\n",
            "      Predict: 0.0\n",
            "    Else (feature 2 not in {0.0,10.0,1.0,3.0,23.0})\n",
            "     If (feature 0 <= 338.0)\n",
            "      Predict: 1.0\n",
            "     Else (feature 0 > 338.0)\n",
            "      Predict: 0.0\n",
            "\n"
          ],
          "name": "stdout"
        }
      ]
    },
    {
      "cell_type": "code",
      "metadata": {
        "id": "dSJgcnHb8pfG",
        "colab_type": "code",
        "colab": {}
      },
      "source": [
        "print \"Service 0 is {}\".format(services[0])\n",
        "print \"Service 52 is {}\".format(services[52])"
      ],
      "execution_count": 0,
      "outputs": []
    },
    {
      "cell_type": "code",
      "metadata": {
        "id": "Ssq5n9CZ8pWT",
        "colab_type": "code",
        "colab": {}
      },
      "source": [
        "# Building a minimal model using the three main splits"
      ],
      "execution_count": 0,
      "outputs": []
    },
    {
      "cell_type": "code",
      "metadata": {
        "id": "keIhslTI8pVM",
        "colab_type": "code",
        "colab": {}
      },
      "source": [
        "# building a minimal classification tree with just the main three variables: count, dst_bytes, and flag.\n",
        "def create_labeled_point_minimal(line_split):\n",
        "    # leave_out = [41]\n",
        "    clean_line_split = line_split[3:4] + line_split[5:6] + line_split[22:23]\n",
        "    \n",
        "    # convert flag to numeric categorical variable\n",
        "    try:\n",
        "        clean_line_split[0] = flags.index(clean_line_split[0])\n",
        "    except:\n",
        "        clean_line_split[0] = len(flags)\n",
        "    \n",
        "    # convert label to binary label\n",
        "    attack = 1.0\n",
        "    if line_split[41]=='normal.':\n",
        "        attack = 0.0\n",
        "        \n",
        "    return LabeledPoint(attack, array([float(x) for x in clean_line_split]))\n"
      ],
      "execution_count": 0,
      "outputs": []
    },
    {
      "cell_type": "code",
      "metadata": {
        "id": "cuaH355d-VaZ",
        "colab_type": "code",
        "colab": {}
      },
      "source": [
        "training_data_minimal = csv_data.map(create_labeled_point_minimal)\n",
        "test_data_minimal = test_csv_data.map(create_labeled_point_minimal)"
      ],
      "execution_count": 0,
      "outputs": []
    },
    {
      "cell_type": "code",
      "metadata": {
        "id": "UVYKYghh8pPf",
        "colab_type": "code",
        "outputId": "9b97100f-685a-44e4-d0e7-135ab4a5c588",
        "colab": {
          "base_uri": "https://localhost:8080/",
          "height": 34
        }
      },
      "source": [
        "# Build the model\n",
        "t0 = time()\n",
        "tree_model_minimal = DecisionTree.trainClassifier(training_data_minimal, numClasses=2, \n",
        "                                          categoricalFeaturesInfo={0: len(flags)},\n",
        "                                          impurity='gini', maxDepth=3, maxBins=32)\n",
        "tt = time() - t0\n",
        "\n",
        "print (\"Classifier trained in \",round(tt,3),\" seconds\")"
      ],
      "execution_count": 0,
      "outputs": [
        {
          "output_type": "stream",
          "text": [
            "Classifier trained in  8.484  seconds\n"
          ],
          "name": "stdout"
        }
      ]
    },
    {
      "cell_type": "code",
      "metadata": {
        "id": "5a0539AJ8pOh",
        "colab_type": "code",
        "colab": {}
      },
      "source": [
        "# predicting on the testing data and calculating accuracy\n",
        "predictions_minimal = tree_model_minimal.predict(test_data_minimal.map(lambda p: p.features))\n",
        "labels_and_preds_minimal = test_data_minimal.map(lambda p: p.label).zip(predictions_minimal)"
      ],
      "execution_count": 0,
      "outputs": []
    },
    {
      "cell_type": "code",
      "metadata": {
        "id": "WxEceb7e8pHI",
        "colab_type": "code",
        "outputId": "30122ddc-833c-4f72-a1e2-c5afc6c22202",
        "colab": {
          "base_uri": "https://localhost:8080/",
          "height": 34
        }
      },
      "source": [
        "t0 = time()\n",
        "test_accuracy = labels_and_preds_minimal.filter(lambda x: x[0] == x[1]).count() / float(test_data_minimal.count())\n",
        "tt = time() - t0\n",
        "\n",
        "print (\"Prediction made in \",round(tt,3),\" seconds. Test accuracy is \",round(test_accuracy,4))"
      ],
      "execution_count": 0,
      "outputs": [
        {
          "output_type": "stream",
          "text": [
            "Prediction made in  8.848  seconds. Test accuracy is  0.9143\n"
          ],
          "name": "stdout"
        }
      ]
    },
    {
      "cell_type": "code",
      "metadata": {
        "id": "H0H8vc4c_nky",
        "colab_type": "code",
        "colab": {}
      },
      "source": [
        "# We have trained a classification tree with just the three most important predictors, in half of the time, and with a not so bad accuracy."
      ],
      "execution_count": 0,
      "outputs": []
    }
  ]
}