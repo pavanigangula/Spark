{
  "nbformat": 4,
  "nbformat_minor": 0,
  "metadata": {
    "colab": {
      "name": "Pavani.G(180202007)Final_Assignment.ipynb",
      "version": "0.3.2",
      "provenance": [],
      "collapsed_sections": []
    },
    "kernelspec": {
      "name": "python3",
      "display_name": "Python 3"
    }
  },
  "cells": [
    {
      "cell_type": "code",
      "metadata": {
        "id": "qP4Q3C_Gcf_k",
        "colab_type": "code",
        "outputId": "60fa0792-c196-4688-a8f6-37cc8f988f04",
        "colab": {
          "base_uri": "https://localhost:8080/",
          "height": 51
        }
      },
      "source": [
        "!ls"
      ],
      "execution_count": 0,
      "outputs": [
        {
          "output_type": "stream",
          "text": [
            "sample_data\t\t   spark-2.3.1-bin-hadoop2.7.tgz\r\n",
            "spark-2.3.1-bin-hadoop2.7  spark-2.3.1-bin-hadoop2.7.tgz.1\r\n"
          ],
          "name": "stdout"
        }
      ]
    },
    {
      "cell_type": "code",
      "metadata": {
        "id": "Jqvw_7nQcfsg",
        "colab_type": "code",
        "outputId": "a0eaa3f1-9e67-4c16-9de4-22c597e08798",
        "colab": {
          "base_uri": "https://localhost:8080/",
          "height": 19431
        }
      },
      "source": [
        "!wget -c http://www-us.apache.org/dist/spark/spark-2.3.1/spark-2.3.1-bin-hadoop2.7.tgz\n",
        "!tar -xvf spark-2.3.1-bin-hadoop2.7.tgz\n",
        "!sudo mv spark-2.3.1-bin-hadoop2.7 /usr/local/\n",
        "!sudo ln -s /usr/local/spark-2.3.1-bin-hadoop2.7/ /usr/local/spark\n",
        "!echo 'export SPARK_HOME=/usr/local/spark' >> ~/.bashrc\n",
        "!echo 'export PATH=$PATH:$SPARK_HOME/bin' >> ~/.bashrc\n",
        "!source ~/.bashrc"
      ],
      "execution_count": 0,
      "outputs": [
        {
          "output_type": "stream",
          "text": [
            "--2018-08-24 19:17:57--  http://www-us.apache.org/dist/spark/spark-2.3.1/spark-2.3.1-bin-hadoop2.7.tgz\r\n",
            "Resolving www-us.apache.org (www-us.apache.org)... 40.79.78.1\n",
            "Connecting to www-us.apache.org (www-us.apache.org)|40.79.78.1|:80... connected.\n",
            "HTTP request sent, awaiting response... 206 Partial Content\n",
            "Length: 225883783 (215M), 67031259 (64M) remaining [application/x-gzip]\n",
            "Saving to: ‘spark-2.3.1-bin-hadoop2.7.tgz’\n",
            "\n",
            "spark-2.3.1-bin-had 100%[++++++++++++++=====>] 215.42M  27.9MB/s    in 2.3s    \n",
            "\n",
            "2018-08-24 19:17:59 (27.9 MB/s) - ‘spark-2.3.1-bin-hadoop2.7.tgz’ saved [225883783/225883783]\n",
            "\n",
            "spark-2.3.1-bin-hadoop2.7/\n",
            "spark-2.3.1-bin-hadoop2.7/licenses/\n",
            "spark-2.3.1-bin-hadoop2.7/licenses/LICENSE-heapq.txt\n",
            "spark-2.3.1-bin-hadoop2.7/licenses/LICENSE-graphlib-dot.txt\n",
            "spark-2.3.1-bin-hadoop2.7/licenses/LICENSE-scopt.txt\n",
            "spark-2.3.1-bin-hadoop2.7/licenses/LICENSE-Mockito.txt\n",
            "spark-2.3.1-bin-hadoop2.7/licenses/LICENSE-DPark.txt\n",
            "spark-2.3.1-bin-hadoop2.7/licenses/LICENSE-AnchorJS.txt\n",
            "spark-2.3.1-bin-hadoop2.7/licenses/LICENSE-py4j.txt\n",
            "spark-2.3.1-bin-hadoop2.7/licenses/LICENSE-d3.min.js.txt\n",
            "spark-2.3.1-bin-hadoop2.7/licenses/LICENSE-kryo.txt\n",
            "spark-2.3.1-bin-hadoop2.7/licenses/LICENSE-jpmml-model.txt\n",
            "spark-2.3.1-bin-hadoop2.7/licenses/LICENSE-junit-interface.txt\n",
            "spark-2.3.1-bin-hadoop2.7/licenses/LICENSE-sorttable.js.txt\n",
            "spark-2.3.1-bin-hadoop2.7/licenses/LICENSE-SnapTree.txt\n",
            "spark-2.3.1-bin-hadoop2.7/licenses/LICENSE-pyrolite.txt\n",
            "spark-2.3.1-bin-hadoop2.7/licenses/LICENSE-zstd.txt\n",
            "spark-2.3.1-bin-hadoop2.7/licenses/LICENSE-spire.txt\n",
            "spark-2.3.1-bin-hadoop2.7/licenses/LICENSE-jline.txt\n",
            "spark-2.3.1-bin-hadoop2.7/licenses/LICENSE-reflectasm.txt\n",
            "spark-2.3.1-bin-hadoop2.7/licenses/LICENSE-cloudpickle.txt\n",
            "spark-2.3.1-bin-hadoop2.7/licenses/LICENSE-postgresql.txt\n",
            "spark-2.3.1-bin-hadoop2.7/licenses/LICENSE-sbt-launch-lib.txt\n",
            "spark-2.3.1-bin-hadoop2.7/licenses/LICENSE-jquery.txt\n",
            "spark-2.3.1-bin-hadoop2.7/licenses/LICENSE-modernizr.txt\n",
            "spark-2.3.1-bin-hadoop2.7/licenses/LICENSE-minlog.txt\n",
            "spark-2.3.1-bin-hadoop2.7/licenses/LICENSE-xmlenc.txt\n",
            "spark-2.3.1-bin-hadoop2.7/licenses/LICENSE-jbcrypt.txt\n",
            "spark-2.3.1-bin-hadoop2.7/licenses/LICENSE-netlib.txt\n",
            "spark-2.3.1-bin-hadoop2.7/licenses/LICENSE-slf4j.txt\n",
            "spark-2.3.1-bin-hadoop2.7/licenses/LICENSE-scalacheck.txt\n",
            "spark-2.3.1-bin-hadoop2.7/licenses/LICENSE-f2j.txt\n",
            "spark-2.3.1-bin-hadoop2.7/licenses/LICENSE-dagre-d3.txt\n",
            "spark-2.3.1-bin-hadoop2.7/licenses/LICENSE-scala.txt\n",
            "spark-2.3.1-bin-hadoop2.7/licenses/LICENSE-boto.txt\n",
            "spark-2.3.1-bin-hadoop2.7/licenses/LICENSE-antlr.txt\n",
            "spark-2.3.1-bin-hadoop2.7/licenses/LICENSE-protobuf.txt\n",
            "spark-2.3.1-bin-hadoop2.7/licenses/LICENSE-javolution.txt\n",
            "spark-2.3.1-bin-hadoop2.7/licenses/LICENSE-zstd-jni.txt\n",
            "spark-2.3.1-bin-hadoop2.7/licenses/LICENSE-paranamer.txt\n",
            "spark-2.3.1-bin-hadoop2.7/yarn/\n",
            "spark-2.3.1-bin-hadoop2.7/yarn/spark-2.3.1-yarn-shuffle.jar\n",
            "spark-2.3.1-bin-hadoop2.7/data/\n",
            "spark-2.3.1-bin-hadoop2.7/data/streaming/\n",
            "spark-2.3.1-bin-hadoop2.7/data/streaming/AFINN-111.txt\n",
            "spark-2.3.1-bin-hadoop2.7/data/mllib/\n",
            "spark-2.3.1-bin-hadoop2.7/data/mllib/gmm_data.txt\n",
            "spark-2.3.1-bin-hadoop2.7/data/mllib/streaming_kmeans_data_test.txt\n",
            "spark-2.3.1-bin-hadoop2.7/data/mllib/iris_libsvm.txt\n",
            "spark-2.3.1-bin-hadoop2.7/data/mllib/sample_lda_libsvm_data.txt\n",
            "spark-2.3.1-bin-hadoop2.7/data/mllib/sample_svm_data.txt\n",
            "spark-2.3.1-bin-hadoop2.7/data/mllib/sample_isotonic_regression_libsvm_data.txt\n",
            "spark-2.3.1-bin-hadoop2.7/data/mllib/kmeans_data.txt\n",
            "spark-2.3.1-bin-hadoop2.7/data/mllib/ridge-data/\n",
            "spark-2.3.1-bin-hadoop2.7/data/mllib/ridge-data/lpsa.data\n",
            "spark-2.3.1-bin-hadoop2.7/data/mllib/sample_libsvm_data.txt\n",
            "spark-2.3.1-bin-hadoop2.7/data/mllib/sample_binary_classification_data.txt\n",
            "spark-2.3.1-bin-hadoop2.7/data/mllib/sample_multiclass_classification_data.txt\n",
            "spark-2.3.1-bin-hadoop2.7/data/mllib/sample_movielens_data.txt\n",
            "spark-2.3.1-bin-hadoop2.7/data/mllib/als/\n",
            "spark-2.3.1-bin-hadoop2.7/data/mllib/als/sample_movielens_ratings.txt\n",
            "spark-2.3.1-bin-hadoop2.7/data/mllib/als/test.data\n",
            "spark-2.3.1-bin-hadoop2.7/data/mllib/sample_fpgrowth.txt\n",
            "spark-2.3.1-bin-hadoop2.7/data/mllib/pic_data.txt\n",
            "spark-2.3.1-bin-hadoop2.7/data/mllib/pagerank_data.txt\n",
            "spark-2.3.1-bin-hadoop2.7/data/mllib/sample_linear_regression_data.txt\n",
            "spark-2.3.1-bin-hadoop2.7/data/mllib/sample_kmeans_data.txt\n",
            "spark-2.3.1-bin-hadoop2.7/data/mllib/sample_lda_data.txt\n",
            "spark-2.3.1-bin-hadoop2.7/data/mllib/images/\n",
            "spark-2.3.1-bin-hadoop2.7/data/mllib/images/license.txt\n",
            "spark-2.3.1-bin-hadoop2.7/data/mllib/images/kittens/\n",
            "spark-2.3.1-bin-hadoop2.7/data/mllib/images/kittens/DP153539.jpg\n",
            "spark-2.3.1-bin-hadoop2.7/data/mllib/images/kittens/54893.jpg\n",
            "spark-2.3.1-bin-hadoop2.7/data/mllib/images/kittens/29.5.a_b_EGDP022204.jpg\n",
            "spark-2.3.1-bin-hadoop2.7/data/mllib/images/kittens/not-image.txt\n",
            "spark-2.3.1-bin-hadoop2.7/data/mllib/images/kittens/DP802813.jpg\n",
            "spark-2.3.1-bin-hadoop2.7/data/mllib/images/multi-channel/\n",
            "spark-2.3.1-bin-hadoop2.7/data/mllib/images/multi-channel/grayscale.jpg\n",
            "spark-2.3.1-bin-hadoop2.7/data/mllib/images/multi-channel/chr30.4.184.jpg\n",
            "spark-2.3.1-bin-hadoop2.7/data/mllib/images/multi-channel/BGRA_alpha_60.png\n",
            "spark-2.3.1-bin-hadoop2.7/data/mllib/images/multi-channel/BGRA.png\n",
            "spark-2.3.1-bin-hadoop2.7/data/graphx/\n",
            "spark-2.3.1-bin-hadoop2.7/data/graphx/users.txt\n",
            "spark-2.3.1-bin-hadoop2.7/data/graphx/followers.txt\n",
            "spark-2.3.1-bin-hadoop2.7/bin/\n",
            "spark-2.3.1-bin-hadoop2.7/bin/pyspark\n",
            "spark-2.3.1-bin-hadoop2.7/bin/beeline\n",
            "spark-2.3.1-bin-hadoop2.7/bin/spark-class.cmd\n",
            "spark-2.3.1-bin-hadoop2.7/bin/docker-image-tool.sh\n",
            "spark-2.3.1-bin-hadoop2.7/bin/spark-class\n",
            "spark-2.3.1-bin-hadoop2.7/bin/pyspark2.cmd\n",
            "spark-2.3.1-bin-hadoop2.7/bin/spark-sql2.cmd\n",
            "spark-2.3.1-bin-hadoop2.7/bin/spark-shell2.cmd\n",
            "spark-2.3.1-bin-hadoop2.7/bin/sparkR2.cmd\n",
            "spark-2.3.1-bin-hadoop2.7/bin/run-example.cmd\n",
            "spark-2.3.1-bin-hadoop2.7/bin/sparkR\n",
            "spark-2.3.1-bin-hadoop2.7/bin/spark-submit.cmd\n",
            "spark-2.3.1-bin-hadoop2.7/bin/sparkR.cmd\n",
            "spark-2.3.1-bin-hadoop2.7/bin/spark-submit\n",
            "spark-2.3.1-bin-hadoop2.7/bin/spark-shell.cmd\n",
            "spark-2.3.1-bin-hadoop2.7/bin/spark-submit2.cmd\n",
            "spark-2.3.1-bin-hadoop2.7/bin/load-spark-env.sh\n",
            "spark-2.3.1-bin-hadoop2.7/bin/run-example\n",
            "spark-2.3.1-bin-hadoop2.7/bin/find-spark-home\n",
            "spark-2.3.1-bin-hadoop2.7/bin/load-spark-env.cmd\n",
            "spark-2.3.1-bin-hadoop2.7/bin/beeline.cmd\n",
            "spark-2.3.1-bin-hadoop2.7/bin/find-spark-home.cmd\n",
            "spark-2.3.1-bin-hadoop2.7/bin/spark-sql\n",
            "spark-2.3.1-bin-hadoop2.7/bin/spark-shell\n",
            "spark-2.3.1-bin-hadoop2.7/bin/pyspark.cmd\n",
            "spark-2.3.1-bin-hadoop2.7/bin/spark-class2.cmd\n",
            "spark-2.3.1-bin-hadoop2.7/bin/spark-sql.cmd\n",
            "spark-2.3.1-bin-hadoop2.7/examples/\n",
            "spark-2.3.1-bin-hadoop2.7/examples/src/\n",
            "spark-2.3.1-bin-hadoop2.7/examples/src/main/\n",
            "spark-2.3.1-bin-hadoop2.7/examples/src/main/scala/\n",
            "spark-2.3.1-bin-hadoop2.7/examples/src/main/scala/org/\n",
            "spark-2.3.1-bin-hadoop2.7/examples/src/main/scala/org/apache/\n",
            "spark-2.3.1-bin-hadoop2.7/examples/src/main/scala/org/apache/spark/\n",
            "spark-2.3.1-bin-hadoop2.7/examples/src/main/scala/org/apache/spark/examples/\n",
            "spark-2.3.1-bin-hadoop2.7/examples/src/main/scala/org/apache/spark/examples/SparkLR.scala\n",
            "spark-2.3.1-bin-hadoop2.7/examples/src/main/scala/org/apache/spark/examples/LocalPi.scala\n",
            "spark-2.3.1-bin-hadoop2.7/examples/src/main/scala/org/apache/spark/examples/SparkPageRank.scala\n",
            "spark-2.3.1-bin-hadoop2.7/examples/src/main/scala/org/apache/spark/examples/LocalFileLR.scala\n",
            "spark-2.3.1-bin-hadoop2.7/examples/src/main/scala/org/apache/spark/examples/SparkTC.scala\n",
            "spark-2.3.1-bin-hadoop2.7/examples/src/main/scala/org/apache/spark/examples/BroadcastTest.scala\n",
            "spark-2.3.1-bin-hadoop2.7/examples/src/main/scala/org/apache/spark/examples/pythonconverters/\n",
            "spark-2.3.1-bin-hadoop2.7/examples/src/main/scala/org/apache/spark/examples/pythonconverters/AvroConverters.scala\n",
            "spark-2.3.1-bin-hadoop2.7/examples/src/main/scala/org/apache/spark/examples/SparkALS.scala\n",
            "spark-2.3.1-bin-hadoop2.7/examples/src/main/scala/org/apache/spark/examples/LocalALS.scala\n",
            "spark-2.3.1-bin-hadoop2.7/examples/src/main/scala/org/apache/spark/examples/streaming/\n",
            "spark-2.3.1-bin-hadoop2.7/examples/src/main/scala/org/apache/spark/examples/streaming/RecoverableNetworkWordCount.scala\n",
            "spark-2.3.1-bin-hadoop2.7/examples/src/main/scala/org/apache/spark/examples/streaming/clickstream/\n",
            "spark-2.3.1-bin-hadoop2.7/examples/src/main/scala/org/apache/spark/examples/streaming/clickstream/PageViewGenerator.scala\n",
            "spark-2.3.1-bin-hadoop2.7/examples/src/main/scala/org/apache/spark/examples/streaming/clickstream/PageViewStream.scala\n",
            "spark-2.3.1-bin-hadoop2.7/examples/src/main/scala/org/apache/spark/examples/streaming/StreamingExamples.scala\n",
            "spark-2.3.1-bin-hadoop2.7/examples/src/main/scala/org/apache/spark/examples/streaming/RawNetworkGrep.scala\n",
            "spark-2.3.1-bin-hadoop2.7/examples/src/main/scala/org/apache/spark/examples/streaming/DirectKafkaWordCount.scala\n",
            "spark-2.3.1-bin-hadoop2.7/examples/src/main/scala/org/apache/spark/examples/streaming/NetworkWordCount.scala\n",
            "spark-2.3.1-bin-hadoop2.7/examples/src/main/scala/org/apache/spark/examples/streaming/HdfsWordCount.scala\n",
            "spark-2.3.1-bin-hadoop2.7/examples/src/main/scala/org/apache/spark/examples/streaming/CustomReceiver.scala\n",
            "spark-2.3.1-bin-hadoop2.7/examples/src/main/scala/org/apache/spark/examples/streaming/QueueStream.scala\n",
            "spark-2.3.1-bin-hadoop2.7/examples/src/main/scala/org/apache/spark/examples/streaming/StatefulNetworkWordCount.scala\n",
            "spark-2.3.1-bin-hadoop2.7/examples/src/main/scala/org/apache/spark/examples/streaming/SqlNetworkWordCount.scala\n",
            "spark-2.3.1-bin-hadoop2.7/examples/src/main/scala/org/apache/spark/examples/DFSReadWriteTest.scala\n",
            "spark-2.3.1-bin-hadoop2.7/examples/src/main/scala/org/apache/spark/examples/ml/\n",
            "spark-2.3.1-bin-hadoop2.7/examples/src/main/scala/org/apache/spark/examples/ml/TokenizerExample.scala\n",
            "spark-2.3.1-bin-hadoop2.7/examples/src/main/scala/org/apache/spark/examples/ml/BucketedRandomProjectionLSHExample.scala\n",
            "spark-2.3.1-bin-hadoop2.7/examples/src/main/scala/org/apache/spark/examples/ml/VectorSizeHintExample.scala\n",
            "spark-2.3.1-bin-hadoop2.7/examples/src/main/scala/org/apache/spark/examples/ml/NGramExample.scala\n",
            "spark-2.3.1-bin-hadoop2.7/examples/src/main/scala/org/apache/spark/examples/ml/RFormulaExample.scala\n",
            "spark-2.3.1-bin-hadoop2.7/examples/src/main/scala/org/apache/spark/examples/ml/StringIndexerExample.scala\n",
            "spark-2.3.1-bin-hadoop2.7/examples/src/main/scala/org/apache/spark/examples/ml/GBTExample.scala\n",
            "spark-2.3.1-bin-hadoop2.7/examples/src/main/scala/org/apache/spark/examples/ml/PCAExample.scala\n",
            "spark-2.3.1-bin-hadoop2.7/examples/src/main/scala/org/apache/spark/examples/ml/VectorIndexerExample.scala\n",
            "spark-2.3.1-bin-hadoop2.7/examples/src/main/scala/org/apache/spark/examples/ml/UnaryTransformerExample.scala\n",
            "spark-2.3.1-bin-hadoop2.7/examples/src/main/scala/org/apache/spark/examples/ml/SQLTransformerExample.scala\n",
            "spark-2.3.1-bin-hadoop2.7/examples/src/main/scala/org/apache/spark/examples/ml/StandardScalerExample.scala\n",
            "spark-2.3.1-bin-hadoop2.7/examples/src/main/scala/org/apache/spark/examples/ml/ModelSelectionViaCrossValidationExample.scala\n",
            "spark-2.3.1-bin-hadoop2.7/examples/src/main/scala/org/apache/spark/examples/ml/ChiSquareTestExample.scala\n",
            "spark-2.3.1-bin-hadoop2.7/examples/src/main/scala/org/apache/spark/examples/ml/MulticlassLogisticRegressionWithElasticNetExample.scala\n",
            "spark-2.3.1-bin-hadoop2.7/examples/src/main/scala/org/apache/spark/examples/ml/StopWordsRemoverExample.scala\n",
            "spark-2.3.1-bin-hadoop2.7/examples/src/main/scala/org/apache/spark/examples/ml/DataFrameExample.scala\n",
            "spark-2.3.1-bin-hadoop2.7/examples/src/main/scala/org/apache/spark/examples/ml/RandomForestRegressorExample.scala\n",
            "spark-2.3.1-bin-hadoop2.7/examples/src/main/scala/org/apache/spark/examples/ml/AFTSurvivalRegressionExample.scala\n",
            "spark-2.3.1-bin-hadoop2.7/examples/src/main/scala/org/apache/spark/examples/ml/ModelSelectionViaTrainValidationSplitExample.scala\n",
            "spark-2.3.1-bin-hadoop2.7/examples/src/main/scala/org/apache/spark/examples/ml/VectorAssemblerExample.scala\n",
            "spark-2.3.1-bin-hadoop2.7/examples/src/main/scala/org/apache/spark/examples/ml/LinearRegressionExample.scala\n",
            "spark-2.3.1-bin-hadoop2.7/examples/src/main/scala/org/apache/spark/examples/ml/VectorSlicerExample.scala\n",
            "spark-2.3.1-bin-hadoop2.7/examples/src/main/scala/org/apache/spark/examples/ml/LinearRegressionWithElasticNetExample.scala\n",
            "spark-2.3.1-bin-hadoop2.7/examples/src/main/scala/org/apache/spark/examples/ml/ChiSqSelectorExample.scala\n",
            "spark-2.3.1-bin-hadoop2.7/examples/src/main/scala/org/apache/spark/examples/ml/InteractionExample.scala\n",
            "spark-2.3.1-bin-hadoop2.7/examples/src/main/scala/org/apache/spark/examples/ml/CorrelationExample.scala\n",
            "spark-2.3.1-bin-hadoop2.7/examples/src/main/scala/org/apache/spark/examples/ml/FPGrowthExample.scala\n",
            "spark-2.3.1-bin-hadoop2.7/examples/src/main/scala/org/apache/spark/examples/ml/RandomForestClassifierExample.scala\n",
            "spark-2.3.1-bin-hadoop2.7/examples/src/main/scala/org/apache/spark/examples/ml/DecisionTreeExample.scala\n",
            "spark-2.3.1-bin-hadoop2.7/examples/src/main/scala/org/apache/spark/examples/ml/FeatureHasherExample.scala\n",
            "spark-2.3.1-bin-hadoop2.7/examples/src/main/scala/org/apache/spark/examples/ml/LinearSVCExample.scala\n",
            "spark-2.3.1-bin-hadoop2.7/examples/src/main/scala/org/apache/spark/examples/ml/RandomForestExample.scala\n",
            "spark-2.3.1-bin-hadoop2.7/examples/src/main/scala/org/apache/spark/examples/ml/ElementwiseProductExample.scala\n",
            "spark-2.3.1-bin-hadoop2.7/examples/src/main/scala/org/apache/spark/examples/ml/PipelineExample.scala\n",
            "spark-2.3.1-bin-hadoop2.7/examples/src/main/scala/org/apache/spark/examples/ml/QuantileDiscretizerExample.scala\n",
            "spark-2.3.1-bin-hadoop2.7/examples/src/main/scala/org/apache/spark/examples/ml/EstimatorTransformerParamExample.scala\n",
            "spark-2.3.1-bin-hadoop2.7/examples/src/main/scala/org/apache/spark/examples/ml/DecisionTreeRegressionExample.scala\n",
            "spark-2.3.1-bin-hadoop2.7/examples/src/main/scala/org/apache/spark/examples/ml/MaxAbsScalerExample.scala\n",
            "spark-2.3.1-bin-hadoop2.7/examples/src/main/scala/org/apache/spark/examples/ml/IsotonicRegressionExample.scala\n",
            "spark-2.3.1-bin-hadoop2.7/examples/src/main/scala/org/apache/spark/examples/ml/TfIdfExample.scala\n",
            "spark-2.3.1-bin-hadoop2.7/examples/src/main/scala/org/apache/spark/examples/ml/NormalizerExample.scala\n",
            "spark-2.3.1-bin-hadoop2.7/examples/src/main/scala/org/apache/spark/examples/ml/Word2VecExample.scala\n",
            "spark-2.3.1-bin-hadoop2.7/examples/src/main/scala/org/apache/spark/examples/ml/MinMaxScalerExample.scala\n",
            "spark-2.3.1-bin-hadoop2.7/examples/src/main/scala/org/apache/spark/examples/ml/DecisionTreeClassificationExample.scala\n",
            "spark-2.3.1-bin-hadoop2.7/examples/src/main/scala/org/apache/spark/examples/ml/IndexToStringExample.scala\n",
            "spark-2.3.1-bin-hadoop2.7/examples/src/main/scala/org/apache/spark/examples/ml/GeneralizedLinearRegressionExample.scala\n",
            "spark-2.3.1-bin-hadoop2.7/examples/src/main/scala/org/apache/spark/examples/ml/ALSExample.scala\n",
            "spark-2.3.1-bin-hadoop2.7/examples/src/main/scala/org/apache/spark/examples/ml/KMeansExample.scala\n",
            "spark-2.3.1-bin-hadoop2.7/examples/src/main/scala/org/apache/spark/examples/ml/LogisticRegressionExample.scala\n",
            "spark-2.3.1-bin-hadoop2.7/examples/src/main/scala/org/apache/spark/examples/ml/OneVsRestExample.scala\n",
            "spark-2.3.1-bin-hadoop2.7/examples/src/main/scala/org/apache/spark/examples/ml/GradientBoostedTreeRegressorExample.scala\n",
            "spark-2.3.1-bin-hadoop2.7/examples/src/main/scala/org/apache/spark/examples/ml/CountVectorizerExample.scala\n",
            "spark-2.3.1-bin-hadoop2.7/examples/src/main/scala/org/apache/spark/examples/ml/NaiveBayesExample.scala\n",
            "spark-2.3.1-bin-hadoop2.7/examples/src/main/scala/org/apache/spark/examples/ml/LogisticRegressionSummaryExample.scala\n",
            "spark-2.3.1-bin-hadoop2.7/examples/src/main/scala/org/apache/spark/examples/ml/LDAExample.scala\n",
            "spark-2.3.1-bin-hadoop2.7/examples/src/main/scala/org/apache/spark/examples/ml/OneHotEncoderEstimatorExample.scala\n",
            "spark-2.3.1-bin-hadoop2.7/examples/src/main/scala/org/apache/spark/examples/ml/MinHashLSHExample.scala\n",
            "spark-2.3.1-bin-hadoop2.7/examples/src/main/scala/org/apache/spark/examples/ml/PolynomialExpansionExample.scala\n",
            "spark-2.3.1-bin-hadoop2.7/examples/src/main/scala/org/apache/spark/examples/ml/BinarizerExample.scala\n",
            "spark-2.3.1-bin-hadoop2.7/examples/src/main/scala/org/apache/spark/examples/ml/GradientBoostedTreeClassifierExample.scala\n",
            "spark-2.3.1-bin-hadoop2.7/examples/src/main/scala/org/apache/spark/examples/ml/LogisticRegressionWithElasticNetExample.scala\n",
            "spark-2.3.1-bin-hadoop2.7/examples/src/main/scala/org/apache/spark/examples/ml/DeveloperApiExample.scala\n",
            "spark-2.3.1-bin-hadoop2.7/examples/src/main/scala/org/apache/spark/examples/ml/BucketizerExample.scala\n",
            "spark-2.3.1-bin-hadoop2.7/examples/src/main/scala/org/apache/spark/examples/ml/GaussianMixtureExample.scala\n",
            "spark-2.3.1-bin-hadoop2.7/examples/src/main/scala/org/apache/spark/examples/ml/MultilayerPerceptronClassifierExample.scala\n",
            "spark-2.3.1-bin-hadoop2.7/examples/src/main/scala/org/apache/spark/examples/ml/BisectingKMeansExample.scala\n",
            "spark-2.3.1-bin-hadoop2.7/examples/src/main/scala/org/apache/spark/examples/ml/ImputerExample.scala\n",
            "spark-2.3.1-bin-hadoop2.7/examples/src/main/scala/org/apache/spark/examples/ml/DCTExample.scala\n",
            "spark-2.3.1-bin-hadoop2.7/examples/src/main/scala/org/apache/spark/examples/LocalLR.scala\n",
            "spark-2.3.1-bin-hadoop2.7/examples/src/main/scala/org/apache/spark/examples/mllib/\n",
            "spark-2.3.1-bin-hadoop2.7/examples/src/main/scala/org/apache/spark/examples/mllib/CorrelationsExample.scala\n",
            "spark-2.3.1-bin-hadoop2.7/examples/src/main/scala/org/apache/spark/examples/mllib/AssociationRulesExample.scala\n",
            "spark-2.3.1-bin-hadoop2.7/examples/src/main/scala/org/apache/spark/examples/mllib/MultivariateSummarizer.scala\n",
            "spark-2.3.1-bin-hadoop2.7/examples/src/main/scala/org/apache/spark/examples/mllib/AbstractParams.scala\n",
            "spark-2.3.1-bin-hadoop2.7/examples/src/main/scala/org/apache/spark/examples/mllib/MulticlassMetricsExample.scala\n",
            "spark-2.3.1-bin-hadoop2.7/examples/src/main/scala/org/apache/spark/examples/mllib/LinearRegression.scala\n",
            "spark-2.3.1-bin-hadoop2.7/examples/src/main/scala/org/apache/spark/examples/mllib/GradientBoostingRegressionExample.scala\n",
            "spark-2.3.1-bin-hadoop2.7/examples/src/main/scala/org/apache/spark/examples/mllib/StreamingLogisticRegression.scala\n",
            "spark-2.3.1-bin-hadoop2.7/examples/src/main/scala/org/apache/spark/examples/mllib/MovieLensALS.scala\n",
            "spark-2.3.1-bin-hadoop2.7/examples/src/main/scala/org/apache/spark/examples/mllib/MultiLabelMetricsExample.scala\n",
            "spark-2.3.1-bin-hadoop2.7/examples/src/main/scala/org/apache/spark/examples/mllib/StreamingLinearRegressionExample.scala\n",
            "spark-2.3.1-bin-hadoop2.7/examples/src/main/scala/org/apache/spark/examples/mllib/TFIDFExample.scala\n",
            "spark-2.3.1-bin-hadoop2.7/examples/src/main/scala/org/apache/spark/examples/mllib/PCAExample.scala\n",
            "spark-2.3.1-bin-hadoop2.7/examples/src/main/scala/org/apache/spark/examples/mllib/SVMWithSGDExample.scala\n",
            "spark-2.3.1-bin-hadoop2.7/examples/src/main/scala/org/apache/spark/examples/mllib/RankingMetricsExample.scala\n",
            "spark-2.3.1-bin-hadoop2.7/examples/src/main/scala/org/apache/spark/examples/mllib/DecisionTreeRunner.scala\n",
            "spark-2.3.1-bin-hadoop2.7/examples/src/main/scala/org/apache/spark/examples/mllib/LatentDirichletAllocationExample.scala\n",
            "spark-2.3.1-bin-hadoop2.7/examples/src/main/scala/org/apache/spark/examples/mllib/SVDExample.scala\n",
            "spark-2.3.1-bin-hadoop2.7/examples/src/main/scala/org/apache/spark/examples/mllib/PMMLModelExportExample.scala\n",
            "spark-2.3.1-bin-hadoop2.7/examples/src/main/scala/org/apache/spark/examples/mllib/RandomForestRegressionExample.scala\n",
            "spark-2.3.1-bin-hadoop2.7/examples/src/main/scala/org/apache/spark/examples/mllib/StandardScalerExample.scala\n",
            "spark-2.3.1-bin-hadoop2.7/examples/src/main/scala/org/apache/spark/examples/mllib/BinaryClassificationMetricsExample.scala\n",
            "spark-2.3.1-bin-hadoop2.7/examples/src/main/scala/org/apache/spark/examples/mllib/SimpleFPGrowth.scala\n",
            "spark-2.3.1-bin-hadoop2.7/examples/src/main/scala/org/apache/spark/examples/mllib/Correlations.scala\n",
            "spark-2.3.1-bin-hadoop2.7/examples/src/main/scala/org/apache/spark/examples/mllib/HypothesisTestingKolmogorovSmirnovTestExample.scala\n",
            "spark-2.3.1-bin-hadoop2.7/examples/src/main/scala/org/apache/spark/examples/mllib/PrefixSpanExample.scala\n",
            "spark-2.3.1-bin-hadoop2.7/examples/src/main/scala/org/apache/spark/examples/mllib/PCAOnSourceVectorExample.scala\n",
            "spark-2.3.1-bin-hadoop2.7/examples/src/main/scala/org/apache/spark/examples/mllib/StreamingTestExample.scala\n",
            "spark-2.3.1-bin-hadoop2.7/examples/src/main/scala/org/apache/spark/examples/mllib/GradientBoostingClassificationExample.scala\n",
            "spark-2.3.1-bin-hadoop2.7/examples/src/main/scala/org/apache/spark/examples/mllib/SparseNaiveBayes.scala\n",
            "spark-2.3.1-bin-hadoop2.7/examples/src/main/scala/org/apache/spark/examples/mllib/SummaryStatisticsExample.scala\n",
            "spark-2.3.1-bin-hadoop2.7/examples/src/main/scala/org/apache/spark/examples/mllib/ChiSqSelectorExample.scala\n",
            "spark-2.3.1-bin-hadoop2.7/examples/src/main/scala/org/apache/spark/examples/mllib/LBFGSExample.scala\n",
            "spark-2.3.1-bin-hadoop2.7/examples/src/main/scala/org/apache/spark/examples/mllib/RandomForestClassificationExample.scala\n",
            "spark-2.3.1-bin-hadoop2.7/examples/src/main/scala/org/apache/spark/examples/mllib/FPGrowthExample.scala\n",
            "spark-2.3.1-bin-hadoop2.7/examples/src/main/scala/org/apache/spark/examples/mllib/DenseKMeans.scala\n",
            "spark-2.3.1-bin-hadoop2.7/examples/src/main/scala/org/apache/spark/examples/mllib/ElementwiseProductExample.scala\n",
            "spark-2.3.1-bin-hadoop2.7/examples/src/main/scala/org/apache/spark/examples/mllib/DecisionTreeRegressionExample.scala\n",
            "spark-2.3.1-bin-hadoop2.7/examples/src/main/scala/org/apache/spark/examples/mllib/PCAOnRowMatrixExample.scala\n",
            "spark-2.3.1-bin-hadoop2.7/examples/src/main/scala/org/apache/spark/examples/mllib/IsotonicRegressionExample.scala\n",
            "spark-2.3.1-bin-hadoop2.7/examples/src/main/scala/org/apache/spark/examples/mllib/StreamingKMeansExample.scala\n",
            "spark-2.3.1-bin-hadoop2.7/examples/src/main/scala/org/apache/spark/examples/mllib/NormalizerExample.scala\n",
            "spark-2.3.1-bin-hadoop2.7/examples/src/main/scala/org/apache/spark/examples/mllib/Word2VecExample.scala\n",
            "spark-2.3.1-bin-hadoop2.7/examples/src/main/scala/org/apache/spark/examples/mllib/LogisticRegressionWithLBFGSExample.scala\n",
            "spark-2.3.1-bin-hadoop2.7/examples/src/main/scala/org/apache/spark/examples/mllib/SampledRDDs.scala\n",
            "spark-2.3.1-bin-hadoop2.7/examples/src/main/scala/org/apache/spark/examples/mllib/DecisionTreeClassificationExample.scala\n",
            "spark-2.3.1-bin-hadoop2.7/examples/src/main/scala/org/apache/spark/examples/mllib/RandomRDDGeneration.scala\n",
            "spark-2.3.1-bin-hadoop2.7/examples/src/main/scala/org/apache/spark/examples/mllib/KernelDensityEstimationExample.scala\n",
            "spark-2.3.1-bin-hadoop2.7/examples/src/main/scala/org/apache/spark/examples/mllib/LinearRegressionWithSGDExample.scala\n",
            "spark-2.3.1-bin-hadoop2.7/examples/src/main/scala/org/apache/spark/examples/mllib/KMeansExample.scala\n",
            "spark-2.3.1-bin-hadoop2.7/examples/src/main/scala/org/apache/spark/examples/mllib/CosineSimilarity.scala\n",
            "spark-2.3.1-bin-hadoop2.7/examples/src/main/scala/org/apache/spark/examples/mllib/NaiveBayesExample.scala\n",
            "spark-2.3.1-bin-hadoop2.7/examples/src/main/scala/org/apache/spark/examples/mllib/LDAExample.scala\n",
            "spark-2.3.1-bin-hadoop2.7/examples/src/main/scala/org/apache/spark/examples/mllib/BinaryClassification.scala\n",
            "spark-2.3.1-bin-hadoop2.7/examples/src/main/scala/org/apache/spark/examples/mllib/TallSkinnyPCA.scala\n",
            "spark-2.3.1-bin-hadoop2.7/examples/src/main/scala/org/apache/spark/examples/mllib/TallSkinnySVD.scala\n",
            "spark-2.3.1-bin-hadoop2.7/examples/src/main/scala/org/apache/spark/examples/mllib/PowerIterationClusteringExample.scala\n",
            "spark-2.3.1-bin-hadoop2.7/examples/src/main/scala/org/apache/spark/examples/mllib/StratifiedSamplingExample.scala\n",
            "spark-2.3.1-bin-hadoop2.7/examples/src/main/scala/org/apache/spark/examples/mllib/GaussianMixtureExample.scala\n",
            "spark-2.3.1-bin-hadoop2.7/examples/src/main/scala/org/apache/spark/examples/mllib/GradientBoostedTreesRunner.scala\n",
            "spark-2.3.1-bin-hadoop2.7/examples/src/main/scala/org/apache/spark/examples/mllib/BisectingKMeansExample.scala\n",
            "spark-2.3.1-bin-hadoop2.7/examples/src/main/scala/org/apache/spark/examples/mllib/RecommendationExample.scala\n",
            "spark-2.3.1-bin-hadoop2.7/examples/src/main/scala/org/apache/spark/examples/mllib/HypothesisTestingExample.scala\n",
            "spark-2.3.1-bin-hadoop2.7/examples/src/main/scala/org/apache/spark/examples/mllib/RegressionMetricsExample.scala\n",
            "spark-2.3.1-bin-hadoop2.7/examples/src/main/scala/org/apache/spark/examples/SimpleSkewedGroupByTest.scala\n",
            "spark-2.3.1-bin-hadoop2.7/examples/src/main/scala/org/apache/spark/examples/MultiBroadcastTest.scala\n",
            "spark-2.3.1-bin-hadoop2.7/examples/src/main/scala/org/apache/spark/examples/LogQuery.scala\n",
            "spark-2.3.1-bin-hadoop2.7/examples/src/main/scala/org/apache/spark/examples/HdfsTest.scala\n",
            "spark-2.3.1-bin-hadoop2.7/examples/src/main/scala/org/apache/spark/examples/sql/\n",
            "spark-2.3.1-bin-hadoop2.7/examples/src/main/scala/org/apache/spark/examples/sql/streaming/\n",
            "spark-2.3.1-bin-hadoop2.7/examples/src/main/scala/org/apache/spark/examples/sql/streaming/StructuredKafkaWordCount.scala\n",
            "spark-2.3.1-bin-hadoop2.7/examples/src/main/scala/org/apache/spark/examples/sql/streaming/StructuredSessionization.scala\n",
            "spark-2.3.1-bin-hadoop2.7/examples/src/main/scala/org/apache/spark/examples/sql/streaming/StructuredNetworkWordCountWindowed.scala\n",
            "spark-2.3.1-bin-hadoop2.7/examples/src/main/scala/org/apache/spark/examples/sql/streaming/StructuredNetworkWordCount.scala\n",
            "spark-2.3.1-bin-hadoop2.7/examples/src/main/scala/org/apache/spark/examples/sql/UserDefinedTypedAggregation.scala\n",
            "spark-2.3.1-bin-hadoop2.7/examples/src/main/scala/org/apache/spark/examples/sql/hive/\n",
            "spark-2.3.1-bin-hadoop2.7/examples/src/main/scala/org/apache/spark/examples/sql/hive/SparkHiveExample.scala\n",
            "spark-2.3.1-bin-hadoop2.7/examples/src/main/scala/org/apache/spark/examples/sql/UserDefinedUntypedAggregation.scala\n",
            "spark-2.3.1-bin-hadoop2.7/examples/src/main/scala/org/apache/spark/examples/sql/SQLDataSourceExample.scala\n",
            "spark-2.3.1-bin-hadoop2.7/examples/src/main/scala/org/apache/spark/examples/sql/SparkSQLExample.scala\n",
            "spark-2.3.1-bin-hadoop2.7/examples/src/main/scala/org/apache/spark/examples/sql/RDDRelation.scala\n",
            "spark-2.3.1-bin-hadoop2.7/examples/src/main/scala/org/apache/spark/examples/LocalKMeans.scala\n",
            "spark-2.3.1-bin-hadoop2.7/examples/src/main/scala/org/apache/spark/examples/graphx/\n",
            "spark-2.3.1-bin-hadoop2.7/examples/src/main/scala/org/apache/spark/examples/graphx/PageRankExample.scala\n",
            "spark-2.3.1-bin-hadoop2.7/examples/src/main/scala/org/apache/spark/examples/graphx/LiveJournalPageRank.scala\n",
            "spark-2.3.1-bin-hadoop2.7/examples/src/main/scala/org/apache/spark/examples/graphx/ConnectedComponentsExample.scala\n",
            "spark-2.3.1-bin-hadoop2.7/examples/src/main/scala/org/apache/spark/examples/graphx/SSSPExample.scala\n",
            "spark-2.3.1-bin-hadoop2.7/examples/src/main/scala/org/apache/spark/examples/graphx/TriangleCountingExample.scala\n",
            "spark-2.3.1-bin-hadoop2.7/examples/src/main/scala/org/apache/spark/examples/graphx/ComprehensiveExample.scala\n",
            "spark-2.3.1-bin-hadoop2.7/examples/src/main/scala/org/apache/spark/examples/graphx/AggregateMessagesExample.scala\n",
            "spark-2.3.1-bin-hadoop2.7/examples/src/main/scala/org/apache/spark/examples/graphx/SynthBenchmark.scala\n",
            "spark-2.3.1-bin-hadoop2.7/examples/src/main/scala/org/apache/spark/examples/graphx/Analytics.scala\n",
            "spark-2.3.1-bin-hadoop2.7/examples/src/main/scala/org/apache/spark/examples/SkewedGroupByTest.scala\n",
            "spark-2.3.1-bin-hadoop2.7/examples/src/main/scala/org/apache/spark/examples/GroupByTest.scala\n",
            "spark-2.3.1-bin-hadoop2.7/examples/src/main/scala/org/apache/spark/examples/DriverSubmissionTest.scala\n",
            "spark-2.3.1-bin-hadoop2.7/examples/src/main/scala/org/apache/spark/examples/SparkHdfsLR.scala\n",
            "spark-2.3.1-bin-hadoop2.7/examples/src/main/scala/org/apache/spark/examples/SparkPi.scala\n",
            "spark-2.3.1-bin-hadoop2.7/examples/src/main/scala/org/apache/spark/examples/ExceptionHandlingTest.scala\n",
            "spark-2.3.1-bin-hadoop2.7/examples/src/main/scala/org/apache/spark/examples/SparkKMeans.scala\n",
            "spark-2.3.1-bin-hadoop2.7/examples/src/main/java/\n",
            "spark-2.3.1-bin-hadoop2.7/examples/src/main/java/org/\n",
            "spark-2.3.1-bin-hadoop2.7/examples/src/main/java/org/apache/\n",
            "spark-2.3.1-bin-hadoop2.7/examples/src/main/java/org/apache/spark/\n",
            "spark-2.3.1-bin-hadoop2.7/examples/src/main/java/org/apache/spark/examples/\n",
            "spark-2.3.1-bin-hadoop2.7/examples/src/main/java/org/apache/spark/examples/JavaSparkPi.java\n",
            "spark-2.3.1-bin-hadoop2.7/examples/src/main/java/org/apache/spark/examples/JavaHdfsLR.java\n",
            "spark-2.3.1-bin-hadoop2.7/examples/src/main/java/org/apache/spark/examples/streaming/\n",
            "spark-2.3.1-bin-hadoop2.7/examples/src/main/java/org/apache/spark/examples/streaming/JavaNetworkWordCount.java\n",
            "spark-2.3.1-bin-hadoop2.7/examples/src/main/java/org/apache/spark/examples/streaming/JavaQueueStream.java\n",
            "spark-2.3.1-bin-hadoop2.7/examples/src/main/java/org/apache/spark/examples/streaming/JavaDirectKafkaWordCount.java\n",
            "spark-2.3.1-bin-hadoop2.7/examples/src/main/java/org/apache/spark/examples/streaming/JavaRecoverableNetworkWordCount.java\n",
            "spark-2.3.1-bin-hadoop2.7/examples/src/main/java/org/apache/spark/examples/streaming/JavaRecord.java\n",
            "spark-2.3.1-bin-hadoop2.7/examples/src/main/java/org/apache/spark/examples/streaming/JavaStatefulNetworkWordCount.java\n",
            "spark-2.3.1-bin-hadoop2.7/examples/src/main/java/org/apache/spark/examples/streaming/JavaSqlNetworkWordCount.java\n",
            "spark-2.3.1-bin-hadoop2.7/examples/src/main/java/org/apache/spark/examples/streaming/JavaCustomReceiver.java\n",
            "spark-2.3.1-bin-hadoop2.7/examples/src/main/java/org/apache/spark/examples/JavaStatusTrackerDemo.java\n",
            "spark-2.3.1-bin-hadoop2.7/examples/src/main/java/org/apache/spark/examples/ml/\n",
            "spark-2.3.1-bin-hadoop2.7/examples/src/main/java/org/apache/spark/examples/ml/JavaStopWordsRemoverExample.java\n",
            "spark-2.3.1-bin-hadoop2.7/examples/src/main/java/org/apache/spark/examples/ml/JavaOneVsRestExample.java\n",
            "spark-2.3.1-bin-hadoop2.7/examples/src/main/java/org/apache/spark/examples/ml/JavaLogisticRegressionWithElasticNetExample.java\n",
            "spark-2.3.1-bin-hadoop2.7/examples/src/main/java/org/apache/spark/examples/ml/JavaAFTSurvivalRegressionExample.java\n",
            "spark-2.3.1-bin-hadoop2.7/examples/src/main/java/org/apache/spark/examples/ml/JavaGaussianMixtureExample.java\n",
            "spark-2.3.1-bin-hadoop2.7/examples/src/main/java/org/apache/spark/examples/ml/JavaVectorSizeHintExample.java\n",
            "spark-2.3.1-bin-hadoop2.7/examples/src/main/java/org/apache/spark/examples/ml/JavaStringIndexerExample.java\n",
            "spark-2.3.1-bin-hadoop2.7/examples/src/main/java/org/apache/spark/examples/ml/JavaCountVectorizerExample.java\n",
            "spark-2.3.1-bin-hadoop2.7/examples/src/main/java/org/apache/spark/examples/ml/JavaNaiveBayesExample.java\n",
            "spark-2.3.1-bin-hadoop2.7/examples/src/main/java/org/apache/spark/examples/ml/JavaMaxAbsScalerExample.java\n",
            "spark-2.3.1-bin-hadoop2.7/examples/src/main/java/org/apache/spark/examples/ml/JavaRandomForestClassifierExample.java\n",
            "spark-2.3.1-bin-hadoop2.7/examples/src/main/java/org/apache/spark/examples/ml/JavaChiSqSelectorExample.java\n",
            "spark-2.3.1-bin-hadoop2.7/examples/src/main/java/org/apache/spark/examples/ml/JavaMinHashLSHExample.java\n",
            "spark-2.3.1-bin-hadoop2.7/examples/src/main/java/org/apache/spark/examples/ml/JavaBucketedRandomProjectionLSHExample.java\n",
            "spark-2.3.1-bin-hadoop2.7/examples/src/main/java/org/apache/spark/examples/ml/JavaBinarizerExample.java\n",
            "spark-2.3.1-bin-hadoop2.7/examples/src/main/java/org/apache/spark/examples/ml/JavaFeatureHasherExample.java\n",
            "spark-2.3.1-bin-hadoop2.7/examples/src/main/java/org/apache/spark/examples/ml/JavaFPGrowthExample.java\n",
            "spark-2.3.1-bin-hadoop2.7/examples/src/main/java/org/apache/spark/examples/ml/JavaEstimatorTransformerParamExample.java\n",
            "spark-2.3.1-bin-hadoop2.7/examples/src/main/java/org/apache/spark/examples/ml/JavaIsotonicRegressionExample.java\n",
            "spark-2.3.1-bin-hadoop2.7/examples/src/main/java/org/apache/spark/examples/ml/JavaKMeansExample.java\n",
            "spark-2.3.1-bin-hadoop2.7/examples/src/main/java/org/apache/spark/examples/ml/JavaTfIdfExample.java\n",
            "spark-2.3.1-bin-hadoop2.7/examples/src/main/java/org/apache/spark/examples/ml/JavaRandomForestRegressorExample.java\n",
            "spark-2.3.1-bin-hadoop2.7/examples/src/main/java/org/apache/spark/examples/ml/JavaCorrelationExample.java\n",
            "spark-2.3.1-bin-hadoop2.7/examples/src/main/java/org/apache/spark/examples/ml/JavaElementwiseProductExample.java\n",
            "spark-2.3.1-bin-hadoop2.7/examples/src/main/java/org/apache/spark/examples/ml/JavaLDAExample.java\n",
            "spark-2.3.1-bin-hadoop2.7/examples/src/main/java/org/apache/spark/examples/ml/JavaChiSquareTestExample.java\n",
            "spark-2.3.1-bin-hadoop2.7/examples/src/main/java/org/apache/spark/examples/ml/JavaIndexToStringExample.java\n",
            "spark-2.3.1-bin-hadoop2.7/examples/src/main/java/org/apache/spark/examples/ml/JavaGradientBoostedTreeClassifierExample.java\n",
            "spark-2.3.1-bin-hadoop2.7/examples/src/main/java/org/apache/spark/examples/ml/JavaPCAExample.java\n",
            "spark-2.3.1-bin-hadoop2.7/examples/src/main/java/org/apache/spark/examples/ml/JavaDocument.java\n",
            "spark-2.3.1-bin-hadoop2.7/examples/src/main/java/org/apache/spark/examples/ml/JavaLogisticRegressionSummaryExample.java\n",
            "spark-2.3.1-bin-hadoop2.7/examples/src/main/java/org/apache/spark/examples/ml/JavaModelSelectionViaCrossValidationExample.java\n",
            "spark-2.3.1-bin-hadoop2.7/examples/src/main/java/org/apache/spark/examples/ml/JavaALSExample.java\n",
            "spark-2.3.1-bin-hadoop2.7/examples/src/main/java/org/apache/spark/examples/ml/JavaMulticlassLogisticRegressionWithElasticNetExample.java\n",
            "spark-2.3.1-bin-hadoop2.7/examples/src/main/java/org/apache/spark/examples/ml/JavaMinMaxScalerExample.java\n",
            "spark-2.3.1-bin-hadoop2.7/examples/src/main/java/org/apache/spark/examples/ml/JavaLabeledDocument.java\n",
            "spark-2.3.1-bin-hadoop2.7/examples/src/main/java/org/apache/spark/examples/ml/JavaNGramExample.java\n",
            "spark-2.3.1-bin-hadoop2.7/examples/src/main/java/org/apache/spark/examples/ml/JavaTokenizerExample.java\n",
            "spark-2.3.1-bin-hadoop2.7/examples/src/main/java/org/apache/spark/examples/ml/JavaPolynomialExpansionExample.java\n",
            "spark-2.3.1-bin-hadoop2.7/examples/src/main/java/org/apache/spark/examples/ml/JavaImputerExample.java\n",
            "spark-2.3.1-bin-hadoop2.7/examples/src/main/java/org/apache/spark/examples/ml/JavaMultilayerPerceptronClassifierExample.java\n",
            "spark-2.3.1-bin-hadoop2.7/examples/src/main/java/org/apache/spark/examples/ml/JavaBisectingKMeansExample.java\n",
            "spark-2.3.1-bin-hadoop2.7/examples/src/main/java/org/apache/spark/examples/ml/JavaPipelineExample.java\n",
            "spark-2.3.1-bin-hadoop2.7/examples/src/main/java/org/apache/spark/examples/ml/JavaNormalizerExample.java\n",
            "spark-2.3.1-bin-hadoop2.7/examples/src/main/java/org/apache/spark/examples/ml/JavaSQLTransformerExample.java\n",
            "spark-2.3.1-bin-hadoop2.7/examples/src/main/java/org/apache/spark/examples/ml/JavaWord2VecExample.java\n",
            "spark-2.3.1-bin-hadoop2.7/examples/src/main/java/org/apache/spark/examples/ml/JavaOneHotEncoderEstimatorExample.java\n",
            "spark-2.3.1-bin-hadoop2.7/examples/src/main/java/org/apache/spark/examples/ml/JavaQuantileDiscretizerExample.java\n",
            "spark-2.3.1-bin-hadoop2.7/examples/src/main/java/org/apache/spark/examples/ml/JavaVectorAssemblerExample.java\n",
            "spark-2.3.1-bin-hadoop2.7/examples/src/main/java/org/apache/spark/examples/ml/JavaGeneralizedLinearRegressionExample.java\n",
            "spark-2.3.1-bin-hadoop2.7/examples/src/main/java/org/apache/spark/examples/ml/JavaRFormulaExample.java\n",
            "spark-2.3.1-bin-hadoop2.7/examples/src/main/java/org/apache/spark/examples/ml/JavaInteractionExample.java\n",
            "spark-2.3.1-bin-hadoop2.7/examples/src/main/java/org/apache/spark/examples/ml/JavaGradientBoostedTreeRegressorExample.java\n",
            "spark-2.3.1-bin-hadoop2.7/examples/src/main/java/org/apache/spark/examples/ml/JavaBucketizerExample.java\n",
            "spark-2.3.1-bin-hadoop2.7/examples/src/main/java/org/apache/spark/examples/ml/JavaStandardScalerExample.java\n",
            "spark-2.3.1-bin-hadoop2.7/examples/src/main/java/org/apache/spark/examples/ml/JavaVectorIndexerExample.java\n",
            "spark-2.3.1-bin-hadoop2.7/examples/src/main/java/org/apache/spark/examples/ml/JavaLinearRegressionWithElasticNetExample.java\n",
            "spark-2.3.1-bin-hadoop2.7/examples/src/main/java/org/apache/spark/examples/ml/JavaVectorSlicerExample.java\n",
            "spark-2.3.1-bin-hadoop2.7/examples/src/main/java/org/apache/spark/examples/ml/JavaModelSelectionViaTrainValidationSplitExample.java\n",
            "spark-2.3.1-bin-hadoop2.7/examples/src/main/java/org/apache/spark/examples/ml/JavaDecisionTreeClassificationExample.java\n",
            "spark-2.3.1-bin-hadoop2.7/examples/src/main/java/org/apache/spark/examples/ml/JavaLinearSVCExample.java\n",
            "spark-2.3.1-bin-hadoop2.7/examples/src/main/java/org/apache/spark/examples/ml/JavaDecisionTreeRegressionExample.java\n",
            "spark-2.3.1-bin-hadoop2.7/examples/src/main/java/org/apache/spark/examples/ml/JavaDCTExample.java\n",
            "spark-2.3.1-bin-hadoop2.7/examples/src/main/java/org/apache/spark/examples/JavaPageRank.java\n",
            "spark-2.3.1-bin-hadoop2.7/examples/src/main/java/org/apache/spark/examples/mllib/\n",
            "spark-2.3.1-bin-hadoop2.7/examples/src/main/java/org/apache/spark/examples/mllib/JavaRecommendationExample.java\n",
            "spark-2.3.1-bin-hadoop2.7/examples/src/main/java/org/apache/spark/examples/mllib/JavaRankingMetricsExample.java\n",
            "spark-2.3.1-bin-hadoop2.7/examples/src/main/java/org/apache/spark/examples/mllib/JavaGaussianMixtureExample.java\n",
            "spark-2.3.1-bin-hadoop2.7/examples/src/main/java/org/apache/spark/examples/mllib/JavaMultiLabelClassificationMetricsExample.java\n",
            "spark-2.3.1-bin-hadoop2.7/examples/src/main/java/org/apache/spark/examples/mllib/JavaNaiveBayesExample.java\n",
            "spark-2.3.1-bin-hadoop2.7/examples/src/main/java/org/apache/spark/examples/mllib/JavaChiSqSelectorExample.java\n",
            "spark-2.3.1-bin-hadoop2.7/examples/src/main/java/org/apache/spark/examples/mllib/JavaGradientBoostingRegressionExample.java\n",
            "spark-2.3.1-bin-hadoop2.7/examples/src/main/java/org/apache/spark/examples/mllib/JavaRandomForestClassificationExample.java\n",
            "spark-2.3.1-bin-hadoop2.7/examples/src/main/java/org/apache/spark/examples/mllib/JavaAssociationRulesExample.java\n",
            "spark-2.3.1-bin-hadoop2.7/examples/src/main/java/org/apache/spark/examples/mllib/JavaIsotonicRegressionExample.java\n",
            "spark-2.3.1-bin-hadoop2.7/examples/src/main/java/org/apache/spark/examples/mllib/JavaKMeansExample.java\n",
            "spark-2.3.1-bin-hadoop2.7/examples/src/main/java/org/apache/spark/examples/mllib/JavaCorrelationsExample.java\n",
            "spark-2.3.1-bin-hadoop2.7/examples/src/main/java/org/apache/spark/examples/mllib/JavaBinaryClassificationMetricsExample.java\n",
            "spark-2.3.1-bin-hadoop2.7/examples/src/main/java/org/apache/spark/examples/mllib/JavaRegressionMetricsExample.java\n",
            "spark-2.3.1-bin-hadoop2.7/examples/src/main/java/org/apache/spark/examples/mllib/JavaElementwiseProductExample.java\n",
            "spark-2.3.1-bin-hadoop2.7/examples/src/main/java/org/apache/spark/examples/mllib/JavaPCAExample.java\n",
            "spark-2.3.1-bin-hadoop2.7/examples/src/main/java/org/apache/spark/examples/mllib/JavaPowerIterationClusteringExample.java\n",
            "spark-2.3.1-bin-hadoop2.7/examples/src/main/java/org/apache/spark/examples/mllib/JavaMulticlassClassificationMetricsExample.java\n",
            "spark-2.3.1-bin-hadoop2.7/examples/src/main/java/org/apache/spark/examples/mllib/JavaHypothesisTestingKolmogorovSmirnovTestExample.java\n",
            "spark-2.3.1-bin-hadoop2.7/examples/src/main/java/org/apache/spark/examples/mllib/JavaLBFGSExample.java\n",
            "spark-2.3.1-bin-hadoop2.7/examples/src/main/java/org/apache/spark/examples/mllib/JavaHypothesisTestingExample.java\n",
            "spark-2.3.1-bin-hadoop2.7/examples/src/main/java/org/apache/spark/examples/mllib/JavaSummaryStatisticsExample.java\n",
            "spark-2.3.1-bin-hadoop2.7/examples/src/main/java/org/apache/spark/examples/mllib/JavaBisectingKMeansExample.java\n",
            "spark-2.3.1-bin-hadoop2.7/examples/src/main/java/org/apache/spark/examples/mllib/JavaStratifiedSamplingExample.java\n",
            "spark-2.3.1-bin-hadoop2.7/examples/src/main/java/org/apache/spark/examples/mllib/JavaGradientBoostingClassificationExample.java\n",
            "spark-2.3.1-bin-hadoop2.7/examples/src/main/java/org/apache/spark/examples/mllib/JavaSimpleFPGrowth.java\n",
            "spark-2.3.1-bin-hadoop2.7/examples/src/main/java/org/apache/spark/examples/mllib/JavaSVMWithSGDExample.java\n",
            "spark-2.3.1-bin-hadoop2.7/examples/src/main/java/org/apache/spark/examples/mllib/JavaPrefixSpanExample.java\n",
            "spark-2.3.1-bin-hadoop2.7/examples/src/main/java/org/apache/spark/examples/mllib/JavaLatentDirichletAllocationExample.java\n",
            "spark-2.3.1-bin-hadoop2.7/examples/src/main/java/org/apache/spark/examples/mllib/JavaALS.java\n",
            "spark-2.3.1-bin-hadoop2.7/examples/src/main/java/org/apache/spark/examples/mllib/JavaLinearRegressionWithSGDExample.java\n",
            "spark-2.3.1-bin-hadoop2.7/examples/src/main/java/org/apache/spark/examples/mllib/JavaKernelDensityEstimationExample.java\n",
            "spark-2.3.1-bin-hadoop2.7/examples/src/main/java/org/apache/spark/examples/mllib/JavaRandomForestRegressionExample.java\n",
            "spark-2.3.1-bin-hadoop2.7/examples/src/main/java/org/apache/spark/examples/mllib/JavaLogisticRegressionWithLBFGSExample.java\n",
            "spark-2.3.1-bin-hadoop2.7/examples/src/main/java/org/apache/spark/examples/mllib/JavaDecisionTreeClassificationExample.java\n",
            "spark-2.3.1-bin-hadoop2.7/examples/src/main/java/org/apache/spark/examples/mllib/JavaSVDExample.java\n",
            "spark-2.3.1-bin-hadoop2.7/examples/src/main/java/org/apache/spark/examples/mllib/JavaStreamingTestExample.java\n",
            "spark-2.3.1-bin-hadoop2.7/examples/src/main/java/org/apache/spark/examples/mllib/JavaDecisionTreeRegressionExample.java\n",
            "spark-2.3.1-bin-hadoop2.7/examples/src/main/java/org/apache/spark/examples/sql/\n",
            "spark-2.3.1-bin-hadoop2.7/examples/src/main/java/org/apache/spark/examples/sql/JavaSQLDataSourceExample.java\n",
            "spark-2.3.1-bin-hadoop2.7/examples/src/main/java/org/apache/spark/examples/sql/streaming/\n",
            "spark-2.3.1-bin-hadoop2.7/examples/src/main/java/org/apache/spark/examples/sql/streaming/JavaStructuredNetworkWordCount.java\n",
            "spark-2.3.1-bin-hadoop2.7/examples/src/main/java/org/apache/spark/examples/sql/streaming/JavaStructuredKafkaWordCount.java\n",
            "spark-2.3.1-bin-hadoop2.7/examples/src/main/java/org/apache/spark/examples/sql/streaming/JavaStructuredSessionization.java\n",
            "spark-2.3.1-bin-hadoop2.7/examples/src/main/java/org/apache/spark/examples/sql/streaming/JavaStructuredNetworkWordCountWindowed.java\n",
            "spark-2.3.1-bin-hadoop2.7/examples/src/main/java/org/apache/spark/examples/sql/hive/\n",
            "spark-2.3.1-bin-hadoop2.7/examples/src/main/java/org/apache/spark/examples/sql/hive/JavaSparkHiveExample.java\n",
            "spark-2.3.1-bin-hadoop2.7/examples/src/main/java/org/apache/spark/examples/sql/JavaSparkSQLExample.java\n",
            "spark-2.3.1-bin-hadoop2.7/examples/src/main/java/org/apache/spark/examples/sql/JavaUserDefinedTypedAggregation.java\n",
            "spark-2.3.1-bin-hadoop2.7/examples/src/main/java/org/apache/spark/examples/sql/JavaUserDefinedUntypedAggregation.java\n",
            "spark-2.3.1-bin-hadoop2.7/examples/src/main/java/org/apache/spark/examples/JavaTC.java\n",
            "spark-2.3.1-bin-hadoop2.7/examples/src/main/java/org/apache/spark/examples/JavaLogQuery.java\n",
            "spark-2.3.1-bin-hadoop2.7/examples/src/main/java/org/apache/spark/examples/JavaWordCount.java\n",
            "spark-2.3.1-bin-hadoop2.7/examples/src/main/resources/\n",
            "spark-2.3.1-bin-hadoop2.7/examples/src/main/resources/users.avro\n",
            "spark-2.3.1-bin-hadoop2.7/examples/src/main/resources/people.csv\n",
            "spark-2.3.1-bin-hadoop2.7/examples/src/main/resources/user.avsc\n",
            "spark-2.3.1-bin-hadoop2.7/examples/src/main/resources/full_user.avsc\n",
            "spark-2.3.1-bin-hadoop2.7/examples/src/main/resources/users.parquet\n",
            "spark-2.3.1-bin-hadoop2.7/examples/src/main/resources/kv1.txt\n",
            "spark-2.3.1-bin-hadoop2.7/examples/src/main/resources/people.json\n",
            "spark-2.3.1-bin-hadoop2.7/examples/src/main/resources/people.txt\n",
            "spark-2.3.1-bin-hadoop2.7/examples/src/main/resources/employees.json\n",
            "spark-2.3.1-bin-hadoop2.7/examples/src/main/r/\n",
            "spark-2.3.1-bin-hadoop2.7/examples/src/main/r/streaming/\n",
            "spark-2.3.1-bin-hadoop2.7/examples/src/main/r/streaming/structured_network_wordcount.R\n",
            "spark-2.3.1-bin-hadoop2.7/examples/src/main/r/ml/\n",
            "spark-2.3.1-bin-hadoop2.7/examples/src/main/r/ml/isoreg.R\n",
            "spark-2.3.1-bin-hadoop2.7/examples/src/main/r/ml/decisionTree.R\n",
            "spark-2.3.1-bin-hadoop2.7/examples/src/main/r/ml/mlp.R\n",
            "spark-2.3.1-bin-hadoop2.7/examples/src/main/r/ml/glm.R\n",
            "spark-2.3.1-bin-hadoop2.7/examples/src/main/r/ml/gaussianMixture.R\n",
            "spark-2.3.1-bin-hadoop2.7/examples/src/main/r/ml/als.R\n",
            "spark-2.3.1-bin-hadoop2.7/examples/src/main/r/ml/kmeans.R\n",
            "spark-2.3.1-bin-hadoop2.7/examples/src/main/r/ml/fpm.R\n",
            "spark-2.3.1-bin-hadoop2.7/examples/src/main/r/ml/kstest.R\n",
            "spark-2.3.1-bin-hadoop2.7/examples/src/main/r/ml/ml.R\n",
            "spark-2.3.1-bin-hadoop2.7/examples/src/main/r/ml/naiveBayes.R\n",
            "spark-2.3.1-bin-hadoop2.7/examples/src/main/r/ml/gbt.R\n",
            "spark-2.3.1-bin-hadoop2.7/examples/src/main/r/ml/svmLinear.R\n",
            "spark-2.3.1-bin-hadoop2.7/examples/src/main/r/ml/logit.R\n",
            "spark-2.3.1-bin-hadoop2.7/examples/src/main/r/ml/survreg.R\n",
            "spark-2.3.1-bin-hadoop2.7/examples/src/main/r/ml/lda.R\n",
            "spark-2.3.1-bin-hadoop2.7/examples/src/main/r/ml/randomForest.R\n",
            "spark-2.3.1-bin-hadoop2.7/examples/src/main/r/ml/bisectingKmeans.R\n",
            "spark-2.3.1-bin-hadoop2.7/examples/src/main/r/RSparkSQLExample.R\n",
            "spark-2.3.1-bin-hadoop2.7/examples/src/main/r/data-manipulation.R\n",
            "spark-2.3.1-bin-hadoop2.7/examples/src/main/r/dataframe.R\n",
            "spark-2.3.1-bin-hadoop2.7/examples/src/main/python/\n",
            "spark-2.3.1-bin-hadoop2.7/examples/src/main/python/status_api_demo.py\n",
            "spark-2.3.1-bin-hadoop2.7/examples/src/main/python/als.py\n",
            "spark-2.3.1-bin-hadoop2.7/examples/src/main/python/wordcount.py\n",
            "spark-2.3.1-bin-hadoop2.7/examples/src/main/python/streaming/\n",
            "spark-2.3.1-bin-hadoop2.7/examples/src/main/python/streaming/recoverable_network_wordcount.py\n",
            "spark-2.3.1-bin-hadoop2.7/examples/src/main/python/streaming/direct_kafka_wordcount.py\n",
            "spark-2.3.1-bin-hadoop2.7/examples/src/main/python/streaming/network_wordjoinsentiments.py\n",
            "spark-2.3.1-bin-hadoop2.7/examples/src/main/python/streaming/kafka_wordcount.py\n",
            "spark-2.3.1-bin-hadoop2.7/examples/src/main/python/streaming/hdfs_wordcount.py\n",
            "spark-2.3.1-bin-hadoop2.7/examples/src/main/python/streaming/network_wordcount.py\n",
            "spark-2.3.1-bin-hadoop2.7/examples/src/main/python/streaming/flume_wordcount.py\n",
            "spark-2.3.1-bin-hadoop2.7/examples/src/main/python/streaming/queue_stream.py\n",
            "spark-2.3.1-bin-hadoop2.7/examples/src/main/python/streaming/stateful_network_wordcount.py\n",
            "spark-2.3.1-bin-hadoop2.7/examples/src/main/python/streaming/sql_network_wordcount.py\n",
            "spark-2.3.1-bin-hadoop2.7/examples/src/main/python/sort.py\n",
            "spark-2.3.1-bin-hadoop2.7/examples/src/main/python/logistic_regression.py\n",
            "spark-2.3.1-bin-hadoop2.7/examples/src/main/python/ml/\n",
            "spark-2.3.1-bin-hadoop2.7/examples/src/main/python/ml/sql_transformer.py\n",
            "spark-2.3.1-bin-hadoop2.7/examples/src/main/python/ml/generalized_linear_regression_example.py\n",
            "spark-2.3.1-bin-hadoop2.7/examples/src/main/python/ml/tf_idf_example.py\n",
            "spark-2.3.1-bin-hadoop2.7/examples/src/main/python/ml/gaussian_mixture_example.py\n",
            "spark-2.3.1-bin-hadoop2.7/examples/src/main/python/ml/decision_tree_regression_example.py\n",
            "spark-2.3.1-bin-hadoop2.7/examples/src/main/python/ml/dataframe_example.py\n",
            "spark-2.3.1-bin-hadoop2.7/examples/src/main/python/ml/word2vec_example.py\n",
            "spark-2.3.1-bin-hadoop2.7/examples/src/main/python/ml/gradient_boosted_tree_regressor_example.py\n",
            "spark-2.3.1-bin-hadoop2.7/examples/src/main/python/ml/string_indexer_example.py\n",
            "spark-2.3.1-bin-hadoop2.7/examples/src/main/python/ml/als_example.py\n",
            "spark-2.3.1-bin-hadoop2.7/examples/src/main/python/ml/feature_hasher_example.py\n",
            "spark-2.3.1-bin-hadoop2.7/examples/src/main/python/ml/isotonic_regression_example.py\n",
            "spark-2.3.1-bin-hadoop2.7/examples/src/main/python/ml/chi_square_test_example.py\n",
            "spark-2.3.1-bin-hadoop2.7/examples/src/main/python/ml/max_abs_scaler_example.py\n",
            "spark-2.3.1-bin-hadoop2.7/examples/src/main/python/ml/naive_bayes_example.py\n",
            "spark-2.3.1-bin-hadoop2.7/examples/src/main/python/ml/n_gram_example.py\n",
            "spark-2.3.1-bin-hadoop2.7/examples/src/main/python/ml/logistic_regression_summary_example.py\n",
            "spark-2.3.1-bin-hadoop2.7/examples/src/main/python/ml/correlation_example.py\n",
            "spark-2.3.1-bin-hadoop2.7/examples/src/main/python/ml/vector_indexer_example.py\n",
            "spark-2.3.1-bin-hadoop2.7/examples/src/main/python/ml/min_max_scaler_example.py\n",
            "spark-2.3.1-bin-hadoop2.7/examples/src/main/python/ml/kmeans_example.py\n",
            "spark-2.3.1-bin-hadoop2.7/examples/src/main/python/ml/quantile_discretizer_example.py\n",
            "spark-2.3.1-bin-hadoop2.7/examples/src/main/python/ml/pipeline_example.py\n",
            "spark-2.3.1-bin-hadoop2.7/examples/src/main/python/ml/chisq_selector_example.py\n",
            "spark-2.3.1-bin-hadoop2.7/examples/src/main/python/ml/aft_survival_regression.py\n",
            "spark-2.3.1-bin-hadoop2.7/examples/src/main/python/ml/bucketizer_example.py\n",
            "spark-2.3.1-bin-hadoop2.7/examples/src/main/python/ml/count_vectorizer_example.py\n",
            "spark-2.3.1-bin-hadoop2.7/examples/src/main/python/ml/index_to_string_example.py\n",
            "spark-2.3.1-bin-hadoop2.7/examples/src/main/python/ml/stopwords_remover_example.py\n",
            "spark-2.3.1-bin-hadoop2.7/examples/src/main/python/ml/rformula_example.py\n",
            "spark-2.3.1-bin-hadoop2.7/examples/src/main/python/ml/elementwise_product_example.py\n",
            "spark-2.3.1-bin-hadoop2.7/examples/src/main/python/ml/polynomial_expansion_example.py\n",
            "spark-2.3.1-bin-hadoop2.7/examples/src/main/python/ml/tokenizer_example.py\n",
            "spark-2.3.1-bin-hadoop2.7/examples/src/main/python/ml/multilayer_perceptron_classification.py\n",
            "spark-2.3.1-bin-hadoop2.7/examples/src/main/python/ml/vector_slicer_example.py\n",
            "spark-2.3.1-bin-hadoop2.7/examples/src/main/python/ml/cross_validator.py\n",
            "spark-2.3.1-bin-hadoop2.7/examples/src/main/python/ml/min_hash_lsh_example.py\n",
            "spark-2.3.1-bin-hadoop2.7/examples/src/main/python/ml/vector_assembler_example.py\n",
            "spark-2.3.1-bin-hadoop2.7/examples/src/main/python/ml/lda_example.py\n",
            "spark-2.3.1-bin-hadoop2.7/examples/src/main/python/ml/logistic_regression_with_elastic_net.py\n",
            "spark-2.3.1-bin-hadoop2.7/examples/src/main/python/ml/linear_regression_with_elastic_net.py\n",
            "spark-2.3.1-bin-hadoop2.7/examples/src/main/python/ml/one_vs_rest_example.py\n",
            "spark-2.3.1-bin-hadoop2.7/examples/src/main/python/ml/binarizer_example.py\n",
            "spark-2.3.1-bin-hadoop2.7/examples/src/main/python/ml/train_validation_split.py\n",
            "spark-2.3.1-bin-hadoop2.7/examples/src/main/python/ml/random_forest_classifier_example.py\n",
            "spark-2.3.1-bin-hadoop2.7/examples/src/main/python/ml/bisecting_k_means_example.py\n",
            "spark-2.3.1-bin-hadoop2.7/examples/src/main/python/ml/onehot_encoder_estimator_example.py\n",
            "spark-2.3.1-bin-hadoop2.7/examples/src/main/python/ml/standard_scaler_example.py\n",
            "spark-2.3.1-bin-hadoop2.7/examples/src/main/python/ml/bucketed_random_projection_lsh_example.py\n",
            "spark-2.3.1-bin-hadoop2.7/examples/src/main/python/ml/decision_tree_classification_example.py\n",
            "spark-2.3.1-bin-hadoop2.7/examples/src/main/python/ml/vector_size_hint_example.py\n",
            "spark-2.3.1-bin-hadoop2.7/examples/src/main/python/ml/multiclass_logistic_regression_with_elastic_net.py\n",
            "spark-2.3.1-bin-hadoop2.7/examples/src/main/python/ml/estimator_transformer_param_example.py\n",
            "spark-2.3.1-bin-hadoop2.7/examples/src/main/python/ml/dct_example.py\n",
            "spark-2.3.1-bin-hadoop2.7/examples/src/main/python/ml/pca_example.py\n",
            "spark-2.3.1-bin-hadoop2.7/examples/src/main/python/ml/random_forest_regressor_example.py\n",
            "spark-2.3.1-bin-hadoop2.7/examples/src/main/python/ml/normalizer_example.py\n",
            "spark-2.3.1-bin-hadoop2.7/examples/src/main/python/ml/linearsvc.py\n",
            "spark-2.3.1-bin-hadoop2.7/examples/src/main/python/ml/imputer_example.py\n",
            "spark-2.3.1-bin-hadoop2.7/examples/src/main/python/ml/gradient_boosted_tree_classifier_example.py\n",
            "spark-2.3.1-bin-hadoop2.7/examples/src/main/python/ml/fpgrowth_example.py\n",
            "spark-2.3.1-bin-hadoop2.7/examples/src/main/python/pi.py\n",
            "spark-2.3.1-bin-hadoop2.7/examples/src/main/python/kmeans.py\n",
            "spark-2.3.1-bin-hadoop2.7/examples/src/main/python/mllib/\n",
            "spark-2.3.1-bin-hadoop2.7/examples/src/main/python/mllib/logistic_regression_with_lbfgs_example.py\n",
            "spark-2.3.1-bin-hadoop2.7/examples/src/main/python/mllib/correlations_example.py\n",
            "spark-2.3.1-bin-hadoop2.7/examples/src/main/python/mllib/tf_idf_example.py\n",
            "spark-2.3.1-bin-hadoop2.7/examples/src/main/python/mllib/gaussian_mixture_example.py\n",
            "spark-2.3.1-bin-hadoop2.7/examples/src/main/python/mllib/decision_tree_regression_example.py\n",
            "spark-2.3.1-bin-hadoop2.7/examples/src/main/python/mllib/word2vec_example.py\n",
            "spark-2.3.1-bin-hadoop2.7/examples/src/main/python/mllib/linear_regression_with_sgd_example.py\n",
            "spark-2.3.1-bin-hadoop2.7/examples/src/main/python/mllib/streaming_k_means_example.py\n",
            "spark-2.3.1-bin-hadoop2.7/examples/src/main/python/mllib/k_means_example.py\n",
            "spark-2.3.1-bin-hadoop2.7/examples/src/main/python/mllib/power_iteration_clustering_example.py\n",
            "spark-2.3.1-bin-hadoop2.7/examples/src/main/python/mllib/hypothesis_testing_kolmogorov_smirnov_test_example.py\n",
            "spark-2.3.1-bin-hadoop2.7/examples/src/main/python/mllib/regression_metrics_example.py\n",
            "spark-2.3.1-bin-hadoop2.7/examples/src/main/python/mllib/isotonic_regression_example.py\n",
            "spark-2.3.1-bin-hadoop2.7/examples/src/main/python/mllib/stratified_sampling_example.py\n",
            "spark-2.3.1-bin-hadoop2.7/examples/src/main/python/mllib/naive_bayes_example.py\n",
            "spark-2.3.1-bin-hadoop2.7/examples/src/main/python/mllib/gradient_boosting_regression_example.py\n",
            "spark-2.3.1-bin-hadoop2.7/examples/src/main/python/mllib/pca_rowmatrix_example.py\n",
            "spark-2.3.1-bin-hadoop2.7/examples/src/main/python/mllib/gaussian_mixture_model.py\n",
            "spark-2.3.1-bin-hadoop2.7/examples/src/main/python/mllib/logistic_regression.py\n",
            "spark-2.3.1-bin-hadoop2.7/examples/src/main/python/mllib/svm_with_sgd_example.py\n",
            "spark-2.3.1-bin-hadoop2.7/examples/src/main/python/mllib/kmeans.py\n",
            "spark-2.3.1-bin-hadoop2.7/examples/src/main/python/mllib/gradient_boosting_classification_example.py\n",
            "spark-2.3.1-bin-hadoop2.7/examples/src/main/python/mllib/multi_label_metrics_example.py\n",
            "spark-2.3.1-bin-hadoop2.7/examples/src/main/python/mllib/elementwise_product_example.py\n",
            "spark-2.3.1-bin-hadoop2.7/examples/src/main/python/mllib/word2vec.py\n",
            "spark-2.3.1-bin-hadoop2.7/examples/src/main/python/mllib/binary_classification_metrics_example.py\n",
            "spark-2.3.1-bin-hadoop2.7/examples/src/main/python/mllib/multi_class_metrics_example.py\n",
            "spark-2.3.1-bin-hadoop2.7/examples/src/main/python/mllib/kernel_density_estimation_example.py\n",
            "spark-2.3.1-bin-hadoop2.7/examples/src/main/python/mllib/random_rdd_generation.py\n",
            "spark-2.3.1-bin-hadoop2.7/examples/src/main/python/mllib/ranking_metrics_example.py\n",
            "spark-2.3.1-bin-hadoop2.7/examples/src/main/python/mllib/svd_example.py\n",
            "spark-2.3.1-bin-hadoop2.7/examples/src/main/python/mllib/streaming_linear_regression_example.py\n",
            "spark-2.3.1-bin-hadoop2.7/examples/src/main/python/mllib/bisecting_k_means_example.py\n",
            "spark-2.3.1-bin-hadoop2.7/examples/src/main/python/mllib/summary_statistics_example.py\n",
            "spark-2.3.1-bin-hadoop2.7/examples/src/main/python/mllib/standard_scaler_example.py\n",
            "spark-2.3.1-bin-hadoop2.7/examples/src/main/python/mllib/decision_tree_classification_example.py\n",
            "spark-2.3.1-bin-hadoop2.7/examples/src/main/python/mllib/correlations.py\n",
            "spark-2.3.1-bin-hadoop2.7/examples/src/main/python/mllib/latent_dirichlet_allocation_example.py\n",
            "spark-2.3.1-bin-hadoop2.7/examples/src/main/python/mllib/recommendation_example.py\n",
            "spark-2.3.1-bin-hadoop2.7/examples/src/main/python/mllib/random_forest_regression_example.py\n",
            "spark-2.3.1-bin-hadoop2.7/examples/src/main/python/mllib/hypothesis_testing_example.py\n",
            "spark-2.3.1-bin-hadoop2.7/examples/src/main/python/mllib/sampled_rdds.py\n",
            "spark-2.3.1-bin-hadoop2.7/examples/src/main/python/mllib/normalizer_example.py\n",
            "spark-2.3.1-bin-hadoop2.7/examples/src/main/python/mllib/random_forest_classification_example.py\n",
            "spark-2.3.1-bin-hadoop2.7/examples/src/main/python/mllib/fpgrowth_example.py\n",
            "spark-2.3.1-bin-hadoop2.7/examples/src/main/python/sql/\n",
            "spark-2.3.1-bin-hadoop2.7/examples/src/main/python/sql/arrow.py\n",
            "spark-2.3.1-bin-hadoop2.7/examples/src/main/python/sql/streaming/\n",
            "spark-2.3.1-bin-hadoop2.7/examples/src/main/python/sql/streaming/structured_network_wordcount_windowed.py\n",
            "spark-2.3.1-bin-hadoop2.7/examples/src/main/python/sql/streaming/structured_kafka_wordcount.py\n",
            "spark-2.3.1-bin-hadoop2.7/examples/src/main/python/sql/streaming/structured_network_wordcount.py\n",
            "spark-2.3.1-bin-hadoop2.7/examples/src/main/python/sql/datasource.py\n",
            "spark-2.3.1-bin-hadoop2.7/examples/src/main/python/sql/hive.py\n",
            "spark-2.3.1-bin-hadoop2.7/examples/src/main/python/sql/basic.py\n",
            "spark-2.3.1-bin-hadoop2.7/examples/src/main/python/avro_inputformat.py\n",
            "spark-2.3.1-bin-hadoop2.7/examples/src/main/python/parquet_inputformat.py\n",
            "spark-2.3.1-bin-hadoop2.7/examples/src/main/python/pagerank.py\n",
            "spark-2.3.1-bin-hadoop2.7/examples/src/main/python/transitive_closure.py\n",
            "spark-2.3.1-bin-hadoop2.7/examples/jars/\n",
            "spark-2.3.1-bin-hadoop2.7/examples/jars/spark-examples_2.11-2.3.1.jar\n",
            "spark-2.3.1-bin-hadoop2.7/examples/jars/scopt_2.11-3.7.0.jar\n",
            "spark-2.3.1-bin-hadoop2.7/conf/\n",
            "spark-2.3.1-bin-hadoop2.7/conf/spark-defaults.conf.template\n",
            "spark-2.3.1-bin-hadoop2.7/conf/slaves.template\n",
            "spark-2.3.1-bin-hadoop2.7/conf/metrics.properties.template\n",
            "spark-2.3.1-bin-hadoop2.7/conf/spark-env.sh.template\n",
            "spark-2.3.1-bin-hadoop2.7/conf/fairscheduler.xml.template\n",
            "spark-2.3.1-bin-hadoop2.7/conf/log4j.properties.template\n",
            "spark-2.3.1-bin-hadoop2.7/conf/docker.properties.template\n",
            "spark-2.3.1-bin-hadoop2.7/kubernetes/\n",
            "spark-2.3.1-bin-hadoop2.7/kubernetes/dockerfiles/\n",
            "spark-2.3.1-bin-hadoop2.7/kubernetes/dockerfiles/spark/\n",
            "spark-2.3.1-bin-hadoop2.7/kubernetes/dockerfiles/spark/Dockerfile\n",
            "spark-2.3.1-bin-hadoop2.7/kubernetes/dockerfiles/spark/entrypoint.sh\n",
            "spark-2.3.1-bin-hadoop2.7/R/\n",
            "spark-2.3.1-bin-hadoop2.7/R/lib/\n",
            "spark-2.3.1-bin-hadoop2.7/R/lib/SparkR/\n",
            "spark-2.3.1-bin-hadoop2.7/R/lib/SparkR/profile/\n",
            "spark-2.3.1-bin-hadoop2.7/R/lib/SparkR/profile/shell.R\n",
            "spark-2.3.1-bin-hadoop2.7/R/lib/SparkR/profile/general.R\n",
            "spark-2.3.1-bin-hadoop2.7/R/lib/SparkR/worker/\n",
            "spark-2.3.1-bin-hadoop2.7/R/lib/SparkR/worker/daemon.R\n",
            "spark-2.3.1-bin-hadoop2.7/R/lib/SparkR/worker/worker.R\n",
            "spark-2.3.1-bin-hadoop2.7/R/lib/SparkR/DESCRIPTION\n",
            "spark-2.3.1-bin-hadoop2.7/R/lib/SparkR/tests/\n",
            "spark-2.3.1-bin-hadoop2.7/R/lib/SparkR/tests/testthat/\n",
            "spark-2.3.1-bin-hadoop2.7/R/lib/SparkR/tests/testthat/test_basic.R\n",
            "spark-2.3.1-bin-hadoop2.7/R/lib/SparkR/INDEX\n",
            "spark-2.3.1-bin-hadoop2.7/R/lib/SparkR/html/\n",
            "spark-2.3.1-bin-hadoop2.7/R/lib/SparkR/html/00Index.html\n",
            "spark-2.3.1-bin-hadoop2.7/R/lib/SparkR/html/R.css\n",
            "spark-2.3.1-bin-hadoop2.7/R/lib/SparkR/R/\n",
            "spark-2.3.1-bin-hadoop2.7/R/lib/SparkR/R/SparkR\n",
            "spark-2.3.1-bin-hadoop2.7/R/lib/SparkR/R/SparkR.rdb\n",
            "spark-2.3.1-bin-hadoop2.7/R/lib/SparkR/R/SparkR.rdx\n",
            "spark-2.3.1-bin-hadoop2.7/R/lib/SparkR/help/\n",
            "spark-2.3.1-bin-hadoop2.7/R/lib/SparkR/help/SparkR.rdb\n",
            "spark-2.3.1-bin-hadoop2.7/R/lib/SparkR/help/AnIndex\n",
            "spark-2.3.1-bin-hadoop2.7/R/lib/SparkR/help/paths.rds\n",
            "spark-2.3.1-bin-hadoop2.7/R/lib/SparkR/help/aliases.rds\n",
            "spark-2.3.1-bin-hadoop2.7/R/lib/SparkR/help/SparkR.rdx\n",
            "spark-2.3.1-bin-hadoop2.7/R/lib/SparkR/NAMESPACE\n",
            "spark-2.3.1-bin-hadoop2.7/R/lib/SparkR/Meta/\n",
            "spark-2.3.1-bin-hadoop2.7/R/lib/SparkR/Meta/Rd.rds\n",
            "spark-2.3.1-bin-hadoop2.7/R/lib/SparkR/Meta/nsInfo.rds\n",
            "spark-2.3.1-bin-hadoop2.7/R/lib/SparkR/Meta/package.rds\n",
            "spark-2.3.1-bin-hadoop2.7/R/lib/SparkR/Meta/links.rds\n",
            "spark-2.3.1-bin-hadoop2.7/R/lib/SparkR/Meta/hsearch.rds\n",
            "spark-2.3.1-bin-hadoop2.7/R/lib/SparkR/Meta/features.rds\n",
            "spark-2.3.1-bin-hadoop2.7/R/lib/sparkr.zip\n",
            "spark-2.3.1-bin-hadoop2.7/jars/\n",
            "spark-2.3.1-bin-hadoop2.7/jars/arrow-format-0.8.0.jar\n",
            "spark-2.3.1-bin-hadoop2.7/jars/spark-kvstore_2.11-2.3.1.jar\n",
            "spark-2.3.1-bin-hadoop2.7/jars/parquet-hadoop-1.8.3.jar\n",
            "spark-2.3.1-bin-hadoop2.7/jars/spark-tags_2.11-2.3.1.jar\n",
            "spark-2.3.1-bin-hadoop2.7/jars/netty-all-4.1.17.Final.jar\n",
            "spark-2.3.1-bin-hadoop2.7/jars/aopalliance-repackaged-2.4.0-b34.jar\n",
            "spark-2.3.1-bin-hadoop2.7/jars/jackson-databind-2.6.7.1.jar\n",
            "spark-2.3.1-bin-hadoop2.7/jars/commons-beanutils-1.7.0.jar\n",
            "spark-2.3.1-bin-hadoop2.7/jars/datanucleus-rdbms-3.2.9.jar\n",
            "spark-2.3.1-bin-hadoop2.7/jars/aopalliance-1.0.jar\n",
            "spark-2.3.1-bin-hadoop2.7/jars/json4s-ast_2.11-3.2.11.jar\n",
            "spark-2.3.1-bin-hadoop2.7/jars/hadoop-mapreduce-client-core-2.7.3.jar\n",
            "spark-2.3.1-bin-hadoop2.7/jars/jersey-server-2.22.2.jar\n",
            "spark-2.3.1-bin-hadoop2.7/jars/breeze_2.11-0.13.2.jar\n",
            "spark-2.3.1-bin-hadoop2.7/jars/activation-1.1.1.jar\n",
            "spark-2.3.1-bin-hadoop2.7/jars/eigenbase-properties-1.1.5.jar\n",
            "spark-2.3.1-bin-hadoop2.7/jars/jsr305-1.3.9.jar\n",
            "spark-2.3.1-bin-hadoop2.7/jars/jets3t-0.9.4.jar\n",
            "spark-2.3.1-bin-hadoop2.7/jars/zookeeper-3.4.6.jar\n",
            "spark-2.3.1-bin-hadoop2.7/jars/spark-yarn_2.11-2.3.1.jar\n",
            "spark-2.3.1-bin-hadoop2.7/jars/scala-compiler-2.11.8.jar\n",
            "spark-2.3.1-bin-hadoop2.7/jars/bonecp-0.8.0.RELEASE.jar\n",
            "spark-2.3.1-bin-hadoop2.7/jars/orc-core-1.4.4-nohive.jar\n",
            "spark-2.3.1-bin-hadoop2.7/jars/jackson-module-jaxb-annotations-2.6.7.jar\n",
            "spark-2.3.1-bin-hadoop2.7/jars/httpclient-4.5.4.jar\n",
            "spark-2.3.1-bin-hadoop2.7/jars/hk2-locator-2.4.0-b34.jar\n",
            "spark-2.3.1-bin-hadoop2.7/jars/kryo-shaded-3.0.3.jar\n",
            "spark-2.3.1-bin-hadoop2.7/jars/snappy-0.2.jar\n",
            "spark-2.3.1-bin-hadoop2.7/jars/bcprov-jdk15on-1.58.jar\n",
            "spark-2.3.1-bin-hadoop2.7/jars/oro-2.0.8.jar\n",
            "spark-2.3.1-bin-hadoop2.7/jars/xmlenc-0.52.jar\n",
            "spark-2.3.1-bin-hadoop2.7/jars/RoaringBitmap-0.5.11.jar\n",
            "spark-2.3.1-bin-hadoop2.7/jars/commons-lang3-3.5.jar\n",
            "spark-2.3.1-bin-hadoop2.7/jars/spark-hive-thriftserver_2.11-2.3.1.jar\n",
            "spark-2.3.1-bin-hadoop2.7/jars/scala-library-2.11.8.jar\n",
            "spark-2.3.1-bin-hadoop2.7/jars/scala-xml_2.11-1.0.5.jar\n",
            "spark-2.3.1-bin-hadoop2.7/jars/json4s-core_2.11-3.2.11.jar\n",
            "spark-2.3.1-bin-hadoop2.7/jars/generex-1.0.1.jar\n",
            "spark-2.3.1-bin-hadoop2.7/jars/zjsonpatch-0.3.0.jar\n",
            "spark-2.3.1-bin-hadoop2.7/jars/java-xmlbuilder-1.1.jar\n",
            "spark-2.3.1-bin-hadoop2.7/jars/avro-mapred-1.7.7-hadoop2.jar\n",
            "spark-2.3.1-bin-hadoop2.7/jars/objenesis-2.1.jar\n",
            "spark-2.3.1-bin-hadoop2.7/jars/hive-metastore-1.2.1.spark2.jar\n",
            "spark-2.3.1-bin-hadoop2.7/jars/spark-mesos_2.11-2.3.1.jar\n",
            "spark-2.3.1-bin-hadoop2.7/jars/hppc-0.7.2.jar\n",
            "spark-2.3.1-bin-hadoop2.7/jars/jackson-core-asl-1.9.13.jar\n",
            "spark-2.3.1-bin-hadoop2.7/jars/commons-lang-2.6.jar\n",
            "spark-2.3.1-bin-hadoop2.7/jars/spark-sql_2.11-2.3.1.jar\n",
            "spark-2.3.1-bin-hadoop2.7/jars/arrow-vector-0.8.0.jar\n",
            "spark-2.3.1-bin-hadoop2.7/jars/chill-java-0.8.4.jar\n",
            "spark-2.3.1-bin-hadoop2.7/jars/hk2-api-2.4.0-b34.jar\n",
            "spark-2.3.1-bin-hadoop2.7/jars/javax.ws.rs-api-2.0.1.jar\n",
            "spark-2.3.1-bin-hadoop2.7/jars/parquet-common-1.8.3.jar\n",
            "spark-2.3.1-bin-hadoop2.7/jars/parquet-hadoop-bundle-1.6.0.jar\n",
            "spark-2.3.1-bin-hadoop2.7/jars/spark-repl_2.11-2.3.1.jar\n",
            "spark-2.3.1-bin-hadoop2.7/jars/leveldbjni-all-1.8.jar\n",
            "spark-2.3.1-bin-hadoop2.7/jars/jersey-container-servlet-2.22.2.jar\n",
            "spark-2.3.1-bin-hadoop2.7/jars/commons-compress-1.4.1.jar\n",
            "spark-2.3.1-bin-hadoop2.7/jars/hk2-utils-2.4.0-b34.jar\n",
            "spark-2.3.1-bin-hadoop2.7/jars/compress-lzf-1.0.3.jar\n",
            "spark-2.3.1-bin-hadoop2.7/jars/curator-client-2.7.1.jar\n",
            "spark-2.3.1-bin-hadoop2.7/jars/commons-codec-1.10.jar\n",
            "spark-2.3.1-bin-hadoop2.7/jars/pyrolite-4.13.jar\n",
            "spark-2.3.1-bin-hadoop2.7/jars/metrics-core-3.1.5.jar\n",
            "spark-2.3.1-bin-hadoop2.7/jars/automaton-1.11-8.jar\n",
            "spark-2.3.1-bin-hadoop2.7/jars/jta-1.1.jar\n",
            "spark-2.3.1-bin-hadoop2.7/jars/api-util-1.0.0-M20.jar\n",
            "spark-2.3.1-bin-hadoop2.7/jars/json4s-jackson_2.11-3.2.11.jar\n",
            "spark-2.3.1-bin-hadoop2.7/jars/jdo-api-3.0.1.jar\n",
            "spark-2.3.1-bin-hadoop2.7/jars/hadoop-yarn-server-web-proxy-2.7.3.jar\n",
            "spark-2.3.1-bin-hadoop2.7/jars/commons-beanutils-core-1.8.0.jar\n",
            "spark-2.3.1-bin-hadoop2.7/jars/lz4-java-1.4.0.jar\n",
            "spark-2.3.1-bin-hadoop2.7/jars/shapeless_2.11-2.3.2.jar\n",
            "spark-2.3.1-bin-hadoop2.7/jars/stax-api-1.0.1.jar\n",
            "spark-2.3.1-bin-hadoop2.7/jars/hive-beeline-1.2.1.spark2.jar\n",
            "spark-2.3.1-bin-hadoop2.7/jars/commons-logging-1.1.3.jar\n",
            "spark-2.3.1-bin-hadoop2.7/jars/jackson-mapper-asl-1.9.13.jar\n",
            "spark-2.3.1-bin-hadoop2.7/jars/hadoop-annotations-2.7.3.jar\n",
            "spark-2.3.1-bin-hadoop2.7/jars/commons-compiler-3.0.8.jar\n",
            "spark-2.3.1-bin-hadoop2.7/jars/commons-cli-1.2.jar\n",
            "spark-2.3.1-bin-hadoop2.7/jars/hive-exec-1.2.1.spark2.jar\n",
            "spark-2.3.1-bin-hadoop2.7/jars/netty-3.9.9.Final.jar\n",
            "spark-2.3.1-bin-hadoop2.7/jars/slf4j-api-1.7.16.jar\n",
            "spark-2.3.1-bin-hadoop2.7/jars/spire_2.11-0.13.0.jar\n",
            "spark-2.3.1-bin-hadoop2.7/jars/protobuf-java-2.5.0.jar\n",
            "spark-2.3.1-bin-hadoop2.7/jars/xercesImpl-2.9.1.jar\n",
            "spark-2.3.1-bin-hadoop2.7/jars/metrics-jvm-3.1.5.jar\n",
            "spark-2.3.1-bin-hadoop2.7/jars/hadoop-yarn-common-2.7.3.jar\n",
            "spark-2.3.1-bin-hadoop2.7/jars/jackson-jaxrs-1.9.13.jar\n",
            "spark-2.3.1-bin-hadoop2.7/jars/arrow-memory-0.8.0.jar\n",
            "spark-2.3.1-bin-hadoop2.7/jars/jersey-container-servlet-core-2.22.2.jar\n",
            "spark-2.3.1-bin-hadoop2.7/jars/hadoop-yarn-server-common-2.7.3.jar\n",
            "spark-2.3.1-bin-hadoop2.7/jars/paranamer-2.8.jar\n",
            "spark-2.3.1-bin-hadoop2.7/jars/spark-sketch_2.11-2.3.1.jar\n",
            "spark-2.3.1-bin-hadoop2.7/jars/joda-time-2.9.3.jar\n",
            "spark-2.3.1-bin-hadoop2.7/jars/calcite-avatica-1.2.0-incubating.jar\n",
            "spark-2.3.1-bin-hadoop2.7/jars/avro-ipc-1.7.7.jar\n",
            "spark-2.3.1-bin-hadoop2.7/jars/jcl-over-slf4j-1.7.16.jar\n",
            "spark-2.3.1-bin-hadoop2.7/jars/hadoop-mapreduce-client-jobclient-2.7.3.jar\n",
            "spark-2.3.1-bin-hadoop2.7/jars/javassist-3.18.1-GA.jar\n",
            "spark-2.3.1-bin-hadoop2.7/jars/libthrift-0.9.3.jar\n",
            "spark-2.3.1-bin-hadoop2.7/jars/jackson-dataformat-yaml-2.6.7.jar\n",
            "spark-2.3.1-bin-hadoop2.7/jars/commons-io-2.4.jar\n",
            "spark-2.3.1-bin-hadoop2.7/jars/super-csv-2.2.0.jar\n",
            "spark-2.3.1-bin-hadoop2.7/jars/spark-graphx_2.11-2.3.1.jar\n",
            "spark-2.3.1-bin-hadoop2.7/jars/xz-1.0.jar\n",
            "spark-2.3.1-bin-hadoop2.7/jars/jpam-1.1.jar\n",
            "spark-2.3.1-bin-hadoop2.7/jars/antlr-2.7.7.jar\n",
            "spark-2.3.1-bin-hadoop2.7/jars/commons-crypto-1.0.0.jar\n",
            "spark-2.3.1-bin-hadoop2.7/jars/calcite-linq4j-1.2.0-incubating.jar\n",
            "spark-2.3.1-bin-hadoop2.7/jars/jtransforms-2.4.0.jar\n",
            "spark-2.3.1-bin-hadoop2.7/jars/logging-interceptor-3.8.1.jar\n",
            "spark-2.3.1-bin-hadoop2.7/jars/hive-cli-1.2.1.spark2.jar\n",
            "spark-2.3.1-bin-hadoop2.7/jars/opencsv-2.3.jar\n",
            "spark-2.3.1-bin-hadoop2.7/jars/core-1.1.2.jar\n",
            "spark-2.3.1-bin-hadoop2.7/jars/curator-recipes-2.7.1.jar\n",
            "spark-2.3.1-bin-hadoop2.7/jars/stream-2.7.0.jar\n",
            "spark-2.3.1-bin-hadoop2.7/jars/apache-log4j-extras-1.2.17.jar\n",
            "spark-2.3.1-bin-hadoop2.7/jars/minlog-1.3.0.jar\n",
            "spark-2.3.1-bin-hadoop2.7/jars/javax.inject-2.4.0-b34.jar\n",
            "spark-2.3.1-bin-hadoop2.7/jars/osgi-resource-locator-1.0.1.jar\n",
            "spark-2.3.1-bin-hadoop2.7/jars/spark-hive_2.11-2.3.1.jar\n",
            "spark-2.3.1-bin-hadoop2.7/jars/hadoop-client-2.7.3.jar\n",
            "spark-2.3.1-bin-hadoop2.7/jars/machinist_2.11-0.6.1.jar\n",
            "spark-2.3.1-bin-hadoop2.7/jars/spark-network-shuffle_2.11-2.3.1.jar\n",
            "spark-2.3.1-bin-hadoop2.7/jars/datanucleus-api-jdo-3.2.6.jar\n",
            "spark-2.3.1-bin-hadoop2.7/jars/validation-api-1.1.0.Final.jar\n",
            "spark-2.3.1-bin-hadoop2.7/jars/avro-1.7.7.jar\n",
            "spark-2.3.1-bin-hadoop2.7/jars/janino-3.0.8.jar\n",
            "spark-2.3.1-bin-hadoop2.7/jars/htrace-core-3.1.0-incubating.jar\n",
            "spark-2.3.1-bin-hadoop2.7/jars/jersey-guava-2.22.2.jar\n",
            "spark-2.3.1-bin-hadoop2.7/jars/xbean-asm5-shaded-4.4.jar\n",
            "spark-2.3.1-bin-hadoop2.7/jars/spark-core_2.11-2.3.1.jar\n",
            "spark-2.3.1-bin-hadoop2.7/jars/spark-unsafe_2.11-2.3.1.jar\n",
            "spark-2.3.1-bin-hadoop2.7/jars/guice-servlet-3.0.jar\n",
            "spark-2.3.1-bin-hadoop2.7/jars/snakeyaml-1.15.jar\n",
            "spark-2.3.1-bin-hadoop2.7/jars/hadoop-auth-2.7.3.jar\n",
            "spark-2.3.1-bin-hadoop2.7/jars/apacheds-i18n-2.0.0-M15.jar\n",
            "spark-2.3.1-bin-hadoop2.7/jars/zstd-jni-1.3.2-2.jar\n",
            "spark-2.3.1-bin-hadoop2.7/jars/okhttp-3.8.1.jar\n",
            "spark-2.3.1-bin-hadoop2.7/jars/gson-2.2.4.jar\n",
            "spark-2.3.1-bin-hadoop2.7/jars/hadoop-mapreduce-client-app-2.7.3.jar\n",
            "spark-2.3.1-bin-hadoop2.7/jars/commons-collections-3.2.2.jar\n",
            "spark-2.3.1-bin-hadoop2.7/jars/antlr-runtime-3.4.jar\n",
            "spark-2.3.1-bin-hadoop2.7/jars/spark-mllib_2.11-2.3.1.jar\n",
            "spark-2.3.1-bin-hadoop2.7/jars/commons-configuration-1.6.jar\n",
            "spark-2.3.1-bin-hadoop2.7/jars/antlr4-runtime-4.7.jar\n",
            "spark-2.3.1-bin-hadoop2.7/jars/jersey-client-2.22.2.jar\n",
            "spark-2.3.1-bin-hadoop2.7/jars/guice-3.0.jar\n",
            "spark-2.3.1-bin-hadoop2.7/jars/jsp-api-2.1.jar\n",
            "spark-2.3.1-bin-hadoop2.7/jars/stringtemplate-3.2.1.jar\n",
            "spark-2.3.1-bin-hadoop2.7/jars/spark-kubernetes_2.11-2.3.1.jar\n",
            "spark-2.3.1-bin-hadoop2.7/jars/javax.inject-1.jar\n",
            "spark-2.3.1-bin-hadoop2.7/jars/orc-mapreduce-1.4.4-nohive.jar\n",
            "spark-2.3.1-bin-hadoop2.7/jars/commons-digester-1.8.jar\n",
            "spark-2.3.1-bin-hadoop2.7/jars/spark-network-common_2.11-2.3.1.jar\n",
            "spark-2.3.1-bin-hadoop2.7/jars/JavaEWAH-0.3.2.jar\n",
            "spark-2.3.1-bin-hadoop2.7/jars/kubernetes-model-2.0.0.jar\n",
            "spark-2.3.1-bin-hadoop2.7/jars/jersey-common-2.22.2.jar\n",
            "spark-2.3.1-bin-hadoop2.7/jars/spark-launcher_2.11-2.3.1.jar\n",
            "spark-2.3.1-bin-hadoop2.7/jars/datanucleus-core-3.2.10.jar\n",
            "spark-2.3.1-bin-hadoop2.7/jars/okio-1.13.0.jar\n",
            "spark-2.3.1-bin-hadoop2.7/jars/metrics-graphite-3.1.5.jar\n",
            "spark-2.3.1-bin-hadoop2.7/jars/hadoop-common-2.7.3.jar\n",
            "spark-2.3.1-bin-hadoop2.7/jars/jackson-xc-1.9.13.jar\n",
            "spark-2.3.1-bin-hadoop2.7/jars/jline-2.12.1.jar\n",
            "spark-2.3.1-bin-hadoop2.7/jars/spark-catalyst_2.11-2.3.1.jar\n",
            "spark-2.3.1-bin-hadoop2.7/jars/py4j-0.10.7.jar\n",
            "spark-2.3.1-bin-hadoop2.7/jars/derby-10.12.1.1.jar\n",
            "spark-2.3.1-bin-hadoop2.7/jars/commons-dbcp-1.4.jar\n",
            "spark-2.3.1-bin-hadoop2.7/jars/metrics-json-3.1.5.jar\n",
            "spark-2.3.1-bin-hadoop2.7/jars/hadoop-mapreduce-client-shuffle-2.7.3.jar\n",
            "spark-2.3.1-bin-hadoop2.7/jars/spark-streaming_2.11-2.3.1.jar\n",
            "spark-2.3.1-bin-hadoop2.7/jars/spire-macros_2.11-0.13.0.jar\n",
            "spark-2.3.1-bin-hadoop2.7/jars/univocity-parsers-2.5.9.jar\n",
            "spark-2.3.1-bin-hadoop2.7/jars/commons-pool-1.5.4.jar\n",
            "spark-2.3.1-bin-hadoop2.7/jars/hadoop-mapreduce-client-common-2.7.3.jar\n",
            "spark-2.3.1-bin-hadoop2.7/jars/hadoop-yarn-client-2.7.3.jar\n",
            "spark-2.3.1-bin-hadoop2.7/jars/chill_2.11-0.8.4.jar\n",
            "spark-2.3.1-bin-hadoop2.7/jars/hadoop-hdfs-2.7.3.jar\n",
            "spark-2.3.1-bin-hadoop2.7/jars/jackson-module-scala_2.11-2.6.7.1.jar\n",
            "spark-2.3.1-bin-hadoop2.7/jars/parquet-column-1.8.3.jar\n",
            "spark-2.3.1-bin-hadoop2.7/jars/flatbuffers-1.2.0-3f79e055.jar\n",
            "spark-2.3.1-bin-hadoop2.7/jars/parquet-encoding-1.8.3.jar\n",
            "spark-2.3.1-bin-hadoop2.7/jars/api-asn1-api-1.0.0-M20.jar\n",
            "spark-2.3.1-bin-hadoop2.7/jars/jackson-core-2.6.7.jar\n",
            "spark-2.3.1-bin-hadoop2.7/jars/apacheds-kerberos-codec-2.0.0-M15.jar\n",
            "spark-2.3.1-bin-hadoop2.7/jars/jackson-module-paranamer-2.7.9.jar\n",
            "spark-2.3.1-bin-hadoop2.7/jars/snappy-java-1.1.2.6.jar\n",
            "spark-2.3.1-bin-hadoop2.7/jars/jaxb-api-2.2.2.jar\n",
            "spark-2.3.1-bin-hadoop2.7/jars/scalap-2.11.8.jar\n",
            "spark-2.3.1-bin-hadoop2.7/jars/parquet-format-2.3.1.jar\n",
            "spark-2.3.1-bin-hadoop2.7/jars/guava-14.0.1.jar\n",
            "spark-2.3.1-bin-hadoop2.7/jars/base64-2.3.8.jar\n",
            "spark-2.3.1-bin-hadoop2.7/jars/jackson-annotations-2.6.7.jar\n",
            "spark-2.3.1-bin-hadoop2.7/jars/javax.servlet-api-3.1.0.jar\n",
            "spark-2.3.1-bin-hadoop2.7/jars/mesos-1.4.0-shaded-protobuf.jar\n",
            "spark-2.3.1-bin-hadoop2.7/jars/stax-api-1.0-2.jar\n",
            "spark-2.3.1-bin-hadoop2.7/jars/macro-compat_2.11-1.1.1.jar\n",
            "spark-2.3.1-bin-hadoop2.7/jars/log4j-1.2.17.jar\n",
            "spark-2.3.1-bin-hadoop2.7/jars/parquet-jackson-1.8.3.jar\n",
            "spark-2.3.1-bin-hadoop2.7/jars/jetty-6.1.26.jar\n",
            "spark-2.3.1-bin-hadoop2.7/jars/ivy-2.4.0.jar\n",
            "spark-2.3.1-bin-hadoop2.7/jars/breeze-macros_2.11-0.13.2.jar\n",
            "spark-2.3.1-bin-hadoop2.7/jars/jetty-util-6.1.26.jar\n",
            "spark-2.3.1-bin-hadoop2.7/jars/scala-reflect-2.11.8.jar\n",
            "spark-2.3.1-bin-hadoop2.7/jars/kubernetes-client-3.0.0.jar\n",
            "spark-2.3.1-bin-hadoop2.7/jars/ST4-4.0.4.jar\n",
            "spark-2.3.1-bin-hadoop2.7/jars/commons-net-2.2.jar\n",
            "spark-2.3.1-bin-hadoop2.7/jars/commons-math3-3.4.1.jar\n",
            "spark-2.3.1-bin-hadoop2.7/jars/spark-mllib-local_2.11-2.3.1.jar\n",
            "spark-2.3.1-bin-hadoop2.7/jars/commons-httpclient-3.1.jar\n",
            "spark-2.3.1-bin-hadoop2.7/jars/hadoop-yarn-api-2.7.3.jar\n",
            "spark-2.3.1-bin-hadoop2.7/jars/jul-to-slf4j-1.7.16.jar\n",
            "spark-2.3.1-bin-hadoop2.7/jars/hive-jdbc-1.2.1.spark2.jar\n",
            "spark-2.3.1-bin-hadoop2.7/jars/arpack_combined_all-0.1.jar\n",
            "spark-2.3.1-bin-hadoop2.7/jars/httpcore-4.4.8.jar\n",
            "spark-2.3.1-bin-hadoop2.7/jars/jodd-core-3.5.2.jar\n",
            "spark-2.3.1-bin-hadoop2.7/jars/javax.annotation-api-1.2.jar\n",
            "spark-2.3.1-bin-hadoop2.7/jars/slf4j-log4j12-1.7.16.jar\n",
            "spark-2.3.1-bin-hadoop2.7/jars/libfb303-0.9.3.jar\n",
            "spark-2.3.1-bin-hadoop2.7/jars/calcite-core-1.2.0-incubating.jar\n",
            "spark-2.3.1-bin-hadoop2.7/jars/jersey-media-jaxb-2.22.2.jar\n",
            "spark-2.3.1-bin-hadoop2.7/jars/aircompressor-0.8.jar\n",
            "spark-2.3.1-bin-hadoop2.7/jars/scala-parser-combinators_2.11-1.0.4.jar\n",
            "spark-2.3.1-bin-hadoop2.7/jars/curator-framework-2.7.1.jar\n",
            "spark-2.3.1-bin-hadoop2.7/jars/javolution-5.5.1.jar\n",
            "spark-2.3.1-bin-hadoop2.7/NOTICE\n",
            "spark-2.3.1-bin-hadoop2.7/LICENSE\n",
            "spark-2.3.1-bin-hadoop2.7/python/\n",
            "spark-2.3.1-bin-hadoop2.7/python/pyspark/\n",
            "spark-2.3.1-bin-hadoop2.7/python/pyspark/conf.py\n",
            "spark-2.3.1-bin-hadoop2.7/python/pyspark/join.py\n",
            "spark-2.3.1-bin-hadoop2.7/python/pyspark/statcounter.py\n",
            "spark-2.3.1-bin-hadoop2.7/python/pyspark/shell.py\n",
            "spark-2.3.1-bin-hadoop2.7/python/pyspark/_globals.py\n",
            "spark-2.3.1-bin-hadoop2.7/python/pyspark/profiler.py\n",
            "spark-2.3.1-bin-hadoop2.7/python/pyspark/files.py\n",
            "spark-2.3.1-bin-hadoop2.7/python/pyspark/find_spark_home.py\n",
            "spark-2.3.1-bin-hadoop2.7/python/pyspark/shuffle.py\n",
            "spark-2.3.1-bin-hadoop2.7/python/pyspark/storagelevel.py\n",
            "spark-2.3.1-bin-hadoop2.7/python/pyspark/streaming/\n",
            "spark-2.3.1-bin-hadoop2.7/python/pyspark/streaming/kafka.py\n",
            "spark-2.3.1-bin-hadoop2.7/python/pyspark/streaming/listener.py\n",
            "spark-2.3.1-bin-hadoop2.7/python/pyspark/streaming/dstream.py\n",
            "spark-2.3.1-bin-hadoop2.7/python/pyspark/streaming/context.py\n",
            "spark-2.3.1-bin-hadoop2.7/python/pyspark/streaming/util.py\n",
            "spark-2.3.1-bin-hadoop2.7/python/pyspark/streaming/tests.py\n",
            "spark-2.3.1-bin-hadoop2.7/python/pyspark/streaming/flume.py\n",
            "spark-2.3.1-bin-hadoop2.7/python/pyspark/streaming/kinesis.py\n",
            "spark-2.3.1-bin-hadoop2.7/python/pyspark/streaming/__init__.py\n",
            "spark-2.3.1-bin-hadoop2.7/python/pyspark/cloudpickle.py\n",
            "spark-2.3.1-bin-hadoop2.7/python/pyspark/context.py\n",
            "spark-2.3.1-bin-hadoop2.7/python/pyspark/ml/\n",
            "spark-2.3.1-bin-hadoop2.7/python/pyspark/ml/base.py\n",
            "spark-2.3.1-bin-hadoop2.7/python/pyspark/ml/image.py\n",
            "spark-2.3.1-bin-hadoop2.7/python/pyspark/ml/wrapper.py\n",
            "spark-2.3.1-bin-hadoop2.7/python/pyspark/ml/linalg/\n",
            "spark-2.3.1-bin-hadoop2.7/python/pyspark/ml/linalg/__init__.py\n",
            "spark-2.3.1-bin-hadoop2.7/python/pyspark/ml/tuning.py\n",
            "spark-2.3.1-bin-hadoop2.7/python/pyspark/ml/param/\n",
            "spark-2.3.1-bin-hadoop2.7/python/pyspark/ml/param/shared.py\n",
            "spark-2.3.1-bin-hadoop2.7/python/pyspark/ml/param/__init__.py\n",
            "spark-2.3.1-bin-hadoop2.7/python/pyspark/ml/param/_shared_params_code_gen.py\n",
            "spark-2.3.1-bin-hadoop2.7/python/pyspark/ml/util.py\n",
            "spark-2.3.1-bin-hadoop2.7/python/pyspark/ml/tests.py\n",
            "spark-2.3.1-bin-hadoop2.7/python/pyspark/ml/recommendation.py\n",
            "spark-2.3.1-bin-hadoop2.7/python/pyspark/ml/evaluation.py\n",
            "spark-2.3.1-bin-hadoop2.7/python/pyspark/ml/fpm.py\n",
            "spark-2.3.1-bin-hadoop2.7/python/pyspark/ml/stat.py\n",
            "spark-2.3.1-bin-hadoop2.7/python/pyspark/ml/feature.py\n",
            "spark-2.3.1-bin-hadoop2.7/python/pyspark/ml/common.py\n",
            "spark-2.3.1-bin-hadoop2.7/python/pyspark/ml/clustering.py\n",
            "spark-2.3.1-bin-hadoop2.7/python/pyspark/ml/classification.py\n",
            "spark-2.3.1-bin-hadoop2.7/python/pyspark/ml/pipeline.py\n",
            "spark-2.3.1-bin-hadoop2.7/python/pyspark/ml/__init__.py\n",
            "spark-2.3.1-bin-hadoop2.7/python/pyspark/ml/regression.py\n",
            "spark-2.3.1-bin-hadoop2.7/python/pyspark/rddsampler.py\n",
            "spark-2.3.1-bin-hadoop2.7/python/pyspark/util.py\n",
            "spark-2.3.1-bin-hadoop2.7/python/pyspark/tests.py\n",
            "spark-2.3.1-bin-hadoop2.7/python/pyspark/rdd.py\n",
            "spark-2.3.1-bin-hadoop2.7/python/pyspark/mllib/\n",
            "spark-2.3.1-bin-hadoop2.7/python/pyspark/mllib/linalg/\n",
            "spark-2.3.1-bin-hadoop2.7/python/pyspark/mllib/linalg/distributed.py\n",
            "spark-2.3.1-bin-hadoop2.7/python/pyspark/mllib/linalg/__init__.py\n",
            "spark-2.3.1-bin-hadoop2.7/python/pyspark/mllib/util.py\n",
            "spark-2.3.1-bin-hadoop2.7/python/pyspark/mllib/tests.py\n",
            "spark-2.3.1-bin-hadoop2.7/python/pyspark/mllib/recommendation.py\n",
            "spark-2.3.1-bin-hadoop2.7/python/pyspark/mllib/evaluation.py\n",
            "spark-2.3.1-bin-hadoop2.7/python/pyspark/mllib/tree.py\n",
            "spark-2.3.1-bin-hadoop2.7/python/pyspark/mllib/fpm.py\n",
            "spark-2.3.1-bin-hadoop2.7/python/pyspark/mllib/feature.py\n",
            "spark-2.3.1-bin-hadoop2.7/python/pyspark/mllib/stat/\n",
            "spark-2.3.1-bin-hadoop2.7/python/pyspark/mllib/stat/KernelDensity.py\n",
            "spark-2.3.1-bin-hadoop2.7/python/pyspark/mllib/stat/_statistics.py\n",
            "spark-2.3.1-bin-hadoop2.7/python/pyspark/mllib/stat/distribution.py\n",
            "spark-2.3.1-bin-hadoop2.7/python/pyspark/mllib/stat/test.py\n",
            "spark-2.3.1-bin-hadoop2.7/python/pyspark/mllib/stat/__init__.py\n",
            "spark-2.3.1-bin-hadoop2.7/python/pyspark/mllib/common.py\n",
            "spark-2.3.1-bin-hadoop2.7/python/pyspark/mllib/random.py\n",
            "spark-2.3.1-bin-hadoop2.7/python/pyspark/mllib/clustering.py\n",
            "spark-2.3.1-bin-hadoop2.7/python/pyspark/mllib/classification.py\n",
            "spark-2.3.1-bin-hadoop2.7/python/pyspark/mllib/__init__.py\n",
            "spark-2.3.1-bin-hadoop2.7/python/pyspark/mllib/regression.py\n",
            "spark-2.3.1-bin-hadoop2.7/python/pyspark/sql/\n",
            "spark-2.3.1-bin-hadoop2.7/python/pyspark/sql/streaming.py\n",
            "spark-2.3.1-bin-hadoop2.7/python/pyspark/sql/dataframe.py\n",
            "spark-2.3.1-bin-hadoop2.7/python/pyspark/sql/conf.py\n",
            "spark-2.3.1-bin-hadoop2.7/python/pyspark/sql/udf.py\n",
            "spark-2.3.1-bin-hadoop2.7/python/pyspark/sql/catalog.py\n",
            "spark-2.3.1-bin-hadoop2.7/python/pyspark/sql/types.py\n",
            "spark-2.3.1-bin-hadoop2.7/python/pyspark/sql/context.py\n",
            "spark-2.3.1-bin-hadoop2.7/python/pyspark/sql/tests.py\n",
            "spark-2.3.1-bin-hadoop2.7/python/pyspark/sql/readwriter.py\n",
            "spark-2.3.1-bin-hadoop2.7/python/pyspark/sql/session.py\n",
            "spark-2.3.1-bin-hadoop2.7/python/pyspark/sql/utils.py\n",
            "spark-2.3.1-bin-hadoop2.7/python/pyspark/sql/group.py\n",
            "spark-2.3.1-bin-hadoop2.7/python/pyspark/sql/window.py\n",
            "spark-2.3.1-bin-hadoop2.7/python/pyspark/sql/functions.py\n",
            "spark-2.3.1-bin-hadoop2.7/python/pyspark/sql/__init__.py\n",
            "spark-2.3.1-bin-hadoop2.7/python/pyspark/sql/column.py\n",
            "spark-2.3.1-bin-hadoop2.7/python/pyspark/status.py\n",
            "spark-2.3.1-bin-hadoop2.7/python/pyspark/taskcontext.py\n",
            "spark-2.3.1-bin-hadoop2.7/python/pyspark/broadcast.py\n",
            "spark-2.3.1-bin-hadoop2.7/python/pyspark/worker.py\n",
            "spark-2.3.1-bin-hadoop2.7/python/pyspark/serializers.py\n",
            "spark-2.3.1-bin-hadoop2.7/python/pyspark/heapq3.py\n",
            "spark-2.3.1-bin-hadoop2.7/python/pyspark/traceback_utils.py\n",
            "spark-2.3.1-bin-hadoop2.7/python/pyspark/accumulators.py\n",
            "spark-2.3.1-bin-hadoop2.7/python/pyspark/resultiterable.py\n",
            "spark-2.3.1-bin-hadoop2.7/python/pyspark/python/\n",
            "spark-2.3.1-bin-hadoop2.7/python/pyspark/python/pyspark/\n",
            "spark-2.3.1-bin-hadoop2.7/python/pyspark/python/pyspark/shell.py\n",
            "spark-2.3.1-bin-hadoop2.7/python/pyspark/java_gateway.py\n",
            "spark-2.3.1-bin-hadoop2.7/python/pyspark/daemon.py\n",
            "spark-2.3.1-bin-hadoop2.7/python/pyspark/__init__.py\n",
            "spark-2.3.1-bin-hadoop2.7/python/pyspark/version.py\n",
            "spark-2.3.1-bin-hadoop2.7/python/test_support/\n",
            "spark-2.3.1-bin-hadoop2.7/python/test_support/userlibrary.py\n",
            "spark-2.3.1-bin-hadoop2.7/python/test_support/sql/\n",
            "spark-2.3.1-bin-hadoop2.7/python/test_support/sql/parquet_partitioned/\n",
            "spark-2.3.1-bin-hadoop2.7/python/test_support/sql/parquet_partitioned/year=2015/\n",
            "spark-2.3.1-bin-hadoop2.7/python/test_support/sql/parquet_partitioned/year=2015/month=9/\n",
            "spark-2.3.1-bin-hadoop2.7/python/test_support/sql/parquet_partitioned/year=2015/month=9/day=1/\n",
            "spark-2.3.1-bin-hadoop2.7/python/test_support/sql/parquet_partitioned/year=2015/month=9/day=1/part-r-00007.gz.parquet\n",
            "spark-2.3.1-bin-hadoop2.7/python/test_support/sql/parquet_partitioned/year=2015/month=9/day=1/.part-r-00007.gz.parquet.crc\n",
            "spark-2.3.1-bin-hadoop2.7/python/test_support/sql/parquet_partitioned/year=2015/month=10/\n",
            "spark-2.3.1-bin-hadoop2.7/python/test_support/sql/parquet_partitioned/year=2015/month=10/day=25/\n",
            "spark-2.3.1-bin-hadoop2.7/python/test_support/sql/parquet_partitioned/year=2015/month=10/day=25/part-r-00004.gz.parquet\n",
            "spark-2.3.1-bin-hadoop2.7/python/test_support/sql/parquet_partitioned/year=2015/month=10/day=25/part-r-00002.gz.parquet\n",
            "spark-2.3.1-bin-hadoop2.7/python/test_support/sql/parquet_partitioned/year=2015/month=10/day=25/.part-r-00004.gz.parquet.crc\n",
            "spark-2.3.1-bin-hadoop2.7/python/test_support/sql/parquet_partitioned/year=2015/month=10/day=25/.part-r-00002.gz.parquet.crc\n",
            "spark-2.3.1-bin-hadoop2.7/python/test_support/sql/parquet_partitioned/year=2015/month=10/day=26/\n",
            "spark-2.3.1-bin-hadoop2.7/python/test_support/sql/parquet_partitioned/year=2015/month=10/day=26/.part-r-00005.gz.parquet.crc\n",
            "spark-2.3.1-bin-hadoop2.7/python/test_support/sql/parquet_partitioned/year=2015/month=10/day=26/part-r-00005.gz.parquet\n",
            "spark-2.3.1-bin-hadoop2.7/python/test_support/sql/parquet_partitioned/year=2014/\n",
            "spark-2.3.1-bin-hadoop2.7/python/test_support/sql/parquet_partitioned/year=2014/month=9/\n",
            "spark-2.3.1-bin-hadoop2.7/python/test_support/sql/parquet_partitioned/year=2014/month=9/day=1/\n",
            "spark-2.3.1-bin-hadoop2.7/python/test_support/sql/parquet_partitioned/year=2014/month=9/day=1/.part-r-00008.gz.parquet.crc\n",
            "spark-2.3.1-bin-hadoop2.7/python/test_support/sql/parquet_partitioned/year=2014/month=9/day=1/part-r-00008.gz.parquet\n",
            "spark-2.3.1-bin-hadoop2.7/python/test_support/sql/parquet_partitioned/_common_metadata\n",
            "spark-2.3.1-bin-hadoop2.7/python/test_support/sql/parquet_partitioned/_SUCCESS\n",
            "spark-2.3.1-bin-hadoop2.7/python/test_support/sql/parquet_partitioned/_metadata\n",
            "spark-2.3.1-bin-hadoop2.7/python/test_support/sql/people1.json\n",
            "spark-2.3.1-bin-hadoop2.7/python/test_support/sql/people_array.json\n",
            "spark-2.3.1-bin-hadoop2.7/python/test_support/sql/text-test.txt\n",
            "spark-2.3.1-bin-hadoop2.7/python/test_support/sql/streaming/\n",
            "spark-2.3.1-bin-hadoop2.7/python/test_support/sql/streaming/text-test.txt\n",
            "spark-2.3.1-bin-hadoop2.7/python/test_support/sql/ages.csv\n",
            "spark-2.3.1-bin-hadoop2.7/python/test_support/sql/people.json\n",
            "spark-2.3.1-bin-hadoop2.7/python/test_support/sql/orc_partitioned/\n",
            "spark-2.3.1-bin-hadoop2.7/python/test_support/sql/orc_partitioned/b=1/\n",
            "spark-2.3.1-bin-hadoop2.7/python/test_support/sql/orc_partitioned/b=1/c=1/\n",
            "spark-2.3.1-bin-hadoop2.7/python/test_support/sql/orc_partitioned/b=1/c=1/.part-r-00000-829af031-b970-49d6-ad39-30460a0be2c8.orc.crc\n",
            "spark-2.3.1-bin-hadoop2.7/python/test_support/sql/orc_partitioned/b=1/c=1/part-r-00000-829af031-b970-49d6-ad39-30460a0be2c8.orc\n",
            "spark-2.3.1-bin-hadoop2.7/python/test_support/sql/orc_partitioned/b=0/\n",
            "spark-2.3.1-bin-hadoop2.7/python/test_support/sql/orc_partitioned/b=0/c=0/\n",
            "spark-2.3.1-bin-hadoop2.7/python/test_support/sql/orc_partitioned/b=0/c=0/.part-r-00000-829af031-b970-49d6-ad39-30460a0be2c8.orc.crc\n",
            "spark-2.3.1-bin-hadoop2.7/python/test_support/sql/orc_partitioned/b=0/c=0/part-r-00000-829af031-b970-49d6-ad39-30460a0be2c8.orc\n",
            "spark-2.3.1-bin-hadoop2.7/python/test_support/sql/orc_partitioned/_SUCCESS\n",
            "spark-2.3.1-bin-hadoop2.7/python/test_support/sql/ages_newlines.csv\n",
            "spark-2.3.1-bin-hadoop2.7/python/test_support/hello/\n",
            "spark-2.3.1-bin-hadoop2.7/python/test_support/hello/hello.txt\n",
            "spark-2.3.1-bin-hadoop2.7/python/test_support/hello/sub_hello/\n",
            "spark-2.3.1-bin-hadoop2.7/python/test_support/hello/sub_hello/sub_hello.txt\n",
            "spark-2.3.1-bin-hadoop2.7/python/test_support/userlib-0.1.zip\n",
            "spark-2.3.1-bin-hadoop2.7/python/test_support/SimpleHTTPServer.py\n",
            "spark-2.3.1-bin-hadoop2.7/python/.gitignore\n",
            "spark-2.3.1-bin-hadoop2.7/python/setup.py\n",
            "spark-2.3.1-bin-hadoop2.7/python/run-tests.py\n",
            "spark-2.3.1-bin-hadoop2.7/python/run-tests\n",
            "spark-2.3.1-bin-hadoop2.7/python/setup.cfg\n",
            "spark-2.3.1-bin-hadoop2.7/python/pyspark.egg-info/\n",
            "spark-2.3.1-bin-hadoop2.7/python/pyspark.egg-info/requires.txt\n",
            "spark-2.3.1-bin-hadoop2.7/python/pyspark.egg-info/SOURCES.txt\n",
            "spark-2.3.1-bin-hadoop2.7/python/pyspark.egg-info/top_level.txt\n",
            "spark-2.3.1-bin-hadoop2.7/python/pyspark.egg-info/dependency_links.txt\n",
            "spark-2.3.1-bin-hadoop2.7/python/pyspark.egg-info/PKG-INFO\n",
            "spark-2.3.1-bin-hadoop2.7/python/dist/\n",
            "spark-2.3.1-bin-hadoop2.7/python/pylintrc\n",
            "spark-2.3.1-bin-hadoop2.7/python/MANIFEST.in\n",
            "spark-2.3.1-bin-hadoop2.7/python/lib/\n",
            "spark-2.3.1-bin-hadoop2.7/python/lib/PY4J_LICENSE.txt\n",
            "spark-2.3.1-bin-hadoop2.7/python/lib/py4j-0.10.7-src.zip\n",
            "spark-2.3.1-bin-hadoop2.7/python/lib/pyspark.zip\n",
            "spark-2.3.1-bin-hadoop2.7/python/README.md\n",
            "spark-2.3.1-bin-hadoop2.7/python/docs/\n",
            "spark-2.3.1-bin-hadoop2.7/python/docs/pyspark.rst\n",
            "spark-2.3.1-bin-hadoop2.7/python/docs/conf.py\n",
            "spark-2.3.1-bin-hadoop2.7/python/docs/pyspark.streaming.rst\n",
            "spark-2.3.1-bin-hadoop2.7/python/docs/_static/\n",
            "spark-2.3.1-bin-hadoop2.7/python/docs/_static/pyspark.js\n",
            "spark-2.3.1-bin-hadoop2.7/python/docs/_static/pyspark.css\n",
            "spark-2.3.1-bin-hadoop2.7/python/docs/_templates/\n",
            "spark-2.3.1-bin-hadoop2.7/python/docs/_templates/layout.html\n",
            "spark-2.3.1-bin-hadoop2.7/python/docs/pyspark.mllib.rst\n",
            "spark-2.3.1-bin-hadoop2.7/python/docs/make.bat\n",
            "spark-2.3.1-bin-hadoop2.7/python/docs/make2.bat\n",
            "spark-2.3.1-bin-hadoop2.7/python/docs/epytext.py\n",
            "spark-2.3.1-bin-hadoop2.7/python/docs/index.rst\n",
            "spark-2.3.1-bin-hadoop2.7/python/docs/pyspark.sql.rst\n",
            "spark-2.3.1-bin-hadoop2.7/python/docs/pyspark.ml.rst\n",
            "spark-2.3.1-bin-hadoop2.7/python/docs/Makefile\n",
            "spark-2.3.1-bin-hadoop2.7/RELEASE\n",
            "spark-2.3.1-bin-hadoop2.7/sbin/\n",
            "spark-2.3.1-bin-hadoop2.7/sbin/spark-config.sh\n",
            "spark-2.3.1-bin-hadoop2.7/sbin/start-mesos-shuffle-service.sh\n",
            "spark-2.3.1-bin-hadoop2.7/sbin/stop-mesos-dispatcher.sh\n",
            "spark-2.3.1-bin-hadoop2.7/sbin/start-history-server.sh\n",
            "spark-2.3.1-bin-hadoop2.7/sbin/start-mesos-dispatcher.sh\n",
            "spark-2.3.1-bin-hadoop2.7/sbin/stop-slave.sh\n",
            "spark-2.3.1-bin-hadoop2.7/sbin/start-slave.sh\n",
            "spark-2.3.1-bin-hadoop2.7/sbin/stop-master.sh\n",
            "spark-2.3.1-bin-hadoop2.7/sbin/spark-daemon.sh\n",
            "spark-2.3.1-bin-hadoop2.7/sbin/stop-slaves.sh\n",
            "spark-2.3.1-bin-hadoop2.7/sbin/stop-shuffle-service.sh\n",
            "spark-2.3.1-bin-hadoop2.7/sbin/start-thriftserver.sh\n",
            "spark-2.3.1-bin-hadoop2.7/sbin/stop-history-server.sh\n",
            "spark-2.3.1-bin-hadoop2.7/sbin/start-all.sh\n",
            "spark-2.3.1-bin-hadoop2.7/sbin/spark-daemons.sh\n",
            "spark-2.3.1-bin-hadoop2.7/sbin/stop-thriftserver.sh\n",
            "spark-2.3.1-bin-hadoop2.7/sbin/slaves.sh\n",
            "spark-2.3.1-bin-hadoop2.7/sbin/stop-all.sh\n",
            "spark-2.3.1-bin-hadoop2.7/sbin/start-shuffle-service.sh\n",
            "spark-2.3.1-bin-hadoop2.7/sbin/start-master.sh\n",
            "spark-2.3.1-bin-hadoop2.7/sbin/stop-mesos-shuffle-service.sh\n",
            "spark-2.3.1-bin-hadoop2.7/sbin/start-slaves.sh\n",
            "spark-2.3.1-bin-hadoop2.7/README.md\n",
            "/bin/sh: 1: sudo: not found\n",
            "/bin/sh: 1: sudo: not found\n",
            "/bin/sh: 1: source: not found\n"
          ],
          "name": "stdout"
        }
      ]
    },
    {
      "cell_type": "code",
      "metadata": {
        "id": "t-sny4Wacfrb",
        "colab_type": "code",
        "colab": {}
      },
      "source": [
        "import os\n",
        "os.environ[\"JAVA_HOME\"] = \"/usr/lib/jvm/java-8-openjdk-amd64\"\n",
        "os.environ[\"SPARK_HOME\"] = \"/content/spark-2.3.1-bin-hadoop2.7\""
      ],
      "execution_count": 0,
      "outputs": []
    },
    {
      "cell_type": "code",
      "metadata": {
        "id": "ONi24qht-QeN",
        "colab_type": "code",
        "colab": {}
      },
      "source": [
        "!pip install -q findspark"
      ],
      "execution_count": 0,
      "outputs": []
    },
    {
      "cell_type": "code",
      "metadata": {
        "id": "PWQvSmvqE5Nq",
        "colab_type": "code",
        "outputId": "c2ae0e9f-fbeb-4b40-c17a-07fe2d1e5cbe",
        "colab": {
          "base_uri": "https://localhost:8080/",
          "height": 102
        }
      },
      "source": [
        "!apt-get update\n",
        "!apt-get install openjdk-8-jdk-headless -qq > /dev/null\n",
        "!wget -q http://apache.osuosl.org/spark/spark-2.3.1/spark-2.3.1-bin-hadoop2.7.tgz\n",
        "!tar xf spark-2.3.1-bin-hadoop2.7.tgz\n",
        "!pip install -q findspark"
      ],
      "execution_count": 0,
      "outputs": [
        {
          "output_type": "stream",
          "text": [
            "Hit:1 http://security.ubuntu.com/ubuntu artful-security InRelease\n",
            "Hit:2 http://archive.ubuntu.com/ubuntu artful InRelease\n",
            "Hit:3 http://archive.ubuntu.com/ubuntu artful-updates InRelease\n",
            "Hit:4 http://archive.ubuntu.com/ubuntu artful-backports InRelease\n",
            "Reading package lists... Done\n"
          ],
          "name": "stdout"
        }
      ]
    },
    {
      "cell_type": "code",
      "metadata": {
        "id": "vxOBWKEH-CfQ",
        "colab_type": "code",
        "colab": {}
      },
      "source": [
        "import findspark\n",
        "findspark.init()\n",
        "from pyspark.sql import SparkSession\n",
        "spark = SparkSession.builder.master(\"local[*]\").getOrCreate()"
      ],
      "execution_count": 0,
      "outputs": []
    },
    {
      "cell_type": "code",
      "metadata": {
        "id": "jIG8-qiP-CUp",
        "colab_type": "code",
        "outputId": "1d3c2910-df66-4b00-d7ef-9cc6ae9e1139",
        "colab": {
          "base_uri": "https://localhost:8080/",
          "height": 193
        }
      },
      "source": [
        "sc = spark.sparkContext\n",
        "sc"
      ],
      "execution_count": 0,
      "outputs": [
        {
          "output_type": "execute_result",
          "data": {
            "text/html": [
              "\n",
              "        <div>\n",
              "            <p><b>SparkContext</b></p>\n",
              "\n",
              "            <p><a href=\"http://b85cfa2a3ea3:4040\">Spark UI</a></p>\n",
              "\n",
              "            <dl>\n",
              "              <dt>Version</dt>\n",
              "                <dd><code>v2.3.1</code></dd>\n",
              "              <dt>Master</dt>\n",
              "                <dd><code>local[*]</code></dd>\n",
              "              <dt>AppName</dt>\n",
              "                <dd><code>pyspark-shell</code></dd>\n",
              "            </dl>\n",
              "        </div>\n",
              "        "
            ],
            "text/plain": [
              "<SparkContext master=local[*] appName=pyspark-shell>"
            ]
          },
          "metadata": {
            "tags": []
          },
          "execution_count": 9
        }
      ]
    },
    {
      "cell_type": "code",
      "metadata": {
        "id": "8QCWhIE1-CTd",
        "colab_type": "code",
        "outputId": "2858a0f3-e843-420d-d3e0-6b79661d212d",
        "colab": {
          "resources": {
            "http://localhost:8080/nbextensions/google.colab/files.js": {
              "data": "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",
              "ok": true,
              "headers": [
                [
                  "content-type",
                  "application/javascript"
                ]
              ],
              "status": 200,
              "status_text": ""
            }
          },
          "base_uri": "https://localhost:8080/",
          "height": 72
        }
      },
      "source": [
        "from google.colab import files\n",
        "datafile = files.upload()"
      ],
      "execution_count": 0,
      "outputs": [
        {
          "output_type": "display_data",
          "data": {
            "text/html": [
              "\n",
              "     <input type=\"file\" id=\"files-6665c21c-1e4c-44b9-86ff-d202462d40da\" name=\"files[]\" multiple disabled />\n",
              "     <output id=\"result-6665c21c-1e4c-44b9-86ff-d202462d40da\">\n",
              "      Upload widget is only available when the cell has been executed in the\n",
              "      current browser session. Please rerun this cell to enable.\n",
              "      </output>\n",
              "      <script src=\"/nbextensions/google.colab/files.js\"></script> "
            ],
            "text/plain": [
              "<IPython.core.display.HTML object>"
            ]
          },
          "metadata": {
            "tags": []
          }
        },
        {
          "output_type": "stream",
          "text": [
            "Saving train.csv to train.csv\n"
          ],
          "name": "stdout"
        }
      ]
    },
    {
      "cell_type": "code",
      "metadata": {
        "id": "QGylmMfJ-CN8",
        "colab_type": "code",
        "outputId": "1503ab6b-6c4d-4383-8d4a-aa60fc3005c0",
        "colab": {
          "resources": {
            "http://localhost:8080/nbextensions/google.colab/files.js": {
              "data": "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",
              "ok": true,
              "headers": [
                [
                  "content-type",
                  "application/javascript"
                ]
              ],
              "status": 200,
              "status_text": ""
            }
          },
          "base_uri": "https://localhost:8080/",
          "height": 72
        }
      },
      "source": [
        "from google.colab import files\n",
        "datafile = files.upload()"
      ],
      "execution_count": 0,
      "outputs": [
        {
          "output_type": "display_data",
          "data": {
            "text/html": [
              "\n",
              "     <input type=\"file\" id=\"files-ed3746b1-a303-4170-9566-eddad0818217\" name=\"files[]\" multiple disabled />\n",
              "     <output id=\"result-ed3746b1-a303-4170-9566-eddad0818217\">\n",
              "      Upload widget is only available when the cell has been executed in the\n",
              "      current browser session. Please rerun this cell to enable.\n",
              "      </output>\n",
              "      <script src=\"/nbextensions/google.colab/files.js\"></script> "
            ],
            "text/plain": [
              "<IPython.core.display.HTML object>"
            ]
          },
          "metadata": {
            "tags": []
          }
        },
        {
          "output_type": "stream",
          "text": [
            "Saving test.csv to test.csv\n"
          ],
          "name": "stdout"
        }
      ]
    },
    {
      "cell_type": "code",
      "metadata": {
        "id": "VIQUPQPx3Y6O",
        "colab_type": "code",
        "colab": {}
      },
      "source": [
        "test = spark.read.format(\"csv\").option(\"header\", \"true\").option(\"inferSchema\", \"true\").load(\"test.csv\")"
      ],
      "execution_count": 0,
      "outputs": []
    },
    {
      "cell_type": "code",
      "metadata": {
        "id": "hyZFb5Ha3Y5W",
        "colab_type": "code",
        "outputId": "ab2cb743-f361-4226-b282-7ee7b3302c0e",
        "colab": {
          "base_uri": "https://localhost:8080/",
          "height": 71
        }
      },
      "source": [
        "test.take(2)"
      ],
      "execution_count": 0,
      "outputs": [
        {
          "output_type": "execute_result",
          "data": {
            "text/plain": [
              "[Row(Loan_ID='LP001015', Gender='Male', Married='Yes', Dependents='0', Education='Graduate', Self_Employed='No', ApplicantIncome=5720, CoapplicantIncome=0, LoanAmount=110, Loan_Amount_Term=360, Credit_History=1, Property_Area='Urban'),\n",
              " Row(Loan_ID='LP001022', Gender='Male', Married='Yes', Dependents='1', Education='Graduate', Self_Employed='No', ApplicantIncome=3076, CoapplicantIncome=1500, LoanAmount=126, Loan_Amount_Term=360, Credit_History=1, Property_Area='Urban')]"
            ]
          },
          "metadata": {
            "tags": []
          },
          "execution_count": 29
        }
      ]
    },
    {
      "cell_type": "code",
      "metadata": {
        "id": "8JYJQ9wT3Yx_",
        "colab_type": "code",
        "colab": {}
      },
      "source": [
        "train = spark.read.format(\"csv\").option(\"header\", \"true\").option(\"inferSchema\", \"true\").load(\"train.csv\")"
      ],
      "execution_count": 0,
      "outputs": []
    },
    {
      "cell_type": "code",
      "metadata": {
        "id": "ouUM-kMwYjQV",
        "colab_type": "code",
        "outputId": "fda6ecb4-4791-43cf-8d78-36aad9d3a597",
        "colab": {
          "base_uri": "https://localhost:8080/",
          "height": 71
        }
      },
      "source": [
        "train.take(2)"
      ],
      "execution_count": 0,
      "outputs": [
        {
          "output_type": "execute_result",
          "data": {
            "text/plain": [
              "[Row(Loan_ID='LP001002', Gender='Male', Married='No', Dependents='0', Education='Graduate', Self_Employed='No', ApplicantIncome=5849, CoapplicantIncome=0.0, LoanAmount=None, Loan_Amount_Term=360, Credit_History=1, Property_Area='Urban', Loan_Status='Y'),\n",
              " Row(Loan_ID='LP001003', Gender='Male', Married='Yes', Dependents='1', Education='Graduate', Self_Employed='No', ApplicantIncome=4583, CoapplicantIncome=1508.0, LoanAmount=128, Loan_Amount_Term=360, Credit_History=1, Property_Area='Rural', Loan_Status='N')]"
            ]
          },
          "metadata": {
            "tags": []
          },
          "execution_count": 31
        }
      ]
    },
    {
      "cell_type": "code",
      "metadata": {
        "id": "RpQtgkRBYjPk",
        "colab_type": "code",
        "outputId": "ff93448a-ac7d-42cd-8f72-19750b884873",
        "colab": {
          "base_uri": "https://localhost:8080/",
          "height": 272
        }
      },
      "source": [
        "train.printSchema()"
      ],
      "execution_count": 0,
      "outputs": [
        {
          "output_type": "stream",
          "text": [
            "root\n",
            " |-- Loan_ID: string (nullable = true)\n",
            " |-- Gender: string (nullable = true)\n",
            " |-- Married: string (nullable = true)\n",
            " |-- Dependents: string (nullable = true)\n",
            " |-- Education: string (nullable = true)\n",
            " |-- Self_Employed: string (nullable = true)\n",
            " |-- ApplicantIncome: integer (nullable = true)\n",
            " |-- CoapplicantIncome: double (nullable = true)\n",
            " |-- LoanAmount: integer (nullable = true)\n",
            " |-- Loan_Amount_Term: integer (nullable = true)\n",
            " |-- Credit_History: integer (nullable = true)\n",
            " |-- Property_Area: string (nullable = true)\n",
            " |-- Loan_Status: string (nullable = true)\n",
            "\n"
          ],
          "name": "stdout"
        }
      ]
    },
    {
      "cell_type": "code",
      "metadata": {
        "id": "nEb-2voMYjKf",
        "colab_type": "code",
        "outputId": "6c438d02-baed-4b7f-f855-ae238ad20188",
        "colab": {
          "base_uri": "https://localhost:8080/",
          "height": 255
        }
      },
      "source": [
        "test.printSchema()"
      ],
      "execution_count": 0,
      "outputs": [
        {
          "output_type": "stream",
          "text": [
            "root\n",
            " |-- Loan_ID: string (nullable = true)\n",
            " |-- Gender: string (nullable = true)\n",
            " |-- Married: string (nullable = true)\n",
            " |-- Dependents: string (nullable = true)\n",
            " |-- Education: string (nullable = true)\n",
            " |-- Self_Employed: string (nullable = true)\n",
            " |-- ApplicantIncome: integer (nullable = true)\n",
            " |-- CoapplicantIncome: integer (nullable = true)\n",
            " |-- LoanAmount: integer (nullable = true)\n",
            " |-- Loan_Amount_Term: integer (nullable = true)\n",
            " |-- Credit_History: integer (nullable = true)\n",
            " |-- Property_Area: string (nullable = true)\n",
            "\n"
          ],
          "name": "stdout"
        }
      ]
    },
    {
      "cell_type": "code",
      "metadata": {
        "id": "0FLuTN0QYjJv",
        "colab_type": "code",
        "outputId": "8b71b12f-c9cb-408a-8d76-70b530cc8cb6",
        "colab": {
          "base_uri": "https://localhost:8080/",
          "height": 173
        }
      },
      "source": [
        "train.show(2,truncate= True)"
      ],
      "execution_count": 0,
      "outputs": [
        {
          "output_type": "stream",
          "text": [
            "+--------+------+-------+----------+---------+-------------+---------------+-----------------+----------+----------------+--------------+-------------+-----------+\n",
            "| Loan_ID|Gender|Married|Dependents|Education|Self_Employed|ApplicantIncome|CoapplicantIncome|LoanAmount|Loan_Amount_Term|Credit_History|Property_Area|Loan_Status|\n",
            "+--------+------+-------+----------+---------+-------------+---------------+-----------------+----------+----------------+--------------+-------------+-----------+\n",
            "|LP001002|  Male|     No|         0| Graduate|           No|           5849|              0.0|      null|             360|             1|        Urban|          Y|\n",
            "|LP001003|  Male|    Yes|         1| Graduate|           No|           4583|           1508.0|       128|             360|             1|        Rural|          N|\n",
            "+--------+------+-------+----------+---------+-------------+---------------+-----------------+----------+----------------+--------------+-------------+-----------+\n",
            "only showing top 2 rows\n",
            "\n"
          ],
          "name": "stdout"
        }
      ]
    },
    {
      "cell_type": "code",
      "metadata": {
        "id": "Q_b14AaMYjE2",
        "colab_type": "code",
        "outputId": "0f354b0e-c7e7-4324-d213-251ec7d5b690",
        "colab": {
          "base_uri": "https://localhost:8080/",
          "height": 34
        }
      },
      "source": [
        "train.count(), test.count()"
      ],
      "execution_count": 0,
      "outputs": [
        {
          "output_type": "execute_result",
          "data": {
            "text/plain": [
              "(614, 367)"
            ]
          },
          "metadata": {
            "tags": []
          },
          "execution_count": 35
        }
      ]
    },
    {
      "cell_type": "code",
      "metadata": {
        "id": "orjhq7SwYjEJ",
        "colab_type": "code",
        "outputId": "f8dc3e2f-33c1-43e7-b9e3-448458e7e801",
        "colab": {
          "base_uri": "https://localhost:8080/",
          "height": 255
        }
      },
      "source": [
        "len(train.columns), train.columns"
      ],
      "execution_count": 0,
      "outputs": [
        {
          "output_type": "execute_result",
          "data": {
            "text/plain": [
              "(13,\n",
              " ['Loan_ID',\n",
              "  'Gender',\n",
              "  'Married',\n",
              "  'Dependents',\n",
              "  'Education',\n",
              "  'Self_Employed',\n",
              "  'ApplicantIncome',\n",
              "  'CoapplicantIncome',\n",
              "  'LoanAmount',\n",
              "  'Loan_Amount_Term',\n",
              "  'Credit_History',\n",
              "  'Property_Area',\n",
              "  'Loan_Status'])"
            ]
          },
          "metadata": {
            "tags": []
          },
          "execution_count": 36
        }
      ]
    },
    {
      "cell_type": "code",
      "metadata": {
        "id": "EW7YFyJLYi_P",
        "colab_type": "code",
        "outputId": "273a2ce5-ba8f-482f-d8a0-b64422ef331e",
        "colab": {
          "base_uri": "https://localhost:8080/",
          "height": 238
        }
      },
      "source": [
        "len(test.columns), test.columns"
      ],
      "execution_count": 0,
      "outputs": [
        {
          "output_type": "execute_result",
          "data": {
            "text/plain": [
              "(12,\n",
              " ['Loan_ID',\n",
              "  'Gender',\n",
              "  'Married',\n",
              "  'Dependents',\n",
              "  'Education',\n",
              "  'Self_Employed',\n",
              "  'ApplicantIncome',\n",
              "  'CoapplicantIncome',\n",
              "  'LoanAmount',\n",
              "  'Loan_Amount_Term',\n",
              "  'Credit_History',\n",
              "  'Property_Area'])"
            ]
          },
          "metadata": {
            "tags": []
          },
          "execution_count": 37
        }
      ]
    },
    {
      "cell_type": "code",
      "metadata": {
        "id": "sOQdLkr-Yi-j",
        "colab_type": "code",
        "outputId": "a6975afc-9d1e-43d7-b167-f3bab53c6cfa",
        "colab": {
          "base_uri": "https://localhost:8080/",
          "height": 207
        }
      },
      "source": [
        "test.describe().show()"
      ],
      "execution_count": 0,
      "outputs": [
        {
          "output_type": "stream",
          "text": [
            "+-------+--------+------+-------+-----------------+------------+-------------+-----------------+------------------+------------------+------------------+------------------+-------------+\n",
            "|summary| Loan_ID|Gender|Married|       Dependents|   Education|Self_Employed|  ApplicantIncome| CoapplicantIncome|        LoanAmount|  Loan_Amount_Term|    Credit_History|Property_Area|\n",
            "+-------+--------+------+-------+-----------------+------------+-------------+-----------------+------------------+------------------+------------------+------------------+-------------+\n",
            "|  count|     367|   356|    367|              357|         367|          344|              367|               367|               362|               361|               338|          367|\n",
            "|   mean|    null|  null|   null|0.555205047318612|        null|         null|4805.599455040872|1569.5776566757493|136.13259668508286|342.53739612188366|0.8254437869822485|         null|\n",
            "| stddev|    null|  null|   null|0.788131727070386|        null|         null|4910.685398980398|2334.2320986863456|61.366652393018235|   65.156643413997|0.3801498354914703|         null|\n",
            "|    min|LP001015|Female|     No|                0|    Graduate|           No|                0|                 0|                28|                 6|                 0|        Rural|\n",
            "|    max|LP002989|  Male|    Yes|               3+|Not Graduate|          Yes|            72529|             24000|               550|               480|                 1|        Urban|\n",
            "+-------+--------+------+-------+-----------------+------------+-------------+-----------------+------------------+------------------+------------------+------------------+-------------+\n",
            "\n"
          ],
          "name": "stdout"
        }
      ]
    },
    {
      "cell_type": "code",
      "metadata": {
        "id": "yJac1tIQYi5T",
        "colab_type": "code",
        "outputId": "3b35daef-fc5f-45fb-b2a8-db6600b907f0",
        "colab": {
          "base_uri": "https://localhost:8080/",
          "height": 207
        }
      },
      "source": [
        "train.describe().show()"
      ],
      "execution_count": 0,
      "outputs": [
        {
          "output_type": "stream",
          "text": [
            "+-------+--------+------+-------+------------------+------------+-------------+-----------------+------------------+------------------+-----------------+------------------+-------------+-----------+\n",
            "|summary| Loan_ID|Gender|Married|        Dependents|   Education|Self_Employed|  ApplicantIncome| CoapplicantIncome|        LoanAmount| Loan_Amount_Term|    Credit_History|Property_Area|Loan_Status|\n",
            "+-------+--------+------+-------+------------------+------------+-------------+-----------------+------------------+------------------+-----------------+------------------+-------------+-----------+\n",
            "|  count|     614|   601|    611|               599|         614|          582|              614|               614|               592|              600|               564|          614|        614|\n",
            "|   mean|    null|  null|   null|0.5547445255474452|        null|         null|5403.459283387622| 1621.245798027101|146.41216216216216|            342.0|0.8421985815602837|         null|       null|\n",
            "| stddev|    null|  null|   null|0.7853289861674311|        null|         null|6109.041673387181|2926.2483692241894| 85.58732523570545|65.12040985461255|0.3648783192364052|         null|       null|\n",
            "|    min|LP001002|Female|     No|                 0|    Graduate|           No|              150|               0.0|                 9|               12|                 0|        Rural|          N|\n",
            "|    max|LP002990|  Male|    Yes|                3+|Not Graduate|          Yes|            81000|           41667.0|               700|              480|                 1|        Urban|          Y|\n",
            "+-------+--------+------+-------+------------------+------------+-------------+-----------------+------------------+------------------+-----------------+------------------+-------------+-----------+\n",
            "\n"
          ],
          "name": "stdout"
        }
      ]
    },
    {
      "cell_type": "code",
      "metadata": {
        "id": "cdwwOkmeYi4h",
        "colab_type": "code",
        "outputId": "3ae99238-20f3-46fb-8145-1182fa914f08",
        "colab": {
          "base_uri": "https://localhost:8080/",
          "height": 34
        }
      },
      "source": [
        "type(train)"
      ],
      "execution_count": 0,
      "outputs": [
        {
          "output_type": "execute_result",
          "data": {
            "text/plain": [
              "pyspark.sql.dataframe.DataFrame"
            ]
          },
          "metadata": {
            "tags": []
          },
          "execution_count": 40
        }
      ]
    },
    {
      "cell_type": "code",
      "metadata": {
        "id": "8izHFqnMYi0A",
        "colab_type": "code",
        "outputId": "258097dd-c34c-43da-a1d9-5a239ab64d56",
        "colab": {
          "base_uri": "https://localhost:8080/",
          "height": 238
        }
      },
      "source": [
        "train.dtypes "
      ],
      "execution_count": 0,
      "outputs": [
        {
          "output_type": "execute_result",
          "data": {
            "text/plain": [
              "[('Loan_ID', 'string'),\n",
              " ('Gender', 'string'),\n",
              " ('Married', 'string'),\n",
              " ('Dependents', 'string'),\n",
              " ('Education', 'string'),\n",
              " ('Self_Employed', 'string'),\n",
              " ('ApplicantIncome', 'int'),\n",
              " ('CoapplicantIncome', 'double'),\n",
              " ('LoanAmount', 'int'),\n",
              " ('Loan_Amount_Term', 'int'),\n",
              " ('Credit_History', 'int'),\n",
              " ('Property_Area', 'string'),\n",
              " ('Loan_Status', 'string')]"
            ]
          },
          "metadata": {
            "tags": []
          },
          "execution_count": 41
        }
      ]
    },
    {
      "cell_type": "code",
      "metadata": {
        "id": "niI2RXonYizA",
        "colab_type": "code",
        "outputId": "006bf2fc-1e23-40d8-9927-e6f2f24a84bd",
        "colab": {
          "base_uri": "https://localhost:8080/",
          "height": 238
        }
      },
      "source": [
        "for x in train.columns:\n",
        "  c=(train.select(x).count())-train.select(x).na.drop().count()\n",
        "  print(x,'\\t:',c)\n",
        "    "
      ],
      "execution_count": 0,
      "outputs": [
        {
          "output_type": "stream",
          "text": [
            "Loan_ID \t: 0\n",
            "Gender \t: 13\n",
            "Married \t: 3\n",
            "Dependents \t: 15\n",
            "Education \t: 0\n",
            "Self_Employed \t: 32\n",
            "ApplicantIncome \t: 0\n",
            "CoapplicantIncome \t: 0\n",
            "LoanAmount \t: 22\n",
            "Loan_Amount_Term \t: 14\n",
            "Credit_History \t: 50\n",
            "Property_Area \t: 0\n",
            "Loan_Status \t: 0\n"
          ],
          "name": "stdout"
        }
      ]
    },
    {
      "cell_type": "code",
      "metadata": {
        "id": "hAzS6SI-ZVBB",
        "colab_type": "code",
        "outputId": "00ac86d2-cccd-4f9b-a60b-d53bd9cd55cc",
        "colab": {
          "base_uri": "https://localhost:8080/",
          "height": 153
        }
      },
      "source": [
        "train.groupby('Gender').agg({'Gender':'count'}).show()"
      ],
      "execution_count": 0,
      "outputs": [
        {
          "output_type": "stream",
          "text": [
            "+------+-------------+\n",
            "|Gender|count(Gender)|\n",
            "+------+-------------+\n",
            "|  null|            0|\n",
            "|Female|          112|\n",
            "|  Male|          489|\n",
            "+------+-------------+\n",
            "\n"
          ],
          "name": "stdout"
        }
      ]
    },
    {
      "cell_type": "code",
      "metadata": {
        "id": "NT7zFicxZU7n",
        "colab_type": "code",
        "outputId": "bea70ecb-4931-443d-a363-fec1dc88a639",
        "colab": {
          "base_uri": "https://localhost:8080/",
          "height": 1105
        }
      },
      "source": [
        "label=['Gender','Married','Dependents','Self_Employed','LoanAmount','Loan_Amount_Term','Credit_History']\n",
        "for i in range(len(train.dtypes)):\n",
        "  if train.dtypes[i][0] in label:\n",
        "    if train.dtypes[i][1] == 'string':\n",
        "      train.groupby(train.dtypes[i][0]).agg({train.dtypes[i][0]:'count'}).show()\n",
        "    \n",
        "      \n",
        "    else:\n",
        "      train.describe(train.dtypes[i][0]).show()"
      ],
      "execution_count": 0,
      "outputs": [
        {
          "output_type": "stream",
          "text": [
            "+------+-------------+\n",
            "|Gender|count(Gender)|\n",
            "+------+-------------+\n",
            "|  null|            0|\n",
            "|Female|          112|\n",
            "|  Male|          489|\n",
            "+------+-------------+\n",
            "\n",
            "+-------+--------------+\n",
            "|Married|count(Married)|\n",
            "+-------+--------------+\n",
            "|   null|             0|\n",
            "|     No|           213|\n",
            "|    Yes|           398|\n",
            "+-------+--------------+\n",
            "\n",
            "+----------+-----------------+\n",
            "|Dependents|count(Dependents)|\n",
            "+----------+-----------------+\n",
            "|         0|              345|\n",
            "|      null|                0|\n",
            "|         1|              102|\n",
            "|        3+|               51|\n",
            "|         2|              101|\n",
            "+----------+-----------------+\n",
            "\n",
            "+-------------+--------------------+\n",
            "|Self_Employed|count(Self_Employed)|\n",
            "+-------------+--------------------+\n",
            "|         null|                   0|\n",
            "|           No|                 500|\n",
            "|          Yes|                  82|\n",
            "+-------------+--------------------+\n",
            "\n",
            "+-------+------------------+\n",
            "|summary|        LoanAmount|\n",
            "+-------+------------------+\n",
            "|  count|               592|\n",
            "|   mean|146.41216216216216|\n",
            "| stddev| 85.58732523570545|\n",
            "|    min|                 9|\n",
            "|    max|               700|\n",
            "+-------+------------------+\n",
            "\n",
            "+-------+-----------------+\n",
            "|summary| Loan_Amount_Term|\n",
            "+-------+-----------------+\n",
            "|  count|              600|\n",
            "|   mean|            342.0|\n",
            "| stddev|65.12040985461255|\n",
            "|    min|               12|\n",
            "|    max|              480|\n",
            "+-------+-----------------+\n",
            "\n",
            "+-------+------------------+\n",
            "|summary|    Credit_History|\n",
            "+-------+------------------+\n",
            "|  count|               564|\n",
            "|   mean|0.8421985815602837|\n",
            "| stddev|0.3648783192364052|\n",
            "|    min|                 0|\n",
            "|    max|                 1|\n",
            "+-------+------------------+\n",
            "\n"
          ],
          "name": "stdout"
        }
      ]
    },
    {
      "cell_type": "code",
      "metadata": {
        "id": "0WANQCuNZU3H",
        "colab_type": "code",
        "colab": {}
      },
      "source": [
        "train_new=train.na.fill({'Gender':'Male','Married':'Yes','Dependents':0,'Self_Employed':'No','LoanAmount':146.41,'Loan_Amount_Term':342.0,'Credit_History':1})"
      ],
      "execution_count": 0,
      "outputs": []
    },
    {
      "cell_type": "code",
      "metadata": {
        "id": "27S8bwfBZU2N",
        "colab_type": "code",
        "outputId": "28884795-63ed-467d-b176-81fa6c14ddd0",
        "colab": {
          "base_uri": "https://localhost:8080/",
          "height": 479
        }
      },
      "source": [
        "train_new.show()"
      ],
      "execution_count": 0,
      "outputs": [
        {
          "output_type": "stream",
          "text": [
            "+--------+------+-------+----------+------------+-------------+---------------+-----------------+----------+----------------+--------------+-------------+-----------+\n",
            "| Loan_ID|Gender|Married|Dependents|   Education|Self_Employed|ApplicantIncome|CoapplicantIncome|LoanAmount|Loan_Amount_Term|Credit_History|Property_Area|Loan_Status|\n",
            "+--------+------+-------+----------+------------+-------------+---------------+-----------------+----------+----------------+--------------+-------------+-----------+\n",
            "|LP001002|  Male|     No|         0|    Graduate|           No|           5849|              0.0|       146|             360|             1|        Urban|          Y|\n",
            "|LP001003|  Male|    Yes|         1|    Graduate|           No|           4583|           1508.0|       128|             360|             1|        Rural|          N|\n",
            "|LP001005|  Male|    Yes|         0|    Graduate|          Yes|           3000|              0.0|        66|             360|             1|        Urban|          Y|\n",
            "|LP001006|  Male|    Yes|         0|Not Graduate|           No|           2583|           2358.0|       120|             360|             1|        Urban|          Y|\n",
            "|LP001008|  Male|     No|         0|    Graduate|           No|           6000|              0.0|       141|             360|             1|        Urban|          Y|\n",
            "|LP001011|  Male|    Yes|         2|    Graduate|          Yes|           5417|           4196.0|       267|             360|             1|        Urban|          Y|\n",
            "|LP001013|  Male|    Yes|         0|Not Graduate|           No|           2333|           1516.0|        95|             360|             1|        Urban|          Y|\n",
            "|LP001014|  Male|    Yes|        3+|    Graduate|           No|           3036|           2504.0|       158|             360|             0|    Semiurban|          N|\n",
            "|LP001018|  Male|    Yes|         2|    Graduate|           No|           4006|           1526.0|       168|             360|             1|        Urban|          Y|\n",
            "|LP001020|  Male|    Yes|         1|    Graduate|           No|          12841|          10968.0|       349|             360|             1|    Semiurban|          N|\n",
            "|LP001024|  Male|    Yes|         2|    Graduate|           No|           3200|            700.0|        70|             360|             1|        Urban|          Y|\n",
            "|LP001027|  Male|    Yes|         2|    Graduate|           No|           2500|           1840.0|       109|             360|             1|        Urban|          Y|\n",
            "|LP001028|  Male|    Yes|         2|    Graduate|           No|           3073|           8106.0|       200|             360|             1|        Urban|          Y|\n",
            "|LP001029|  Male|     No|         0|    Graduate|           No|           1853|           2840.0|       114|             360|             1|        Rural|          N|\n",
            "|LP001030|  Male|    Yes|         2|    Graduate|           No|           1299|           1086.0|        17|             120|             1|        Urban|          Y|\n",
            "|LP001032|  Male|     No|         0|    Graduate|           No|           4950|              0.0|       125|             360|             1|        Urban|          Y|\n",
            "|LP001034|  Male|     No|         1|Not Graduate|           No|           3596|              0.0|       100|             240|             1|        Urban|          Y|\n",
            "|LP001036|Female|     No|         0|    Graduate|           No|           3510|              0.0|        76|             360|             0|        Urban|          N|\n",
            "|LP001038|  Male|    Yes|         0|Not Graduate|           No|           4887|              0.0|       133|             360|             1|        Rural|          N|\n",
            "|LP001041|  Male|    Yes|         0|    Graduate|           No|           2600|           3500.0|       115|             342|             1|        Urban|          Y|\n",
            "+--------+------+-------+----------+------------+-------------+---------------+-----------------+----------+----------------+--------------+-------------+-----------+\n",
            "only showing top 20 rows\n",
            "\n"
          ],
          "name": "stdout"
        }
      ]
    },
    {
      "cell_type": "code",
      "metadata": {
        "id": "1KIkDIZXZUxU",
        "colab_type": "code",
        "outputId": "83b4e19a-a2b1-4d00-b1bf-7ffe5f1bc4aa",
        "colab": {
          "base_uri": "https://localhost:8080/",
          "height": 119
        }
      },
      "source": [
        "for x in test.columns:\n",
        "  c=(test.select(x).count())-test.select(x).na.drop().count()\n",
        "  if c != 0:\n",
        "    print(x,'\\t:',c)"
      ],
      "execution_count": 0,
      "outputs": [
        {
          "output_type": "stream",
          "text": [
            "Gender \t: 11\n",
            "Dependents \t: 10\n",
            "Self_Employed \t: 23\n",
            "LoanAmount \t: 5\n",
            "Loan_Amount_Term \t: 6\n",
            "Credit_History \t: 29\n"
          ],
          "name": "stdout"
        }
      ]
    },
    {
      "cell_type": "code",
      "metadata": {
        "id": "gWMb_Mc9ZUwg",
        "colab_type": "code",
        "outputId": "215e0d0c-1eb2-45c2-8c6c-bb4e14cef9ea",
        "colab": {
          "base_uri": "https://localhost:8080/",
          "height": 969
        }
      },
      "source": [
        "test_label=['Gender','Dependents','Self_Employed','LoanAmount','Loan_Amount_Term','Credit_History']\n",
        "for i in range(len(test.dtypes)):\n",
        "  if test.dtypes[i][0] in test_label:\n",
        "    if test.dtypes[i][1] == 'string':\n",
        "      test.groupby(test.dtypes[i][0]).agg({test.dtypes[i][0]:'count'}).show()\n",
        "    \n",
        "      \n",
        "    else:\n",
        "      test.describe(test.dtypes[i][0]).show()"
      ],
      "execution_count": 0,
      "outputs": [
        {
          "output_type": "stream",
          "text": [
            "+------+-------------+\n",
            "|Gender|count(Gender)|\n",
            "+------+-------------+\n",
            "|  null|            0|\n",
            "|Female|           70|\n",
            "|  Male|          286|\n",
            "+------+-------------+\n",
            "\n",
            "+----------+-----------------+\n",
            "|Dependents|count(Dependents)|\n",
            "+----------+-----------------+\n",
            "|         0|              200|\n",
            "|      null|                0|\n",
            "|         1|               58|\n",
            "|        3+|               40|\n",
            "|         2|               59|\n",
            "+----------+-----------------+\n",
            "\n",
            "+-------------+--------------------+\n",
            "|Self_Employed|count(Self_Employed)|\n",
            "+-------------+--------------------+\n",
            "|         null|                   0|\n",
            "|           No|                 307|\n",
            "|          Yes|                  37|\n",
            "+-------------+--------------------+\n",
            "\n",
            "+-------+------------------+\n",
            "|summary|        LoanAmount|\n",
            "+-------+------------------+\n",
            "|  count|               362|\n",
            "|   mean|136.13259668508286|\n",
            "| stddev|61.366652393018235|\n",
            "|    min|                28|\n",
            "|    max|               550|\n",
            "+-------+------------------+\n",
            "\n",
            "+-------+------------------+\n",
            "|summary|  Loan_Amount_Term|\n",
            "+-------+------------------+\n",
            "|  count|               361|\n",
            "|   mean|342.53739612188366|\n",
            "| stddev|   65.156643413997|\n",
            "|    min|                 6|\n",
            "|    max|               480|\n",
            "+-------+------------------+\n",
            "\n",
            "+-------+------------------+\n",
            "|summary|    Credit_History|\n",
            "+-------+------------------+\n",
            "|  count|               338|\n",
            "|   mean|0.8254437869822485|\n",
            "| stddev|0.3801498354914703|\n",
            "|    min|                 0|\n",
            "|    max|                 1|\n",
            "+-------+------------------+\n",
            "\n"
          ],
          "name": "stdout"
        }
      ]
    },
    {
      "cell_type": "code",
      "metadata": {
        "id": "6-G3x7p-ZyHx",
        "colab_type": "code",
        "colab": {}
      },
      "source": [
        "test_new=train.na.fill({'Gender':'Male','Dependents':0,'Self_Employed':'No','LoanAmount':136.13,'Loan_Amount_Term':342.0,'Credit_History':1})"
      ],
      "execution_count": 0,
      "outputs": []
    },
    {
      "cell_type": "code",
      "metadata": {
        "id": "hbsf1CgOZyG4",
        "colab_type": "code",
        "outputId": "f53acb15-b915-4deb-9959-edc8ebcd61d5",
        "colab": {
          "base_uri": "https://localhost:8080/",
          "height": 479
        }
      },
      "source": [
        "test_new.show()"
      ],
      "execution_count": 0,
      "outputs": [
        {
          "output_type": "stream",
          "text": [
            "+--------+------+-------+----------+------------+-------------+---------------+-----------------+----------+----------------+--------------+-------------+-----------+\n",
            "| Loan_ID|Gender|Married|Dependents|   Education|Self_Employed|ApplicantIncome|CoapplicantIncome|LoanAmount|Loan_Amount_Term|Credit_History|Property_Area|Loan_Status|\n",
            "+--------+------+-------+----------+------------+-------------+---------------+-----------------+----------+----------------+--------------+-------------+-----------+\n",
            "|LP001002|  Male|     No|         0|    Graduate|           No|           5849|              0.0|       136|             360|             1|        Urban|          Y|\n",
            "|LP001003|  Male|    Yes|         1|    Graduate|           No|           4583|           1508.0|       128|             360|             1|        Rural|          N|\n",
            "|LP001005|  Male|    Yes|         0|    Graduate|          Yes|           3000|              0.0|        66|             360|             1|        Urban|          Y|\n",
            "|LP001006|  Male|    Yes|         0|Not Graduate|           No|           2583|           2358.0|       120|             360|             1|        Urban|          Y|\n",
            "|LP001008|  Male|     No|         0|    Graduate|           No|           6000|              0.0|       141|             360|             1|        Urban|          Y|\n",
            "|LP001011|  Male|    Yes|         2|    Graduate|          Yes|           5417|           4196.0|       267|             360|             1|        Urban|          Y|\n",
            "|LP001013|  Male|    Yes|         0|Not Graduate|           No|           2333|           1516.0|        95|             360|             1|        Urban|          Y|\n",
            "|LP001014|  Male|    Yes|        3+|    Graduate|           No|           3036|           2504.0|       158|             360|             0|    Semiurban|          N|\n",
            "|LP001018|  Male|    Yes|         2|    Graduate|           No|           4006|           1526.0|       168|             360|             1|        Urban|          Y|\n",
            "|LP001020|  Male|    Yes|         1|    Graduate|           No|          12841|          10968.0|       349|             360|             1|    Semiurban|          N|\n",
            "|LP001024|  Male|    Yes|         2|    Graduate|           No|           3200|            700.0|        70|             360|             1|        Urban|          Y|\n",
            "|LP001027|  Male|    Yes|         2|    Graduate|           No|           2500|           1840.0|       109|             360|             1|        Urban|          Y|\n",
            "|LP001028|  Male|    Yes|         2|    Graduate|           No|           3073|           8106.0|       200|             360|             1|        Urban|          Y|\n",
            "|LP001029|  Male|     No|         0|    Graduate|           No|           1853|           2840.0|       114|             360|             1|        Rural|          N|\n",
            "|LP001030|  Male|    Yes|         2|    Graduate|           No|           1299|           1086.0|        17|             120|             1|        Urban|          Y|\n",
            "|LP001032|  Male|     No|         0|    Graduate|           No|           4950|              0.0|       125|             360|             1|        Urban|          Y|\n",
            "|LP001034|  Male|     No|         1|Not Graduate|           No|           3596|              0.0|       100|             240|             1|        Urban|          Y|\n",
            "|LP001036|Female|     No|         0|    Graduate|           No|           3510|              0.0|        76|             360|             0|        Urban|          N|\n",
            "|LP001038|  Male|    Yes|         0|Not Graduate|           No|           4887|              0.0|       133|             360|             1|        Rural|          N|\n",
            "|LP001041|  Male|    Yes|         0|    Graduate|           No|           2600|           3500.0|       115|             342|             1|        Urban|          Y|\n",
            "+--------+------+-------+----------+------------+-------------+---------------+-----------------+----------+----------------+--------------+-------------+-----------+\n",
            "only showing top 20 rows\n",
            "\n"
          ],
          "name": "stdout"
        }
      ]
    },
    {
      "cell_type": "code",
      "metadata": {
        "id": "iS3fenCSZyBt",
        "colab_type": "code",
        "colab": {}
      },
      "source": [
        "from pyspark.sql import functions as F\n",
        " \n",
        "def create_dummies(df,dummylist):\n",
        " \n",
        "   for inputcol in dummylist:\n",
        "      categories = df.select(inputcol).rdd.distinct().flatMap(lambda x: x).collect()\n",
        " \n",
        "      exprs = [F.when(F.col(inputcol) == category, 1).otherwise(0).alias(category)\n",
        "      for category in categories]\n",
        " \n",
        "      for index,column in enumerate(exprs):\n",
        "         df=df.withColumn(inputcol+str(index),column)\n",
        " \n",
        "   return df"
      ],
      "execution_count": 0,
      "outputs": []
    },
    {
      "cell_type": "code",
      "metadata": {
        "id": "L7PZWA4iZxdA",
        "colab_type": "code",
        "colab": {}
      },
      "source": [
        "dummylist=[\"Dependents\",'Gender',\"Married\",\"Education\", \"Self_Employed\", \"Property_Area\",]\n",
        " \n",
        "train_data=create_dummies(train_new,dummylist)"
      ],
      "execution_count": 0,
      "outputs": []
    },
    {
      "cell_type": "code",
      "metadata": {
        "id": "0U3MVj2CZxcN",
        "colab_type": "code",
        "outputId": "fe9452e7-69d0-4113-f40b-be9c3d556718",
        "colab": {
          "base_uri": "https://localhost:8080/",
          "height": 479
        }
      },
      "source": [
        "train_data.show()"
      ],
      "execution_count": 0,
      "outputs": [
        {
          "output_type": "stream",
          "text": [
            "+--------+------+-------+----------+------------+-------------+---------------+-----------------+----------+----------------+--------------+-------------+-----------+-----------+-----------+-----------+-----------+-------+-------+--------+--------+----------+----------+--------------+--------------+--------------+--------------+--------------+\n",
            "| Loan_ID|Gender|Married|Dependents|   Education|Self_Employed|ApplicantIncome|CoapplicantIncome|LoanAmount|Loan_Amount_Term|Credit_History|Property_Area|Loan_Status|Dependents0|Dependents1|Dependents2|Dependents3|Gender0|Gender1|Married0|Married1|Education0|Education1|Self_Employed0|Self_Employed1|Property_Area0|Property_Area1|Property_Area2|\n",
            "+--------+------+-------+----------+------------+-------------+---------------+-----------------+----------+----------------+--------------+-------------+-----------+-----------+-----------+-----------+-----------+-------+-------+--------+--------+----------+----------+--------------+--------------+--------------+--------------+--------------+\n",
            "|LP001002|  Male|     No|         0|    Graduate|           No|           5849|              0.0|       146|             360|             1|        Urban|          Y|          1|          0|          0|          0|      1|      0|       1|       0|         1|         0|             1|             0|             1|             0|             0|\n",
            "|LP001003|  Male|    Yes|         1|    Graduate|           No|           4583|           1508.0|       128|             360|             1|        Rural|          N|          0|          1|          0|          0|      1|      0|       0|       1|         1|         0|             1|             0|             0|             1|             0|\n",
            "|LP001005|  Male|    Yes|         0|    Graduate|          Yes|           3000|              0.0|        66|             360|             1|        Urban|          Y|          1|          0|          0|          0|      1|      0|       0|       1|         1|         0|             0|             1|             1|             0|             0|\n",
            "|LP001006|  Male|    Yes|         0|Not Graduate|           No|           2583|           2358.0|       120|             360|             1|        Urban|          Y|          1|          0|          0|          0|      1|      0|       0|       1|         0|         1|             1|             0|             1|             0|             0|\n",
            "|LP001008|  Male|     No|         0|    Graduate|           No|           6000|              0.0|       141|             360|             1|        Urban|          Y|          1|          0|          0|          0|      1|      0|       1|       0|         1|         0|             1|             0|             1|             0|             0|\n",
            "|LP001011|  Male|    Yes|         2|    Graduate|          Yes|           5417|           4196.0|       267|             360|             1|        Urban|          Y|          0|          0|          1|          0|      1|      0|       0|       1|         1|         0|             0|             1|             1|             0|             0|\n",
            "|LP001013|  Male|    Yes|         0|Not Graduate|           No|           2333|           1516.0|        95|             360|             1|        Urban|          Y|          1|          0|          0|          0|      1|      0|       0|       1|         0|         1|             1|             0|             1|             0|             0|\n",
            "|LP001014|  Male|    Yes|        3+|    Graduate|           No|           3036|           2504.0|       158|             360|             0|    Semiurban|          N|          0|          0|          0|          1|      1|      0|       0|       1|         1|         0|             1|             0|             0|             0|             1|\n",
            "|LP001018|  Male|    Yes|         2|    Graduate|           No|           4006|           1526.0|       168|             360|             1|        Urban|          Y|          0|          0|          1|          0|      1|      0|       0|       1|         1|         0|             1|             0|             1|             0|             0|\n",
            "|LP001020|  Male|    Yes|         1|    Graduate|           No|          12841|          10968.0|       349|             360|             1|    Semiurban|          N|          0|          1|          0|          0|      1|      0|       0|       1|         1|         0|             1|             0|             0|             0|             1|\n",
            "|LP001024|  Male|    Yes|         2|    Graduate|           No|           3200|            700.0|        70|             360|             1|        Urban|          Y|          0|          0|          1|          0|      1|      0|       0|       1|         1|         0|             1|             0|             1|             0|             0|\n",
            "|LP001027|  Male|    Yes|         2|    Graduate|           No|           2500|           1840.0|       109|             360|             1|        Urban|          Y|          0|          0|          1|          0|      1|      0|       0|       1|         1|         0|             1|             0|             1|             0|             0|\n",
            "|LP001028|  Male|    Yes|         2|    Graduate|           No|           3073|           8106.0|       200|             360|             1|        Urban|          Y|          0|          0|          1|          0|      1|      0|       0|       1|         1|         0|             1|             0|             1|             0|             0|\n",
            "|LP001029|  Male|     No|         0|    Graduate|           No|           1853|           2840.0|       114|             360|             1|        Rural|          N|          1|          0|          0|          0|      1|      0|       1|       0|         1|         0|             1|             0|             0|             1|             0|\n",
            "|LP001030|  Male|    Yes|         2|    Graduate|           No|           1299|           1086.0|        17|             120|             1|        Urban|          Y|          0|          0|          1|          0|      1|      0|       0|       1|         1|         0|             1|             0|             1|             0|             0|\n",
            "|LP001032|  Male|     No|         0|    Graduate|           No|           4950|              0.0|       125|             360|             1|        Urban|          Y|          1|          0|          0|          0|      1|      0|       1|       0|         1|         0|             1|             0|             1|             0|             0|\n",
            "|LP001034|  Male|     No|         1|Not Graduate|           No|           3596|              0.0|       100|             240|             1|        Urban|          Y|          0|          1|          0|          0|      1|      0|       1|       0|         0|         1|             1|             0|             1|             0|             0|\n",
            "|LP001036|Female|     No|         0|    Graduate|           No|           3510|              0.0|        76|             360|             0|        Urban|          N|          1|          0|          0|          0|      0|      1|       1|       0|         1|         0|             1|             0|             1|             0|             0|\n",
            "|LP001038|  Male|    Yes|         0|Not Graduate|           No|           4887|              0.0|       133|             360|             1|        Rural|          N|          1|          0|          0|          0|      1|      0|       0|       1|         0|         1|             1|             0|             0|             1|             0|\n",
            "|LP001041|  Male|    Yes|         0|    Graduate|           No|           2600|           3500.0|       115|             342|             1|        Urban|          Y|          1|          0|          0|          0|      1|      0|       0|       1|         1|         0|             1|             0|             1|             0|             0|\n",
            "+--------+------+-------+----------+------------+-------------+---------------+-----------------+----------+----------------+--------------+-------------+-----------+-----------+-----------+-----------+-----------+-------+-------+--------+--------+----------+----------+--------------+--------------+--------------+--------------+--------------+\n",
            "only showing top 20 rows\n",
            "\n"
          ],
          "name": "stdout"
        }
      ]
    },
    {
      "cell_type": "code",
      "metadata": {
        "id": "CNSlwGXPZxXd",
        "colab_type": "code",
        "colab": {}
      },
      "source": [
        "from pyspark.ml.feature import StringIndexer, OneHotEncoder\n",
        "def create_index(df,indexlist):\n",
        "  for inputcol in indexlist:\n",
        "    indexer = StringIndexer().setInputCol(inputcol).setOutputCol(inputcol+'index').fit(df)\n",
        "    indexed = indexer.transform(df)\n",
        "    return indexed\n",
        "  "
      ],
      "execution_count": 0,
      "outputs": []
    },
    {
      "cell_type": "code",
      "metadata": {
        "id": "aLXGNDI2ZxWe",
        "colab_type": "code",
        "colab": {}
      },
      "source": [
        "indexlist=[\"Loan_Status\"]\n",
        "train_data1=create_index(train_data,indexlist)"
      ],
      "execution_count": 0,
      "outputs": []
    },
    {
      "cell_type": "code",
      "metadata": {
        "id": "-54VoFMMZxRi",
        "colab_type": "code",
        "outputId": "1b67f5d4-1601-4add-f1d5-3020471d5846",
        "colab": {
          "base_uri": "https://localhost:8080/",
          "height": 479
        }
      },
      "source": [
        "train_data1.show()"
      ],
      "execution_count": 0,
      "outputs": [
        {
          "output_type": "stream",
          "text": [
            "+--------+------+-------+----------+------------+-------------+---------------+-----------------+----------+----------------+--------------+-------------+-----------+-----------+-----------+-----------+-----------+-------+-------+--------+--------+----------+----------+--------------+--------------+--------------+--------------+--------------+----------------+\n",
            "| Loan_ID|Gender|Married|Dependents|   Education|Self_Employed|ApplicantIncome|CoapplicantIncome|LoanAmount|Loan_Amount_Term|Credit_History|Property_Area|Loan_Status|Dependents0|Dependents1|Dependents2|Dependents3|Gender0|Gender1|Married0|Married1|Education0|Education1|Self_Employed0|Self_Employed1|Property_Area0|Property_Area1|Property_Area2|Loan_Statusindex|\n",
            "+--------+------+-------+----------+------------+-------------+---------------+-----------------+----------+----------------+--------------+-------------+-----------+-----------+-----------+-----------+-----------+-------+-------+--------+--------+----------+----------+--------------+--------------+--------------+--------------+--------------+----------------+\n",
            "|LP001002|  Male|     No|         0|    Graduate|           No|           5849|              0.0|       146|             360|             1|        Urban|          Y|          1|          0|          0|          0|      1|      0|       1|       0|         1|         0|             1|             0|             1|             0|             0|             0.0|\n",
            "|LP001003|  Male|    Yes|         1|    Graduate|           No|           4583|           1508.0|       128|             360|             1|        Rural|          N|          0|          1|          0|          0|      1|      0|       0|       1|         1|         0|             1|             0|             0|             1|             0|             1.0|\n",
            "|LP001005|  Male|    Yes|         0|    Graduate|          Yes|           3000|              0.0|        66|             360|             1|        Urban|          Y|          1|          0|          0|          0|      1|      0|       0|       1|         1|         0|             0|             1|             1|             0|             0|             0.0|\n",
            "|LP001006|  Male|    Yes|         0|Not Graduate|           No|           2583|           2358.0|       120|             360|             1|        Urban|          Y|          1|          0|          0|          0|      1|      0|       0|       1|         0|         1|             1|             0|             1|             0|             0|             0.0|\n",
            "|LP001008|  Male|     No|         0|    Graduate|           No|           6000|              0.0|       141|             360|             1|        Urban|          Y|          1|          0|          0|          0|      1|      0|       1|       0|         1|         0|             1|             0|             1|             0|             0|             0.0|\n",
            "|LP001011|  Male|    Yes|         2|    Graduate|          Yes|           5417|           4196.0|       267|             360|             1|        Urban|          Y|          0|          0|          1|          0|      1|      0|       0|       1|         1|         0|             0|             1|             1|             0|             0|             0.0|\n",
            "|LP001013|  Male|    Yes|         0|Not Graduate|           No|           2333|           1516.0|        95|             360|             1|        Urban|          Y|          1|          0|          0|          0|      1|      0|       0|       1|         0|         1|             1|             0|             1|             0|             0|             0.0|\n",
            "|LP001014|  Male|    Yes|        3+|    Graduate|           No|           3036|           2504.0|       158|             360|             0|    Semiurban|          N|          0|          0|          0|          1|      1|      0|       0|       1|         1|         0|             1|             0|             0|             0|             1|             1.0|\n",
            "|LP001018|  Male|    Yes|         2|    Graduate|           No|           4006|           1526.0|       168|             360|             1|        Urban|          Y|          0|          0|          1|          0|      1|      0|       0|       1|         1|         0|             1|             0|             1|             0|             0|             0.0|\n",
            "|LP001020|  Male|    Yes|         1|    Graduate|           No|          12841|          10968.0|       349|             360|             1|    Semiurban|          N|          0|          1|          0|          0|      1|      0|       0|       1|         1|         0|             1|             0|             0|             0|             1|             1.0|\n",
            "|LP001024|  Male|    Yes|         2|    Graduate|           No|           3200|            700.0|        70|             360|             1|        Urban|          Y|          0|          0|          1|          0|      1|      0|       0|       1|         1|         0|             1|             0|             1|             0|             0|             0.0|\n",
            "|LP001027|  Male|    Yes|         2|    Graduate|           No|           2500|           1840.0|       109|             360|             1|        Urban|          Y|          0|          0|          1|          0|      1|      0|       0|       1|         1|         0|             1|             0|             1|             0|             0|             0.0|\n",
            "|LP001028|  Male|    Yes|         2|    Graduate|           No|           3073|           8106.0|       200|             360|             1|        Urban|          Y|          0|          0|          1|          0|      1|      0|       0|       1|         1|         0|             1|             0|             1|             0|             0|             0.0|\n",
            "|LP001029|  Male|     No|         0|    Graduate|           No|           1853|           2840.0|       114|             360|             1|        Rural|          N|          1|          0|          0|          0|      1|      0|       1|       0|         1|         0|             1|             0|             0|             1|             0|             1.0|\n",
            "|LP001030|  Male|    Yes|         2|    Graduate|           No|           1299|           1086.0|        17|             120|             1|        Urban|          Y|          0|          0|          1|          0|      1|      0|       0|       1|         1|         0|             1|             0|             1|             0|             0|             0.0|\n",
            "|LP001032|  Male|     No|         0|    Graduate|           No|           4950|              0.0|       125|             360|             1|        Urban|          Y|          1|          0|          0|          0|      1|      0|       1|       0|         1|         0|             1|             0|             1|             0|             0|             0.0|\n",
            "|LP001034|  Male|     No|         1|Not Graduate|           No|           3596|              0.0|       100|             240|             1|        Urban|          Y|          0|          1|          0|          0|      1|      0|       1|       0|         0|         1|             1|             0|             1|             0|             0|             0.0|\n",
            "|LP001036|Female|     No|         0|    Graduate|           No|           3510|              0.0|        76|             360|             0|        Urban|          N|          1|          0|          0|          0|      0|      1|       1|       0|         1|         0|             1|             0|             1|             0|             0|             1.0|\n",
            "|LP001038|  Male|    Yes|         0|Not Graduate|           No|           4887|              0.0|       133|             360|             1|        Rural|          N|          1|          0|          0|          0|      1|      0|       0|       1|         0|         1|             1|             0|             0|             1|             0|             1.0|\n",
            "|LP001041|  Male|    Yes|         0|    Graduate|           No|           2600|           3500.0|       115|             342|             1|        Urban|          Y|          1|          0|          0|          0|      1|      0|       0|       1|         1|         0|             1|             0|             1|             0|             0|             0.0|\n",
            "+--------+------+-------+----------+------------+-------------+---------------+-----------------+----------+----------------+--------------+-------------+-----------+-----------+-----------+-----------+-----------+-------+-------+--------+--------+----------+----------+--------------+--------------+--------------+--------------+--------------+----------------+\n",
            "only showing top 20 rows\n",
            "\n"
          ],
          "name": "stdout"
        }
      ]
    },
    {
      "cell_type": "code",
      "metadata": {
        "id": "-180RD87ZxQk",
        "colab_type": "code",
        "colab": {}
      },
      "source": [
        "dummylist=[\"Dependents\",'Gender',\"Married\",\"Education\", \"Self_Employed\", \"Property_Area\",]\n",
        " \n",
        "test_data=create_dummies(test_new,dummylist)"
      ],
      "execution_count": 0,
      "outputs": []
    },
    {
      "cell_type": "code",
      "metadata": {
        "id": "6QCBMYf5ab8g",
        "colab_type": "code",
        "outputId": "c233f113-733d-4e92-8631-a34026407e59",
        "colab": {
          "base_uri": "https://localhost:8080/",
          "height": 479
        }
      },
      "source": [
        "test_data.show()"
      ],
      "execution_count": 0,
      "outputs": [
        {
          "output_type": "stream",
          "text": [
            "+--------+------+-------+----------+------------+-------------+---------------+-----------------+----------+----------------+--------------+-------------+-----------+-----------+-----------+-----------+-----------+-------+-------+--------+--------+--------+----------+----------+--------------+--------------+--------------+--------------+--------------+\n",
            "| Loan_ID|Gender|Married|Dependents|   Education|Self_Employed|ApplicantIncome|CoapplicantIncome|LoanAmount|Loan_Amount_Term|Credit_History|Property_Area|Loan_Status|Dependents0|Dependents1|Dependents2|Dependents3|Gender0|Gender1|Married0|Married1|Married2|Education0|Education1|Self_Employed0|Self_Employed1|Property_Area0|Property_Area1|Property_Area2|\n",
            "+--------+------+-------+----------+------------+-------------+---------------+-----------------+----------+----------------+--------------+-------------+-----------+-----------+-----------+-----------+-----------+-------+-------+--------+--------+--------+----------+----------+--------------+--------------+--------------+--------------+--------------+\n",
            "|LP001002|  Male|     No|         0|    Graduate|           No|           5849|              0.0|       136|             360|             1|        Urban|          Y|          1|          0|          0|          0|      1|      0|       1|       0|       0|         1|         0|             1|             0|             1|             0|             0|\n",
            "|LP001003|  Male|    Yes|         1|    Graduate|           No|           4583|           1508.0|       128|             360|             1|        Rural|          N|          0|          1|          0|          0|      1|      0|       0|       1|       0|         1|         0|             1|             0|             0|             1|             0|\n",
            "|LP001005|  Male|    Yes|         0|    Graduate|          Yes|           3000|              0.0|        66|             360|             1|        Urban|          Y|          1|          0|          0|          0|      1|      0|       0|       1|       0|         1|         0|             0|             1|             1|             0|             0|\n",
            "|LP001006|  Male|    Yes|         0|Not Graduate|           No|           2583|           2358.0|       120|             360|             1|        Urban|          Y|          1|          0|          0|          0|      1|      0|       0|       1|       0|         0|         1|             1|             0|             1|             0|             0|\n",
            "|LP001008|  Male|     No|         0|    Graduate|           No|           6000|              0.0|       141|             360|             1|        Urban|          Y|          1|          0|          0|          0|      1|      0|       1|       0|       0|         1|         0|             1|             0|             1|             0|             0|\n",
            "|LP001011|  Male|    Yes|         2|    Graduate|          Yes|           5417|           4196.0|       267|             360|             1|        Urban|          Y|          0|          0|          1|          0|      1|      0|       0|       1|       0|         1|         0|             0|             1|             1|             0|             0|\n",
            "|LP001013|  Male|    Yes|         0|Not Graduate|           No|           2333|           1516.0|        95|             360|             1|        Urban|          Y|          1|          0|          0|          0|      1|      0|       0|       1|       0|         0|         1|             1|             0|             1|             0|             0|\n",
            "|LP001014|  Male|    Yes|        3+|    Graduate|           No|           3036|           2504.0|       158|             360|             0|    Semiurban|          N|          0|          0|          0|          1|      1|      0|       0|       1|       0|         1|         0|             1|             0|             0|             0|             1|\n",
            "|LP001018|  Male|    Yes|         2|    Graduate|           No|           4006|           1526.0|       168|             360|             1|        Urban|          Y|          0|          0|          1|          0|      1|      0|       0|       1|       0|         1|         0|             1|             0|             1|             0|             0|\n",
            "|LP001020|  Male|    Yes|         1|    Graduate|           No|          12841|          10968.0|       349|             360|             1|    Semiurban|          N|          0|          1|          0|          0|      1|      0|       0|       1|       0|         1|         0|             1|             0|             0|             0|             1|\n",
            "|LP001024|  Male|    Yes|         2|    Graduate|           No|           3200|            700.0|        70|             360|             1|        Urban|          Y|          0|          0|          1|          0|      1|      0|       0|       1|       0|         1|         0|             1|             0|             1|             0|             0|\n",
            "|LP001027|  Male|    Yes|         2|    Graduate|           No|           2500|           1840.0|       109|             360|             1|        Urban|          Y|          0|          0|          1|          0|      1|      0|       0|       1|       0|         1|         0|             1|             0|             1|             0|             0|\n",
            "|LP001028|  Male|    Yes|         2|    Graduate|           No|           3073|           8106.0|       200|             360|             1|        Urban|          Y|          0|          0|          1|          0|      1|      0|       0|       1|       0|         1|         0|             1|             0|             1|             0|             0|\n",
            "|LP001029|  Male|     No|         0|    Graduate|           No|           1853|           2840.0|       114|             360|             1|        Rural|          N|          1|          0|          0|          0|      1|      0|       1|       0|       0|         1|         0|             1|             0|             0|             1|             0|\n",
            "|LP001030|  Male|    Yes|         2|    Graduate|           No|           1299|           1086.0|        17|             120|             1|        Urban|          Y|          0|          0|          1|          0|      1|      0|       0|       1|       0|         1|         0|             1|             0|             1|             0|             0|\n",
            "|LP001032|  Male|     No|         0|    Graduate|           No|           4950|              0.0|       125|             360|             1|        Urban|          Y|          1|          0|          0|          0|      1|      0|       1|       0|       0|         1|         0|             1|             0|             1|             0|             0|\n",
            "|LP001034|  Male|     No|         1|Not Graduate|           No|           3596|              0.0|       100|             240|             1|        Urban|          Y|          0|          1|          0|          0|      1|      0|       1|       0|       0|         0|         1|             1|             0|             1|             0|             0|\n",
            "|LP001036|Female|     No|         0|    Graduate|           No|           3510|              0.0|        76|             360|             0|        Urban|          N|          1|          0|          0|          0|      0|      1|       1|       0|       0|         1|         0|             1|             0|             1|             0|             0|\n",
            "|LP001038|  Male|    Yes|         0|Not Graduate|           No|           4887|              0.0|       133|             360|             1|        Rural|          N|          1|          0|          0|          0|      1|      0|       0|       1|       0|         0|         1|             1|             0|             0|             1|             0|\n",
            "|LP001041|  Male|    Yes|         0|    Graduate|           No|           2600|           3500.0|       115|             342|             1|        Urban|          Y|          1|          0|          0|          0|      1|      0|       0|       1|       0|         1|         0|             1|             0|             1|             0|             0|\n",
            "+--------+------+-------+----------+------------+-------------+---------------+-----------------+----------+----------------+--------------+-------------+-----------+-----------+-----------+-----------+-----------+-------+-------+--------+--------+--------+----------+----------+--------------+--------------+--------------+--------------+--------------+\n",
            "only showing top 20 rows\n",
            "\n"
          ],
          "name": "stdout"
        }
      ]
    },
    {
      "cell_type": "code",
      "metadata": {
        "id": "VUbnLwvEabul",
        "colab_type": "code",
        "colab": {}
      },
      "source": [
        "from pyspark.ml.feature import VectorAssembler"
      ],
      "execution_count": 0,
      "outputs": []
    },
    {
      "cell_type": "code",
      "metadata": {
        "id": "0baqyEu6aboD",
        "colab_type": "code",
        "colab": {}
      },
      "source": [
        "featureassembler=VectorAssembler(inputCols=['ApplicantIncome','CoapplicantIncome','LoanAmount','Loan_Amount_Term',\\\n",
        "                          'Credit_History','Dependents0','Dependents1','Dependents2','Dependents3',\\\n",
        "                          'Gender0','Gender1','Married0','Married1','Education0','Education1','Self_Employed0',\\\n",
        "                          'Self_Employed1','Property_Area0','Property_Area1','Property_Area2'],outputCol='independent features')"
      ],
      "execution_count": 0,
      "outputs": []
    },
    {
      "cell_type": "code",
      "metadata": {
        "id": "dG70a_IOabho",
        "colab_type": "code",
        "colab": {}
      },
      "source": [
        "traindata=featureassembler.transform(train_data1)"
      ],
      "execution_count": 0,
      "outputs": []
    },
    {
      "cell_type": "code",
      "metadata": {
        "id": "3KCYiAglabZk",
        "colab_type": "code",
        "outputId": "4c9fe71f-a7d0-4946-cd04-30f9c583c74f",
        "colab": {
          "base_uri": "https://localhost:8080/",
          "height": 224
        }
      },
      "source": [
        "traindata.show(5)"
      ],
      "execution_count": 0,
      "outputs": [
        {
          "output_type": "stream",
          "text": [
            "+--------+------+-------+----------+------------+-------------+---------------+-----------------+----------+----------------+--------------+-------------+-----------+-----------+-----------+-----------+-----------+-------+-------+--------+--------+----------+----------+--------------+--------------+--------------+--------------+--------------+----------------+--------------------+\n",
            "| Loan_ID|Gender|Married|Dependents|   Education|Self_Employed|ApplicantIncome|CoapplicantIncome|LoanAmount|Loan_Amount_Term|Credit_History|Property_Area|Loan_Status|Dependents0|Dependents1|Dependents2|Dependents3|Gender0|Gender1|Married0|Married1|Education0|Education1|Self_Employed0|Self_Employed1|Property_Area0|Property_Area1|Property_Area2|Loan_Statusindex|independent features|\n",
            "+--------+------+-------+----------+------------+-------------+---------------+-----------------+----------+----------------+--------------+-------------+-----------+-----------+-----------+-----------+-----------+-------+-------+--------+--------+----------+----------+--------------+--------------+--------------+--------------+--------------+----------------+--------------------+\n",
            "|LP001002|  Male|     No|         0|    Graduate|           No|           5849|              0.0|       146|             360|             1|        Urban|          Y|          1|          0|          0|          0|      1|      0|       1|       0|         1|         0|             1|             0|             1|             0|             0|             0.0|(20,[0,2,3,4,5,9,...|\n",
            "|LP001003|  Male|    Yes|         1|    Graduate|           No|           4583|           1508.0|       128|             360|             1|        Rural|          N|          0|          1|          0|          0|      1|      0|       0|       1|         1|         0|             1|             0|             0|             1|             0|             1.0|(20,[0,1,2,3,4,6,...|\n",
            "|LP001005|  Male|    Yes|         0|    Graduate|          Yes|           3000|              0.0|        66|             360|             1|        Urban|          Y|          1|          0|          0|          0|      1|      0|       0|       1|         1|         0|             0|             1|             1|             0|             0|             0.0|(20,[0,2,3,4,5,9,...|\n",
            "|LP001006|  Male|    Yes|         0|Not Graduate|           No|           2583|           2358.0|       120|             360|             1|        Urban|          Y|          1|          0|          0|          0|      1|      0|       0|       1|         0|         1|             1|             0|             1|             0|             0|             0.0|(20,[0,1,2,3,4,5,...|\n",
            "|LP001008|  Male|     No|         0|    Graduate|           No|           6000|              0.0|       141|             360|             1|        Urban|          Y|          1|          0|          0|          0|      1|      0|       1|       0|         1|         0|             1|             0|             1|             0|             0|             0.0|(20,[0,2,3,4,5,9,...|\n",
            "+--------+------+-------+----------+------------+-------------+---------------+-----------------+----------+----------------+--------------+-------------+-----------+-----------+-----------+-----------+-----------+-------+-------+--------+--------+----------+----------+--------------+--------------+--------------+--------------+--------------+----------------+--------------------+\n",
            "only showing top 5 rows\n",
            "\n"
          ],
          "name": "stdout"
        }
      ]
    },
    {
      "cell_type": "code",
      "metadata": {
        "id": "ZYQ-mNfUaqSF",
        "colab_type": "code",
        "outputId": "a970dea7-10c8-45e9-fde6-0e2e2bdb3796",
        "colab": {
          "base_uri": "https://localhost:8080/",
          "height": 204
        }
      },
      "source": [
        "traindata.select('independent features').show(5)"
      ],
      "execution_count": 0,
      "outputs": [
        {
          "output_type": "stream",
          "text": [
            "+--------------------+\n",
            "|independent features|\n",
            "+--------------------+\n",
            "|(20,[0,2,3,4,5,9,...|\n",
            "|(20,[0,1,2,3,4,6,...|\n",
            "|(20,[0,2,3,4,5,9,...|\n",
            "|(20,[0,1,2,3,4,5,...|\n",
            "|(20,[0,2,3,4,5,9,...|\n",
            "+--------------------+\n",
            "only showing top 5 rows\n",
            "\n"
          ],
          "name": "stdout"
        }
      ]
    },
    {
      "cell_type": "code",
      "metadata": {
        "id": "ZFDlWp3UaqNn",
        "colab_type": "code",
        "colab": {}
      },
      "source": [
        "train1,test1=traindata.randomSplit([0.7,0.3],seed=1234)"
      ],
      "execution_count": 0,
      "outputs": []
    },
    {
      "cell_type": "code",
      "metadata": {
        "id": "hA7WJNUiaqMp",
        "colab_type": "code",
        "colab": {}
      },
      "source": [
        "X_train=train1.select('independent features','Loan_Statusindex')"
      ],
      "execution_count": 0,
      "outputs": []
    },
    {
      "cell_type": "code",
      "metadata": {
        "id": "pZ7lhzCmaqHh",
        "colab_type": "code",
        "outputId": "57b32be0-dea4-40c9-9102-67d60a0ef8f6",
        "colab": {
          "base_uri": "https://localhost:8080/",
          "height": 204
        }
      },
      "source": [
        "X_train.show(5)"
      ],
      "execution_count": 0,
      "outputs": [
        {
          "output_type": "stream",
          "text": [
            "+--------------------+----------------+\n",
            "|independent features|Loan_Statusindex|\n",
            "+--------------------+----------------+\n",
            "|(20,[0,1,2,3,4,5,...|             0.0|\n",
            "|(20,[0,2,3,4,5,9,...|             0.0|\n",
            "|(20,[0,1,2,3,4,7,...|             0.0|\n",
            "|(20,[0,1,2,3,4,5,...|             0.0|\n",
            "|(20,[0,1,2,3,8,9,...|             1.0|\n",
            "+--------------------+----------------+\n",
            "only showing top 5 rows\n",
            "\n"
          ],
          "name": "stdout"
        }
      ]
    },
    {
      "cell_type": "code",
      "metadata": {
        "id": "PjhKPEUaaqGd",
        "colab_type": "code",
        "colab": {}
      },
      "source": [
        "X_test=test1.select('independent features','Loan_Statusindex')"
      ],
      "execution_count": 0,
      "outputs": []
    },
    {
      "cell_type": "code",
      "metadata": {
        "id": "O95lJSPYaqCH",
        "colab_type": "code",
        "colab": {}
      },
      "source": [
        "from pyspark.mllib.tree import DecisionTree, DecisionTreeModel\n",
        "from time import time\n",
        "from pyspark.ml.classification import DecisionTreeClassifier,LogisticRegression"
      ],
      "execution_count": 0,
      "outputs": []
    },
    {
      "cell_type": "code",
      "metadata": {
        "id": "MTUcOl1HaqAw",
        "colab_type": "code",
        "colab": {}
      },
      "source": [
        "lr = LogisticRegression(labelCol='Loan_Statusindex', featuresCol=\"independent features\")"
      ],
      "execution_count": 0,
      "outputs": []
    },
    {
      "cell_type": "code",
      "metadata": {
        "id": "R8JE0okdap7u",
        "colab_type": "code",
        "colab": {}
      },
      "source": [
        "tree=DecisionTreeClassifier(labelCol='Loan_Statusindex', featuresCol=\"independent features\")"
      ],
      "execution_count": 0,
      "outputs": []
    },
    {
      "cell_type": "code",
      "metadata": {
        "id": "hxhZm2xmap6g",
        "colab_type": "code",
        "colab": {}
      },
      "source": [
        "treemodel=tree.fit(X_train)"
      ],
      "execution_count": 0,
      "outputs": []
    },
    {
      "cell_type": "code",
      "metadata": {
        "id": "PA_F2QuUap1L",
        "colab_type": "code",
        "outputId": "e10d0393-8928-4ceb-89a0-6a0e40b0001e",
        "colab": {
          "base_uri": "https://localhost:8080/",
          "height": 34
        }
      },
      "source": [
        "print(treemodel)"
      ],
      "execution_count": 0,
      "outputs": [
        {
          "output_type": "stream",
          "text": [
            "DecisionTreeClassificationModel (uid=DecisionTreeClassifier_4a97b1e823fd0fd31fe9) of depth 5 with 39 nodes\n"
          ],
          "name": "stdout"
        }
      ]
    },
    {
      "cell_type": "code",
      "metadata": {
        "id": "Vy1C0QPqbHIc",
        "colab_type": "code",
        "colab": {}
      },
      "source": [
        "predictions=treemodel.transform(X_test)"
      ],
      "execution_count": 0,
      "outputs": []
    },
    {
      "cell_type": "code",
      "metadata": {
        "id": "f7rFjvsTbHD4",
        "colab_type": "code",
        "colab": {}
      },
      "source": [
        "P=predictions.select('Loan_Statusindex','prediction')"
      ],
      "execution_count": 0,
      "outputs": []
    },
    {
      "cell_type": "code",
      "metadata": {
        "id": "NKV-go8vbHCr",
        "colab_type": "code",
        "colab": {}
      },
      "source": [
        "from pyspark.ml.evaluation import BinaryClassificationEvaluator"
      ],
      "execution_count": 0,
      "outputs": []
    },
    {
      "cell_type": "code",
      "metadata": {
        "id": "fQTXtirsbG-S",
        "colab_type": "code",
        "colab": {}
      },
      "source": [
        "tree_evaluator=BinaryClassificationEvaluator(rawPredictionCol='prediction', labelCol='Loan_Statusindex', metricName='areaUnderROC')"
      ],
      "execution_count": 0,
      "outputs": []
    },
    {
      "cell_type": "code",
      "metadata": {
        "id": "P0heYzOVbG9H",
        "colab_type": "code",
        "outputId": "c29027c9-c964-4db8-869f-d60525984854",
        "colab": {
          "base_uri": "https://localhost:8080/",
          "height": 34
        }
      },
      "source": [
        "print(tree_evaluator.evaluate(predictions))"
      ],
      "execution_count": 0,
      "outputs": [
        {
          "output_type": "stream",
          "text": [
            "0.6912280701754385\n"
          ],
          "name": "stdout"
        }
      ]
    },
    {
      "cell_type": "code",
      "metadata": {
        "id": "oTs99WV6bG32",
        "colab_type": "code",
        "colab": {}
      },
      "source": [
        "lr_model=lr.fit(X_train)"
      ],
      "execution_count": 0,
      "outputs": []
    },
    {
      "cell_type": "code",
      "metadata": {
        "id": "sV_pujbGbG2o",
        "colab_type": "code",
        "colab": {}
      },
      "source": [
        "pred=lr_model.transform(X_test)"
      ],
      "execution_count": 0,
      "outputs": []
    },
    {
      "cell_type": "code",
      "metadata": {
        "id": "DGpNUcL7bGxT",
        "colab_type": "code",
        "outputId": "8da20fe3-53b2-435c-f19d-b0357ea90f74",
        "colab": {
          "base_uri": "https://localhost:8080/",
          "height": 459
        }
      },
      "source": [
        "pred.show()"
      ],
      "execution_count": 0,
      "outputs": [
        {
          "output_type": "stream",
          "text": [
            "+--------------------+----------------+--------------------+--------------------+----------+\n",
            "|independent features|Loan_Statusindex|       rawPrediction|         probability|prediction|\n",
            "+--------------------+----------------+--------------------+--------------------+----------+\n",
            "|(20,[0,2,3,4,5,9,...|             0.0|[1.03150429302723...|[0.73720743045847...|       0.0|\n",
            "|(20,[0,1,2,3,4,6,...|             1.0|[0.92290272486373...|[0.71563318652735...|       0.0|\n",
            "|(20,[0,2,3,4,5,9,...|             0.0|[1.36067752140206...|[0.79586979063060...|       0.0|\n",
            "|(20,[0,1,2,3,4,5,...|             1.0|[0.89603284320502...|[0.71013356892424...|       0.0|\n",
            "|(20,[0,1,2,3,4,5,...|             0.0|[2.07217582465795...|[0.88816925701292...|       0.0|\n",
            "|(20,[0,1,2,3,4,7,...|             0.0|[1.49449749471356...|[0.81675236252013...|       0.0|\n",
            "|(20,[0,2,3,4,5,9,...|             1.0|[1.07237674753818...|[0.74504864466623...|       0.0|\n",
            "|(20,[0,1,2,3,4,8,...|             1.0|[1.22310070285797...|[0.77260875516849...|       0.0|\n",
            "|(20,[0,1,2,3,4,5,...|             0.0|[0.82248246630875...|[0.69476304456292...|       0.0|\n",
            "|(20,[0,1,2,3,4,5,...|             0.0|[1.05838349893686...|[0.74238150867861...|       0.0|\n",
            "|(20,[0,2,3,4,5,9,...|             0.0|[0.99219211402210...|[0.72952068841072...|       0.0|\n",
            "|(20,[0,2,3,4,5,10...|             0.0|[1.07575146564341...|[0.74568914600756...|       0.0|\n",
            "|(20,[0,2,3,4,5,9,...|             0.0|[1.35532219960353...|[0.79499838068993...|       0.0|\n",
            "|(20,[0,2,3,4,5,10...|             1.0|[1.82961129613327...|[0.86171541462543...|       0.0|\n",
            "|(20,[0,1,2,3,5,9,...|             1.0|[-2.7297010009584...|[0.06124335079805...|       1.0|\n",
            "|(20,[0,1,2,3,4,5,...|             1.0|[1.91840205756581...|[0.87196013636074...|       0.0|\n",
            "|(20,[0,1,2,3,4,8,...|             0.0|[2.41146430296827...|[0.91769734677015...|       0.0|\n",
            "|(20,[0,1,2,3,8,9,...|             1.0|[-1.1710674634827...|[0.23666208943285...|       1.0|\n",
            "|(20,[0,1,2,3,4,8,...|             0.0|[2.06762413989489...|[0.88771636321570...|       0.0|\n",
            "|(20,[0,2,3,4,6,9,...|             0.0|[1.70114896684609...|[0.84568473702110...|       0.0|\n",
            "+--------------------+----------------+--------------------+--------------------+----------+\n",
            "only showing top 20 rows\n",
            "\n"
          ],
          "name": "stdout"
        }
      ]
    },
    {
      "cell_type": "code",
      "metadata": {
        "id": "kpXq16vBbGv9",
        "colab_type": "code",
        "colab": {}
      },
      "source": [
        "lr_eval=BinaryClassificationEvaluator(rawPredictionCol='prediction', labelCol='Loan_Statusindex', metricName='areaUnderROC')"
      ],
      "execution_count": 0,
      "outputs": []
    },
    {
      "cell_type": "code",
      "metadata": {
        "id": "jkHM6ijSbGpv",
        "colab_type": "code",
        "outputId": "d2037223-3af4-4a6f-8cbb-ac6723372405",
        "colab": {
          "base_uri": "https://localhost:8080/",
          "height": 34
        }
      },
      "source": [
        "print(lr_eval.evaluate(pred))"
      ],
      "execution_count": 0,
      "outputs": [
        {
          "output_type": "stream",
          "text": [
            "0.7083333333333334\n"
          ],
          "name": "stdout"
        }
      ]
    },
    {
      "cell_type": "code",
      "metadata": {
        "id": "6SlxE3XVbGol",
        "colab_type": "code",
        "colab": {}
      },
      "source": [
        "from pyspark.ml.classification import RandomForestClassifier"
      ],
      "execution_count": 0,
      "outputs": []
    },
    {
      "cell_type": "code",
      "metadata": {
        "id": "9_R7ufS3bl_2",
        "colab_type": "code",
        "colab": {}
      },
      "source": [
        "rt=RandomForestClassifier(labelCol='Loan_Statusindex', featuresCol=\"independent features\")"
      ],
      "execution_count": 0,
      "outputs": []
    },
    {
      "cell_type": "code",
      "metadata": {
        "id": "QA1dKm-vbl-W",
        "colab_type": "code",
        "colab": {}
      },
      "source": [
        "rt_model=rt.fit(X_train)"
      ],
      "execution_count": 0,
      "outputs": []
    },
    {
      "cell_type": "code",
      "metadata": {
        "id": "cymRzJL5bl5s",
        "colab_type": "code",
        "colab": {}
      },
      "source": [
        "pred=rt_model.transform(X_test)"
      ],
      "execution_count": 0,
      "outputs": []
    },
    {
      "cell_type": "code",
      "metadata": {
        "id": "zYUEnYQhbl4L",
        "colab_type": "code",
        "outputId": "2da9fc4f-4420-4edb-e81d-31f2449b71c5",
        "colab": {
          "base_uri": "https://localhost:8080/",
          "height": 459
        }
      },
      "source": [
        "pred.show()"
      ],
      "execution_count": 0,
      "outputs": [
        {
          "output_type": "stream",
          "text": [
            "+--------------------+----------------+--------------------+--------------------+----------+\n",
            "|independent features|Loan_Statusindex|       rawPrediction|         probability|prediction|\n",
            "+--------------------+----------------+--------------------+--------------------+----------+\n",
            "|(20,[0,2,3,4,5,9,...|             0.0|[14.4791207588146...|[0.72395603794073...|       0.0|\n",
            "|(20,[0,1,2,3,4,6,...|             1.0|[14.2190392426589...|[0.71095196213294...|       0.0|\n",
            "|(20,[0,2,3,4,5,9,...|             0.0|[14.4048589332935...|[0.72024294666467...|       0.0|\n",
            "|(20,[0,1,2,3,4,5,...|             1.0|[17.3024167492192...|[0.86512083746096...|       0.0|\n",
            "|(20,[0,1,2,3,4,5,...|             0.0|[18.3846834024236...|[0.91923417012118...|       0.0|\n",
            "|(20,[0,1,2,3,4,7,...|             0.0|[16.5155342814418...|[0.82577671407209...|       0.0|\n",
            "|(20,[0,2,3,4,5,9,...|             1.0|[14.9565207846990...|[0.74782603923495...|       0.0|\n",
            "|(20,[0,1,2,3,4,8,...|             1.0|[13.9883754459434...|[0.69941877229717...|       0.0|\n",
            "|(20,[0,1,2,3,4,5,...|             0.0|[12.4994235312828...|[0.62497117656413...|       0.0|\n",
            "|(20,[0,1,2,3,4,5,...|             0.0|[12.4934803044124...|[0.62467401522062...|       0.0|\n",
            "|(20,[0,2,3,4,5,9,...|             0.0|[12.5502832986967...|[0.62751416493483...|       0.0|\n",
            "|(20,[0,2,3,4,5,10...|             0.0|[14.6352961529329...|[0.73176480764664...|       0.0|\n",
            "|(20,[0,2,3,4,5,9,...|             0.0|[16.7275865854931...|[0.83637932927465...|       0.0|\n",
            "|(20,[0,2,3,4,5,10...|             1.0|[16.8214952822955...|[0.84107476411477...|       0.0|\n",
            "|(20,[0,1,2,3,5,9,...|             1.0|[6.76838285171618...|[0.33841914258580...|       1.0|\n",
            "|(20,[0,1,2,3,4,5,...|             1.0|[17.1648788648991...|[0.85824394324495...|       0.0|\n",
            "|(20,[0,1,2,3,4,8,...|             0.0|[17.2257445281926...|[0.86128722640963...|       0.0|\n",
            "|(20,[0,1,2,3,8,9,...|             1.0|[8.86285778581147...|[0.44314288929057...|       1.0|\n",
            "|(20,[0,1,2,3,4,8,...|             0.0|[15.5729494940004...|[0.77864747470002...|       0.0|\n",
            "|(20,[0,2,3,4,6,9,...|             0.0|[13.8072295623393...|[0.69036147811696...|       0.0|\n",
            "+--------------------+----------------+--------------------+--------------------+----------+\n",
            "only showing top 20 rows\n",
            "\n"
          ],
          "name": "stdout"
        }
      ]
    },
    {
      "cell_type": "code",
      "metadata": {
        "id": "pQIN1kh2blzZ",
        "colab_type": "code",
        "colab": {}
      },
      "source": [
        "rt_eval=BinaryClassificationEvaluator(rawPredictionCol='prediction', labelCol='Loan_Statusindex', metricName='areaUnderROC')"
      ],
      "execution_count": 0,
      "outputs": []
    },
    {
      "cell_type": "code",
      "metadata": {
        "id": "CnwPrZXablx-",
        "colab_type": "code",
        "outputId": "663b9b3c-cf54-4313-bb23-7c3c1d0c4755",
        "colab": {
          "base_uri": "https://localhost:8080/",
          "height": 34
        }
      },
      "source": [
        "print(rt_eval.evaluate(pred))"
      ],
      "execution_count": 0,
      "outputs": [
        {
          "output_type": "stream",
          "text": [
            "0.7\n"
          ],
          "name": "stdout"
        }
      ]
    },
    {
      "cell_type": "code",
      "metadata": {
        "id": "P7qodxLcbls1",
        "colab_type": "code",
        "colab": {}
      },
      "source": [
        ""
      ],
      "execution_count": 0,
      "outputs": []
    },
    {
      "cell_type": "code",
      "metadata": {
        "id": "uiYxrJzYblrY",
        "colab_type": "code",
        "colab": {}
      },
      "source": [
        ""
      ],
      "execution_count": 0,
      "outputs": []
    },
    {
      "cell_type": "code",
      "metadata": {
        "id": "tpm-VwCabll-",
        "colab_type": "code",
        "colab": {}
      },
      "source": [
        ""
      ],
      "execution_count": 0,
      "outputs": []
    },
    {
      "cell_type": "code",
      "metadata": {
        "id": "5xO0cfSPblkp",
        "colab_type": "code",
        "colab": {}
      },
      "source": [
        ""
      ],
      "execution_count": 0,
      "outputs": []
    },
    {
      "cell_type": "code",
      "metadata": {
        "id": "s50fdpzoblej",
        "colab_type": "code",
        "colab": {}
      },
      "source": [
        ""
      ],
      "execution_count": 0,
      "outputs": []
    },
    {
      "cell_type": "code",
      "metadata": {
        "id": "zQDQM9kWbldM",
        "colab_type": "code",
        "colab": {}
      },
      "source": [
        ""
      ],
      "execution_count": 0,
      "outputs": []
    }
  ]
}