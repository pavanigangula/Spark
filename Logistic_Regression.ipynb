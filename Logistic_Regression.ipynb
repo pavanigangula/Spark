{
  "nbformat": 4,
  "nbformat_minor": 0,
  "metadata": {
    "colab": {
      "name": "Pavani_Gangula_Session-9.ipynb",
      "version": "0.3.2",
      "provenance": [],
      "collapsed_sections": []
    },
    "kernelspec": {
      "name": "python3",
      "display_name": "Python 3"
    }
  },
  "cells": [
    {
      "cell_type": "code",
      "metadata": {
        "id": "Df_RdUNjBWac",
        "colab_type": "code",
        "outputId": "ca470089-b94a-4ca2-afa0-5f7e3c7902b5",
        "colab": {
          "base_uri": "https://localhost:8080/",
          "height": 119
        }
      },
      "source": [
        "!apt-get update \n",
        "!apt-get install openjdk-8-jdk-headless -qq > /dev/null\n",
        "!wget -q http://apache.osuosl.org/spark/spark-2.2.1/spark-2.2.1-bin-hadoop2.7.tgz\n",
        "!tar xf spark-2.2.1-bin-hadoop2.7.tgz\n",
        "!pip install -q findspark"
      ],
      "execution_count": 0,
      "outputs": [
        {
          "output_type": "stream",
          "text": [
            "Get:1 http://security.ubuntu.com/ubuntu artful-security InRelease [83.2 kB]\n",
            "Hit:2 http://archive.ubuntu.com/ubuntu artful InRelease\n",
            "Get:3 http://archive.ubuntu.com/ubuntu artful-updates InRelease [88.7 kB]\n",
            "Get:4 http://archive.ubuntu.com/ubuntu artful-backports InRelease [74.6 kB]\n",
            "Fetched 247 kB in 1s (217 kB/s)\n",
            "Reading package lists... Done\n"
          ],
          "name": "stdout"
        }
      ]
    },
    {
      "cell_type": "code",
      "metadata": {
        "id": "EpGt6R0pBgST",
        "colab_type": "code",
        "colab": {}
      },
      "source": [
        "import os\n",
        "os.environ[\"JAVA_HOME\"] = \"/usr/lib/jvm/java-8-openjdk-amd64\"\n",
        "os.environ[\"SPARK_HOME\"] = \"/content/spark-2.2.1-bin-hadoop2.7\""
      ],
      "execution_count": 0,
      "outputs": []
    },
    {
      "cell_type": "code",
      "metadata": {
        "id": "1YhMydg9BgRt",
        "colab_type": "code",
        "colab": {}
      },
      "source": [
        "import findspark\n",
        "findspark.init()\n",
        "from pyspark.sql import SparkSession\n",
        "spark = SparkSession.builder.master(\"local[*]\").getOrCreate()"
      ],
      "execution_count": 0,
      "outputs": []
    },
    {
      "cell_type": "code",
      "metadata": {
        "id": "6lya52UWBgMR",
        "colab_type": "code",
        "colab": {}
      },
      "source": [
        "sc = spark.sparkContext"
      ],
      "execution_count": 0,
      "outputs": []
    },
    {
      "cell_type": "code",
      "metadata": {
        "id": "IZKhA9m_BgLs",
        "colab_type": "code",
        "outputId": "f59b4aea-7b0c-4572-ef2b-5e5a11e82a7a",
        "colab": {
          "base_uri": "https://localhost:8080/",
          "height": 193
        }
      },
      "source": [
        "sc"
      ],
      "execution_count": 0,
      "outputs": [
        {
          "output_type": "execute_result",
          "data": {
            "text/html": [
              "\n",
              "        <div>\n",
              "            <p><b>SparkContext</b></p>\n",
              "\n",
              "            <p><a href=\"http://172.17.0.2:4041\">Spark UI</a></p>\n",
              "\n",
              "            <dl>\n",
              "              <dt>Version</dt>\n",
              "                <dd><code>v2.2.1</code></dd>\n",
              "              <dt>Master</dt>\n",
              "                <dd><code>local[*]</code></dd>\n",
              "              <dt>AppName</dt>\n",
              "                <dd><code>pyspark-shell</code></dd>\n",
              "            </dl>\n",
              "        </div>\n",
              "        "
            ],
            "text/plain": [
              "<SparkContext master=local[*] appName=pyspark-shell>"
            ]
          },
          "metadata": {
            "tags": []
          },
          "execution_count": 5
        }
      ]
    },
    {
      "cell_type": "code",
      "metadata": {
        "id": "-rHTH8T4BgGd",
        "colab_type": "code",
        "colab": {}
      },
      "source": [
        "## Getting Data and creating RDD\n",
        "\n",
        "import urllib\n",
        "f = urllib.request.urlretrieve (\"http://kdd.ics.uci.edu/databases/kddcup99/kddcup.data_10_percent.gz\", \"kddcup.data_10_percent.gz\")"
      ],
      "execution_count": 0,
      "outputs": []
    },
    {
      "cell_type": "code",
      "metadata": {
        "id": "jBggvgN-BgF9",
        "colab_type": "code",
        "outputId": "a3a96582-22ed-476d-86aa-32ff0c4ec2c6",
        "colab": {
          "base_uri": "https://localhost:8080/",
          "height": 34
        }
      },
      "source": [
        "data_file = \"./kddcup.data_10_percent.gz\"\n",
        "raw_data = sc.textFile(data_file)\n",
        "print (\"Train data size is \", raw_data.count())"
      ],
      "execution_count": 0,
      "outputs": [
        {
          "output_type": "stream",
          "text": [
            "Train data size is  494021\n"
          ],
          "name": "stdout"
        }
      ]
    },
    {
      "cell_type": "code",
      "metadata": {
        "id": "bx5rnrqjCaXC",
        "colab_type": "code",
        "colab": {}
      },
      "source": [
        "ft = urllib.request.urlretrieve(\"http://kdd.ics.uci.edu/databases/kddcup99/corrected.gz\", \"corrected.gz\")"
      ],
      "execution_count": 0,
      "outputs": []
    },
    {
      "cell_type": "code",
      "metadata": {
        "id": "kXHqhOM0BgAm",
        "colab_type": "code",
        "outputId": "67cafe99-c6d5-49cd-80b6-cf2fca98a745",
        "colab": {
          "base_uri": "https://localhost:8080/",
          "height": 34
        }
      },
      "source": [
        "test_data_file = \"./corrected.gz\"\n",
        "test_raw_data = sc.textFile(test_data_file)\n",
        "\n",
        "print (\"Test data size is \", test_raw_data.count())"
      ],
      "execution_count": 0,
      "outputs": [
        {
          "output_type": "stream",
          "text": [
            "Test data size is  311029\n"
          ],
          "name": "stdout"
        }
      ]
    },
    {
      "cell_type": "code",
      "metadata": {
        "id": "DBzaTzQhBgAE",
        "colab_type": "code",
        "colab": {}
      },
      "source": [
        "# We are interested in detecting network attacks in general. We don't need to detect which type of attack we are dealing with. \n",
        "# Therefore we will tag each network interaction as non attack (i.e. 'normal' tag) or attack (i.e. anything else but 'normal').\n",
        "\n",
        "from pyspark.mllib.regression import LabeledPoint\n",
        "from numpy import array\n",
        "\n",
        "def parse_interaction(line):\n",
        "    line_split = line.split(\",\")\n",
        "    # leave_out = [1,2,3,41]\n",
        "    clean_line_split = line_split[0:1]+line_split[4:41]\n",
        "    attack = 1.0\n",
        "    if line_split[41]=='normal.':\n",
        "        attack = 0.0\n",
        "    return LabeledPoint(attack, array([float(x) for x in clean_line_split]))"
      ],
      "execution_count": 0,
      "outputs": []
    },
    {
      "cell_type": "code",
      "metadata": {
        "id": "8ocIUg_IBf7C",
        "colab_type": "code",
        "colab": {}
      },
      "source": [
        "# processing our training data file.\n",
        "training_data = raw_data.map(parse_interaction)"
      ],
      "execution_count": 0,
      "outputs": []
    },
    {
      "cell_type": "code",
      "metadata": {
        "id": "-ITgiR2aBf6g",
        "colab_type": "code",
        "colab": {}
      },
      "source": [
        "# processing our test data file.\n",
        "test_data = test_raw_data.map(parse_interaction)"
      ],
      "execution_count": 0,
      "outputs": []
    },
    {
      "cell_type": "code",
      "metadata": {
        "id": "aNKlsQzwDshQ",
        "colab_type": "code",
        "colab": {}
      },
      "source": [
        "### Detecting network attacks using Logistic Regression"
      ],
      "execution_count": 0,
      "outputs": []
    },
    {
      "cell_type": "code",
      "metadata": {
        "id": "haG2Si3aBf1Q",
        "colab_type": "code",
        "outputId": "d7dd7a76-a5ae-4da0-bcef-cae194420fe6",
        "colab": {
          "base_uri": "https://localhost:8080/",
          "height": 34
        }
      },
      "source": [
        "# Logistic regression is widely used to predict a binary response. Spark implements two algorithms to solve logistic regression:\n",
        "# mini-batch gradient descent and L-BFGS. L-BFGS is recommended over mini-batch gradient descent for faster convergence.\n",
        "#Training a classifier\n",
        "from pyspark.mllib.classification import LogisticRegressionWithLBFGS\n",
        "from time import time\n",
        "\n",
        "# Build the model\n",
        "t0 = time()\n",
        "logit_model = LogisticRegressionWithLBFGS.train(training_data)\n",
        "tt = time() - t0\n",
        "\n",
        "print (\"Classifier trained in \",round(tt,3), \" seconds\")"
      ],
      "execution_count": 0,
      "outputs": [
        {
          "output_type": "stream",
          "text": [
            "Classifier trained in  75.412  seconds\n"
          ],
          "name": "stdout"
        }
      ]
    },
    {
      "cell_type": "code",
      "metadata": {
        "id": "AA2geI_SBf0o",
        "colab_type": "code",
        "colab": {}
      },
      "source": [
        "# To measure the classification error on our test data, we use map on the test_data RDD and the model to predict each test point class.\n",
        "labels_and_preds = test_data.map(lambda p: (p.label, logit_model.predict(p.features)))"
      ],
      "execution_count": 0,
      "outputs": []
    },
    {
      "cell_type": "code",
      "metadata": {
        "id": "UX78P_TODZYu",
        "colab_type": "code",
        "outputId": "45eb6b40-7944-4c55-e811-884bd38c017b",
        "colab": {
          "base_uri": "https://localhost:8080/",
          "height": 34
        }
      },
      "source": [
        "# Classification results are returned in pars, with the actual test label and the predicted one. \n",
        "# This is used to calculate the classification error by using filter and count as follows.\n",
        "t0 = time()\n",
        "test_accuracy = labels_and_preds.filter(lambda x : x[0] == x[1]).count() / float(test_data.count())\n",
        "tt = time() - t0\n",
        "\n",
        "print (\"Prediction made in \",round(tt,3),\" seconds. Test accuracy is \",round(test_accuracy,4))"
      ],
      "execution_count": 0,
      "outputs": [
        {
          "output_type": "stream",
          "text": [
            "Prediction made in  13.084  seconds. Test accuracy is  0.9049\n"
          ],
          "name": "stdout"
        }
      ]
    },
    {
      "cell_type": "code",
      "metadata": {
        "id": "7WoSXKplDZX9",
        "colab_type": "code",
        "colab": {}
      },
      "source": [
        "### Model selection"
      ],
      "execution_count": 0,
      "outputs": []
    },
    {
      "cell_type": "code",
      "metadata": {
        "id": "NwVi4FrrFCuV",
        "colab_type": "code",
        "colab": {}
      },
      "source": [
        "# Removing correlated variables i.e. dst_host_same_src_port_rate, (column 35),srv_serror_rate (column 25),srv_rerror_rate (column 27),\n",
        "# dst_host_srv_serror_rate (column 38),dst_host_srv_rerror_rate (column 40).\n",
        "\n",
        "def parse_interaction_corr(line):\n",
        "    line_split = line.split(\",\")\n",
        "    # leave_out = [1,2,3,25,27,35,38,40,41]\n",
        "    clean_line_split = line_split[0:1]+line_split[4:25]+line_split[26:27]+line_split[28:35]+line_split[36:38]+line_split[39:40]\n",
        "    attack = 1.0\n",
        "    if line_split[41]=='normal.':\n",
        "        attack = 0.0\n",
        "    return LabeledPoint(attack, array([float(x) for x in clean_line_split]))\n",
        "\n",
        "corr_reduced_training_data = raw_data.map(parse_interaction_corr)\n",
        "corr_reduced_test_data = test_raw_data.map(parse_interaction_corr)\n",
        "\n"
      ],
      "execution_count": 0,
      "outputs": []
    },
    {
      "cell_type": "code",
      "metadata": {
        "id": "5juddLB2FCpl",
        "colab_type": "code",
        "outputId": "b72cb756-da40-4e60-a02c-0d1efab13b4a",
        "colab": {
          "base_uri": "https://localhost:8080/",
          "height": 34
        }
      },
      "source": [
        "# Build the  new model\n",
        "t0 = time()\n",
        "logit_model_2 = LogisticRegressionWithLBFGS.train(corr_reduced_training_data)\n",
        "tt = time() - t0\n",
        "\n",
        "print (\"Classifier trained in \",round(tt,3),\" seconds\")"
      ],
      "execution_count": 0,
      "outputs": [
        {
          "output_type": "stream",
          "text": [
            "Classifier trained in  64.428  seconds\n"
          ],
          "name": "stdout"
        }
      ]
    },
    {
      "cell_type": "code",
      "metadata": {
        "id": "K0M4ufj2FCoh",
        "colab_type": "code",
        "outputId": "d6b38c38-4f8c-456d-9c16-0c82427e69f9",
        "colab": {
          "base_uri": "https://localhost:8080/",
          "height": 34
        }
      },
      "source": [
        "# evaluating its accuracy on the test data.\n",
        "t0 = time()\n",
        "labels_and_preds = corr_reduced_test_data.map(lambda p: (p.label, logit_model_2.predict(p.features)))\n",
        "tt = time() - t0\n",
        "test_accuracy = labels_and_preds.filter(lambda x: x[0] == x[1]).count() / float(corr_reduced_test_data.count())\n",
        "\n",
        "\n",
        "print (\"Prediction made in \",round(tt,3),\"seconds. Test accuracy is \",round(test_accuracy,4))"
      ],
      "execution_count": 0,
      "outputs": [
        {
          "output_type": "stream",
          "text": [
            "Prediction made in  0.0 seconds. Test accuracy is  0.8158\n"
          ],
          "name": "stdout"
        }
      ]
    },
    {
      "cell_type": "code",
      "metadata": {
        "id": "zgcmrbkoJr0M",
        "colab_type": "code",
        "colab": {}
      },
      "source": [
        "### Using Hypothesis testing"
      ],
      "execution_count": 0,
      "outputs": []
    },
    {
      "cell_type": "code",
      "metadata": {
        "id": "ICeRuvR5FCjh",
        "colab_type": "code",
        "colab": {}
      },
      "source": [
        "# considering just features that either take boolean values or just a few different numeric values in our dataset.\n",
        "feature_names = [\"land\",\"wrong_fragment\",\n",
        "             \"urgent\",\"hot\",\"num_failed_logins\",\"logged_in\",\"num_compromised\",\n",
        "             \"root_shell\",\"su_attempted\",\"num_root\",\"num_file_creations\",\n",
        "             \"num_shells\",\"num_access_files\",\"num_outbound_cmds\",\n",
        "             \"is_hot_login\",\"is_guest_login\",\"count\",\"srv_count\",\"serror_rate\",\n",
        "             \"srv_serror_rate\",\"rerror_rate\",\"srv_rerror_rate\",\"same_srv_rate\",\n",
        "             \"diff_srv_rate\",\"srv_diff_host_rate\",\"dst_host_count\",\"dst_host_srv_count\",\n",
        "             \"dst_host_same_srv_rate\",\"dst_host_diff_srv_rate\",\"dst_host_same_src_port_rate\",\n",
        "             \"dst_host_srv_diff_host_rate\",\"dst_host_serror_rate\",\"dst_host_srv_serror_rate\",\n",
        "             \"dst_host_rerror_rate\",\"dst_host_srv_rerror_rate\"]"
      ],
      "execution_count": 0,
      "outputs": []
    },
    {
      "cell_type": "code",
      "metadata": {
        "id": "Mu1VRBKnFCic",
        "colab_type": "code",
        "colab": {}
      },
      "source": [
        "\n",
        "\n",
        "def parse_interaction_categorical(line):\n",
        "    line_split = line.split(\",\")\n",
        "    clean_line_split = line_split[6:41]\n",
        "    attack = 1.0\n",
        "    if line_split[41]=='normal.':\n",
        "        attack = 0.0\n",
        "    return LabeledPoint(attack, array([float(x) for x in clean_line_split]))"
      ],
      "execution_count": 0,
      "outputs": []
    },
    {
      "cell_type": "code",
      "metadata": {
        "id": "ZWIg8nswKnQj",
        "colab_type": "code",
        "colab": {}
      },
      "source": [
        "training_data_categorical = raw_data.map(parse_interaction_categorical)"
      ],
      "execution_count": 0,
      "outputs": []
    },
    {
      "cell_type": "code",
      "metadata": {
        "id": "pz3n7ZHkKr8O",
        "colab_type": "code",
        "outputId": "ecb03959-02f6-46ee-c220-ef45395593be",
        "colab": {
          "base_uri": "https://localhost:8080/",
          "height": 88
        }
      },
      "source": [
        "training_data_categorical.take(3)"
      ],
      "execution_count": 0,
      "outputs": [
        {
          "output_type": "execute_result",
          "data": {
            "text/plain": [
              "[LabeledPoint(0.0, [0.0,0.0,0.0,0.0,0.0,1.0,0.0,0.0,0.0,0.0,0.0,0.0,0.0,0.0,0.0,0.0,8.0,8.0,0.0,0.0,0.0,0.0,1.0,0.0,0.0,9.0,9.0,1.0,0.0,0.11,0.0,0.0,0.0,0.0,0.0]),\n",
              " LabeledPoint(0.0, [0.0,0.0,0.0,0.0,0.0,1.0,0.0,0.0,0.0,0.0,0.0,0.0,0.0,0.0,0.0,0.0,8.0,8.0,0.0,0.0,0.0,0.0,1.0,0.0,0.0,19.0,19.0,1.0,0.0,0.05,0.0,0.0,0.0,0.0,0.0]),\n",
              " LabeledPoint(0.0, [0.0,0.0,0.0,0.0,0.0,1.0,0.0,0.0,0.0,0.0,0.0,0.0,0.0,0.0,0.0,0.0,8.0,8.0,0.0,0.0,0.0,0.0,1.0,0.0,0.0,29.0,29.0,1.0,0.0,0.03,0.0,0.0,0.0,0.0,0.0])]"
            ]
          },
          "metadata": {
            "tags": []
          },
          "execution_count": 28
        }
      ]
    },
    {
      "cell_type": "code",
      "metadata": {
        "id": "NHiL4iOVDZTT",
        "colab_type": "code",
        "colab": {}
      },
      "source": [
        "from pyspark.mllib.stat import Statistics\n",
        "\n",
        "chi = Statistics.chiSqTest(training_data_categorical)"
      ],
      "execution_count": 0,
      "outputs": []
    },
    {
      "cell_type": "code",
      "metadata": {
        "id": "Mp0noJhvDZSZ",
        "colab_type": "code",
        "outputId": "0826a182-1695-4239-ccf4-501a32878abf",
        "colab": {
          "base_uri": "https://localhost:8080/",
          "height": 1134
        }
      },
      "source": [
        "# check the resulting values after putting them into a Pandas data frame\n",
        "import pandas as pd\n",
        "pd.set_option('display.max_colwidth', 30)\n",
        "\n",
        "records = [(result.statistic, result.pValue) for result in chi]\n",
        "\n",
        "chi_df = pd.DataFrame(data=records, index= feature_names, columns=[\"Statistic\",\"p-value\"])\n",
        "\n",
        "chi_df"
      ],
      "execution_count": 0,
      "outputs": [
        {
          "output_type": "execute_result",
          "data": {
            "text/html": [
              "<div>\n",
              "<style scoped>\n",
              "    .dataframe tbody tr th:only-of-type {\n",
              "        vertical-align: middle;\n",
              "    }\n",
              "\n",
              "    .dataframe tbody tr th {\n",
              "        vertical-align: top;\n",
              "    }\n",
              "\n",
              "    .dataframe thead th {\n",
              "        text-align: right;\n",
              "    }\n",
              "</style>\n",
              "<table border=\"1\" class=\"dataframe\">\n",
              "  <thead>\n",
              "    <tr style=\"text-align: right;\">\n",
              "      <th></th>\n",
              "      <th>Statistic</th>\n",
              "      <th>p-value</th>\n",
              "    </tr>\n",
              "  </thead>\n",
              "  <tbody>\n",
              "    <tr>\n",
              "      <th>land</th>\n",
              "      <td>3.191410</td>\n",
              "      <td>7.402616e-02</td>\n",
              "    </tr>\n",
              "    <tr>\n",
              "      <th>wrong_fragment</th>\n",
              "      <td>304.309631</td>\n",
              "      <td>0.000000e+00</td>\n",
              "    </tr>\n",
              "    <tr>\n",
              "      <th>urgent</th>\n",
              "      <td>4.814020</td>\n",
              "      <td>1.859331e-01</td>\n",
              "    </tr>\n",
              "    <tr>\n",
              "      <th>hot</th>\n",
              "      <td>1939.879629</td>\n",
              "      <td>0.000000e+00</td>\n",
              "    </tr>\n",
              "    <tr>\n",
              "      <th>num_failed_logins</th>\n",
              "      <td>24.935016</td>\n",
              "      <td>1.434174e-04</td>\n",
              "    </tr>\n",
              "    <tr>\n",
              "      <th>logged_in</th>\n",
              "      <td>312455.306674</td>\n",
              "      <td>0.000000e+00</td>\n",
              "    </tr>\n",
              "    <tr>\n",
              "      <th>num_compromised</th>\n",
              "      <td>635.549407</td>\n",
              "      <td>0.000000e+00</td>\n",
              "    </tr>\n",
              "    <tr>\n",
              "      <th>root_shell</th>\n",
              "      <td>17.030507</td>\n",
              "      <td>3.678404e-05</td>\n",
              "    </tr>\n",
              "    <tr>\n",
              "      <th>su_attempted</th>\n",
              "      <td>39.839347</td>\n",
              "      <td>2.233550e-09</td>\n",
              "    </tr>\n",
              "    <tr>\n",
              "      <th>num_root</th>\n",
              "      <td>2277.286802</td>\n",
              "      <td>0.000000e+00</td>\n",
              "    </tr>\n",
              "    <tr>\n",
              "      <th>num_file_creations</th>\n",
              "      <td>821.828337</td>\n",
              "      <td>0.000000e+00</td>\n",
              "    </tr>\n",
              "    <tr>\n",
              "      <th>num_shells</th>\n",
              "      <td>149.023961</td>\n",
              "      <td>0.000000e+00</td>\n",
              "    </tr>\n",
              "    <tr>\n",
              "      <th>num_access_files</th>\n",
              "      <td>1753.117284</td>\n",
              "      <td>0.000000e+00</td>\n",
              "    </tr>\n",
              "    <tr>\n",
              "      <th>num_outbound_cmds</th>\n",
              "      <td>0.000000</td>\n",
              "      <td>1.000000e+00</td>\n",
              "    </tr>\n",
              "    <tr>\n",
              "      <th>is_hot_login</th>\n",
              "      <td>0.000000</td>\n",
              "      <td>1.000000e+00</td>\n",
              "    </tr>\n",
              "    <tr>\n",
              "      <th>is_guest_login</th>\n",
              "      <td>515.383504</td>\n",
              "      <td>0.000000e+00</td>\n",
              "    </tr>\n",
              "    <tr>\n",
              "      <th>count</th>\n",
              "      <td>438656.520829</td>\n",
              "      <td>0.000000e+00</td>\n",
              "    </tr>\n",
              "    <tr>\n",
              "      <th>srv_count</th>\n",
              "      <td>221348.426646</td>\n",
              "      <td>0.000000e+00</td>\n",
              "    </tr>\n",
              "    <tr>\n",
              "      <th>serror_rate</th>\n",
              "      <td>26650.209505</td>\n",
              "      <td>0.000000e+00</td>\n",
              "    </tr>\n",
              "    <tr>\n",
              "      <th>srv_serror_rate</th>\n",
              "      <td>30009.256774</td>\n",
              "      <td>0.000000e+00</td>\n",
              "    </tr>\n",
              "    <tr>\n",
              "      <th>rerror_rate</th>\n",
              "      <td>747.695493</td>\n",
              "      <td>0.000000e+00</td>\n",
              "    </tr>\n",
              "    <tr>\n",
              "      <th>srv_rerror_rate</th>\n",
              "      <td>2227.301678</td>\n",
              "      <td>0.000000e+00</td>\n",
              "    </tr>\n",
              "    <tr>\n",
              "      <th>same_srv_rate</th>\n",
              "      <td>39218.869964</td>\n",
              "      <td>0.000000e+00</td>\n",
              "    </tr>\n",
              "    <tr>\n",
              "      <th>diff_srv_rate</th>\n",
              "      <td>38481.946673</td>\n",
              "      <td>0.000000e+00</td>\n",
              "    </tr>\n",
              "    <tr>\n",
              "      <th>srv_diff_host_rate</th>\n",
              "      <td>135374.306837</td>\n",
              "      <td>0.000000e+00</td>\n",
              "    </tr>\n",
              "    <tr>\n",
              "      <th>dst_host_count</th>\n",
              "      <td>245057.453656</td>\n",
              "      <td>0.000000e+00</td>\n",
              "    </tr>\n",
              "    <tr>\n",
              "      <th>dst_host_srv_count</th>\n",
              "      <td>136994.054761</td>\n",
              "      <td>0.000000e+00</td>\n",
              "    </tr>\n",
              "    <tr>\n",
              "      <th>dst_host_same_srv_rate</th>\n",
              "      <td>120218.197644</td>\n",
              "      <td>0.000000e+00</td>\n",
              "    </tr>\n",
              "    <tr>\n",
              "      <th>dst_host_diff_srv_rate</th>\n",
              "      <td>129405.698322</td>\n",
              "      <td>0.000000e+00</td>\n",
              "    </tr>\n",
              "    <tr>\n",
              "      <th>dst_host_same_src_port_rate</th>\n",
              "      <td>285015.925542</td>\n",
              "      <td>0.000000e+00</td>\n",
              "    </tr>\n",
              "    <tr>\n",
              "      <th>dst_host_srv_diff_host_rate</th>\n",
              "      <td>221692.890239</td>\n",
              "      <td>0.000000e+00</td>\n",
              "    </tr>\n",
              "    <tr>\n",
              "      <th>dst_host_serror_rate</th>\n",
              "      <td>37825.124327</td>\n",
              "      <td>0.000000e+00</td>\n",
              "    </tr>\n",
              "    <tr>\n",
              "      <th>dst_host_srv_serror_rate</th>\n",
              "      <td>42916.904442</td>\n",
              "      <td>0.000000e+00</td>\n",
              "    </tr>\n",
              "    <tr>\n",
              "      <th>dst_host_rerror_rate</th>\n",
              "      <td>8805.320953</td>\n",
              "      <td>0.000000e+00</td>\n",
              "    </tr>\n",
              "    <tr>\n",
              "      <th>dst_host_srv_rerror_rate</th>\n",
              "      <td>21137.696659</td>\n",
              "      <td>0.000000e+00</td>\n",
              "    </tr>\n",
              "  </tbody>\n",
              "</table>\n",
              "</div>"
            ],
            "text/plain": [
              "                                 Statistic       p-value\n",
              "land                              3.191410  7.402616e-02\n",
              "wrong_fragment                  304.309631  0.000000e+00\n",
              "urgent                            4.814020  1.859331e-01\n",
              "hot                            1939.879629  0.000000e+00\n",
              "num_failed_logins                24.935016  1.434174e-04\n",
              "logged_in                    312455.306674  0.000000e+00\n",
              "num_compromised                 635.549407  0.000000e+00\n",
              "root_shell                       17.030507  3.678404e-05\n",
              "su_attempted                     39.839347  2.233550e-09\n",
              "num_root                       2277.286802  0.000000e+00\n",
              "num_file_creations              821.828337  0.000000e+00\n",
              "num_shells                      149.023961  0.000000e+00\n",
              "num_access_files               1753.117284  0.000000e+00\n",
              "num_outbound_cmds                 0.000000  1.000000e+00\n",
              "is_hot_login                      0.000000  1.000000e+00\n",
              "is_guest_login                  515.383504  0.000000e+00\n",
              "count                        438656.520829  0.000000e+00\n",
              "srv_count                    221348.426646  0.000000e+00\n",
              "serror_rate                   26650.209505  0.000000e+00\n",
              "srv_serror_rate               30009.256774  0.000000e+00\n",
              "rerror_rate                     747.695493  0.000000e+00\n",
              "srv_rerror_rate                2227.301678  0.000000e+00\n",
              "same_srv_rate                 39218.869964  0.000000e+00\n",
              "diff_srv_rate                 38481.946673  0.000000e+00\n",
              "srv_diff_host_rate           135374.306837  0.000000e+00\n",
              "dst_host_count               245057.453656  0.000000e+00\n",
              "dst_host_srv_count           136994.054761  0.000000e+00\n",
              "dst_host_same_srv_rate       120218.197644  0.000000e+00\n",
              "dst_host_diff_srv_rate       129405.698322  0.000000e+00\n",
              "dst_host_same_src_port_rate  285015.925542  0.000000e+00\n",
              "dst_host_srv_diff_host_rate  221692.890239  0.000000e+00\n",
              "dst_host_serror_rate          37825.124327  0.000000e+00\n",
              "dst_host_srv_serror_rate      42916.904442  0.000000e+00\n",
              "dst_host_rerror_rate           8805.320953  0.000000e+00\n",
              "dst_host_srv_rerror_rate      21137.696659  0.000000e+00"
            ]
          },
          "metadata": {
            "tags": []
          },
          "execution_count": 30
        }
      ]
    },
    {
      "cell_type": "code",
      "metadata": {
        "id": "lhuRFrHdDZOK",
        "colab_type": "code",
        "colab": {}
      },
      "source": [
        "# Evaluating the new model"
      ],
      "execution_count": 0,
      "outputs": []
    },
    {
      "cell_type": "code",
      "metadata": {
        "id": "h6RO28AvDZNJ",
        "colab_type": "code",
        "colab": {}
      },
      "source": [
        "def parse_interaction_chi(line):\n",
        "    line_split = line.split(\",\")\n",
        "    # leave_out = [1,2,3,6,19,41]\n",
        "    clean_line_split = line_split[0:1] + line_split[4:6] + line_split[7:19] + line_split[20:41]\n",
        "    attack = 1.0\n",
        "    if line_split[41]=='normal.':\n",
        "        attack = 0.0\n",
        "    return LabeledPoint(attack, array([float(x) for x in clean_line_split]))\n",
        "\n",
        "training_data_chi = raw_data.map(parse_interaction_chi)\n",
        "test_data_chi = test_raw_data.map(parse_interaction_chi)"
      ],
      "execution_count": 0,
      "outputs": []
    },
    {
      "cell_type": "code",
      "metadata": {
        "id": "IYSi1Aw6DZJC",
        "colab_type": "code",
        "outputId": "67fd0b4c-3c57-4753-d1c7-8bac6cbc51c0",
        "colab": {
          "base_uri": "https://localhost:8080/",
          "height": 34
        }
      },
      "source": [
        "# Building the model again\n",
        "t0 = time()\n",
        "logit_model_chi = LogisticRegressionWithLBFGS.train(training_data_chi)\n",
        "tt = time() - t0\n",
        "\n",
        "print (\"Classifier trained in \",round(tt,3),\" seconds\")"
      ],
      "execution_count": 0,
      "outputs": [
        {
          "output_type": "stream",
          "text": [
            "Classifier trained in  147.56  seconds\n"
          ],
          "name": "stdout"
        }
      ]
    },
    {
      "cell_type": "code",
      "metadata": {
        "id": "WVmwJqJTDZIO",
        "colab_type": "code",
        "outputId": "405f895d-f88c-48d1-d743-ac11e11118e8",
        "colab": {
          "base_uri": "https://localhost:8080/",
          "height": 34
        }
      },
      "source": [
        "t0 = time()\n",
        "labels_and_preds = test_data_chi.map(lambda p: (p.label, logit_model_chi.predict(p.features)))\n",
        "tt = time() - t0\n",
        "test_accuracy = labels_and_preds.filter(lambda x: x[0] == x[1]).count() / float(test_data_chi.count())\n",
        "\n",
        "print (\"Prediction made in \",round(tt,3),\" seconds. Test accuracy is \", round(test_accuracy,4))"
      ],
      "execution_count": 0,
      "outputs": [
        {
          "output_type": "stream",
          "text": [
            "Prediction made in  0.0  seconds. Test accuracy is  0.9031\n"
          ],
          "name": "stdout"
        }
      ]
    }
  ]
}